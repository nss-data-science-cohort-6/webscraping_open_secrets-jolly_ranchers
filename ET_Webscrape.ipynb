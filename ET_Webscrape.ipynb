{
 "cells": [
  {
   "cell_type": "code",
   "execution_count": 1,
   "id": "228d7d26",
   "metadata": {},
   "outputs": [],
   "source": [
    "import requests"
   ]
  },
  {
   "cell_type": "code",
   "execution_count": 2,
   "id": "94d0585c",
   "metadata": {},
   "outputs": [],
   "source": [
    "URL = 'https://www.opensecrets.org/races/candidates?cycle=2020&id=TN07&spec=N'\n",
    "response = requests.get(URL)"
   ]
  },
  {
   "cell_type": "code",
   "execution_count": 3,
   "id": "75cda872",
   "metadata": {},
   "outputs": [
    {
     "data": {
      "text/plain": [
       "requests.models.Response"
      ]
     },
     "execution_count": 3,
     "metadata": {},
     "output_type": "execute_result"
    }
   ],
   "source": [
    "type(response)"
   ]
  },
  {
   "cell_type": "code",
   "execution_count": 4,
   "id": "e5ec4cbf",
   "metadata": {},
   "outputs": [
    {
     "data": {
      "text/plain": [
       "200"
      ]
     },
     "execution_count": 4,
     "metadata": {},
     "output_type": "execute_result"
    }
   ],
   "source": [
    "response.status_code"
   ]
  },
  {
   "cell_type": "code",
   "execution_count": 5,
   "id": "98ed440a",
   "metadata": {},
   "outputs": [],
   "source": [
    "from bs4 import BeautifulSoup as BS"
   ]
  },
  {
   "cell_type": "code",
   "execution_count": 6,
   "id": "775f4015",
   "metadata": {},
   "outputs": [],
   "source": [
    "soup = BS(response.text)"
   ]
  },
  {
   "cell_type": "code",
   "execution_count": 7,
   "id": "fa006e17",
   "metadata": {},
   "outputs": [],
   "source": [
    "import requests\n",
    "from bs4 import BeautifulSoup\n",
    "\n",
    "r = requests.get('https://www.opensecrets.org/races/candidates?cycle=2020&id=TN07&spec=N')\n",
    "soup = BeautifulSoup(r.text,'html.parser')"
   ]
  },
  {
   "cell_type": "markdown",
   "id": "c01d9c26",
   "metadata": {},
   "source": [
    "**Find the District Number**"
   ]
  },
  {
   "cell_type": "code",
   "execution_count": 21,
   "id": "7ee298c7",
   "metadata": {},
   "outputs": [
    {
     "data": {
      "text/plain": [
       "'Tennessee District 07 2020 Race'"
      ]
     },
     "execution_count": 21,
     "metadata": {},
     "output_type": "execute_result"
    }
   ],
   "source": [
    "#Finds the district number (Ex. district 07)\n",
    "district = soup.find('h1',attrs = {'class':'Hero-title'})\n",
    "district.text"
   ]
  },
  {
   "cell_type": "markdown",
   "id": "35417c87",
   "metadata": {},
   "source": [
    "**Whether the candidate was an incumbent**"
   ]
  },
  {
   "cell_type": "code",
   "execution_count": 10,
   "id": "5ba0da38",
   "metadata": {},
   "outputs": [
    {
     "data": {
      "text/plain": [
       "[<div class=\"Members--list-item\">\n",
       " <div class=\"Members--bio u-richtext\">\n",
       " <h2><strong>\n",
       " <a href=\"/members-of-congress/mark-green/summary?cid=N00041873\">Mark Green (R) • <i>Incumbent</i></a>\n",
       "  • <span class=\"winner\"><i>Winner</i></span> <br/>\n",
       " <span class=\"Members--vote-pct\">(69.9% of vote)</span>\n",
       " </strong></h2>\n",
       " </div>\n",
       " <table border=\"0\" cellpadding=\"1\" cellspacing=\"0\" class=\"Members--table\">\n",
       " <tr>\n",
       " <td>Raised:</td>\n",
       " <td class=\"Members--number\">$1,194,960</td>\n",
       " <td width=\"33%\">\n",
       " <div class=\"Members--bar-wrapper\">\n",
       " <div class=\"Members--bar Members--bar-indivs\" style=\"width:100.0%;\"></div>\n",
       " </div>\n",
       " </td>\n",
       " </tr>\n",
       " <tr>\n",
       " <td>Spent:</td>\n",
       " <td class=\"Members--number\">$935,487</td>\n",
       " <td width=\"33%\">\n",
       " <div class=\"Members--bar-wrapper\">\n",
       " <div class=\"Members--bar Members--bar-indivs\" style=\"width:78.28599300862228%;\"></div>\n",
       " </div>\n",
       " </td>\n",
       " </tr>\n",
       " <tr>\n",
       " <td>Cash on Hand:</td>\n",
       " <td class=\"Members--number\">$287,889</td>\n",
       " <td width=\"33%\">\n",
       " <div class=\"Members--bar-wrapper\">\n",
       " <div class=\"Members--bar Members--bar-indivs\" style=\"width:24.091888997800908%;\"></div>\n",
       " </div>\n",
       " </td>\n",
       " </tr>\n",
       " </table>\n",
       " <div class=\"u-richtext\">\n",
       " <h3>Source of Funds</h3>\n",
       " <table>\n",
       " <thead>\n",
       " <tr>\n",
       " <th scope=\"col\">Type of Contribution</th>\n",
       " <th class=\"number\" scope=\"col\">Amount</th>\n",
       " <th class=\"number\" scope=\"col\">Percentage</th>\n",
       " </tr>\n",
       " </thead>\n",
       " <tbody>\n",
       " <tr>\n",
       " <td>Small Individual Contributions (≤ $200)</td>\n",
       " <td class=\"number\">$0</td>\n",
       " <td class=\"number\">0.00%</td>\n",
       " </tr>\n",
       " <tr>\n",
       " <td>Large Individual Contributions</td>\n",
       " <td class=\"number\">$819,151</td>\n",
       " <td class=\"number\">68.55%</td>\n",
       " </tr>\n",
       " <tr>\n",
       " <td>PAC Contributions*</td>\n",
       " <td class=\"number\">$171,900</td>\n",
       " <td class=\"number\">14.39%</td>\n",
       " </tr>\n",
       " <tr>\n",
       " <td>Candidate self-financing</td>\n",
       " <td class=\"number\">$0</td>\n",
       " <td class=\"number\">0.00%</td>\n",
       " </tr>\n",
       " <tr>\n",
       " <td>Other</td>\n",
       " <td class=\"number\">$203,909</td>\n",
       " <td class=\"number\">17.06%</td>\n",
       " </tr>\n",
       " </tbody>\n",
       " </table>\n",
       " <h3>Quality of Disclosure</h3>\n",
       " <table>\n",
       " <thead>\n",
       " <tr>\n",
       " <th scope=\"col\">Type of Disclosure</th>\n",
       " <th class=\"number\" scope=\"col\">Amount</th>\n",
       " <th class=\"number\" scope=\"col\">Percentage</th>\n",
       " </tr>\n",
       " </thead>\n",
       " <tbody>\n",
       " <tr>\n",
       " <td nowrap=\"\">Full Disclosure</td>\n",
       " <td class=\"number\">$1,061,024</td>\n",
       " <td class=\"number\">98.64%</td>\n",
       " </tr>\n",
       " <tr>\n",
       " <td nowrap=\"\">Incomplete Disclosure</td>\n",
       " <td class=\"number\">$2,676</td>\n",
       " <td class=\"number\">0.25%</td>\n",
       " </tr>\n",
       " <tr>\n",
       " <td nowrap=\"\">No Disclosure</td>\n",
       " <td class=\"number\">$11,928</td>\n",
       " <td class=\"number\">1.11%</td>\n",
       " </tr>\n",
       " </tbody>\n",
       " </table>\n",
       " </div>\n",
       " </div>,\n",
       " <div class=\"Members--list-item\">\n",
       " <div class=\"Members--bio u-richtext\">\n",
       " <h2><strong>\n",
       " \t\t\t\t\t\t\t\t\t\tKiran Sreepada (D)\n",
       " \t\t\t\t\t\t\t\t\t\t<br/>\n",
       " <span class=\"Members--vote-pct\">(27.3% of vote)</span>\n",
       " </strong></h2>\n",
       " </div>\n",
       " <table border=\"0\" cellpadding=\"1\" cellspacing=\"0\" class=\"Members--table\">\n",
       " <tr>\n",
       " <td>Raised:</td>\n",
       " <td class=\"Members--number\">$206,644</td>\n",
       " <td width=\"33%\">\n",
       " <div class=\"Members--bar-wrapper\">\n",
       " <div class=\"Members--bar Members--bar-indivs\" style=\"width:17.292980411310175%;\"></div>\n",
       " </div>\n",
       " </td>\n",
       " </tr>\n",
       " <tr>\n",
       " <td>Spent:</td>\n",
       " <td class=\"Members--number\">$207,191</td>\n",
       " <td width=\"33%\">\n",
       " <div class=\"Members--bar-wrapper\">\n",
       " <div class=\"Members--bar Members--bar-indivs\" style=\"width:17.33873087868756%;\"></div>\n",
       " </div>\n",
       " </td>\n",
       " </tr>\n",
       " <tr>\n",
       " <td>Cash on Hand:</td>\n",
       " <td class=\"Members--number\">$0</td>\n",
       " <td width=\"33%\">\n",
       " <div class=\"Members--bar-wrapper\">\n",
       " <div class=\"Members--bar Members--bar-indivs\" style=\"width:0.0%;\"></div>\n",
       " </div>\n",
       " </td>\n",
       " </tr>\n",
       " </table>\n",
       " <div class=\"u-richtext\">\n",
       " <h3>Source of Funds</h3>\n",
       " <table>\n",
       " <thead>\n",
       " <tr>\n",
       " <th scope=\"col\">Type of Contribution</th>\n",
       " <th class=\"number\" scope=\"col\">Amount</th>\n",
       " <th class=\"number\" scope=\"col\">Percentage</th>\n",
       " </tr>\n",
       " </thead>\n",
       " <tbody>\n",
       " <tr>\n",
       " <td>Small Individual Contributions (≤ $200)</td>\n",
       " <td class=\"number\">$23,515</td>\n",
       " <td class=\"number\">11.38%</td>\n",
       " </tr>\n",
       " <tr>\n",
       " <td>Large Individual Contributions</td>\n",
       " <td class=\"number\">$179,130</td>\n",
       " <td class=\"number\">86.69%</td>\n",
       " </tr>\n",
       " <tr>\n",
       " <td>PAC Contributions*</td>\n",
       " <td class=\"number\">$4,000</td>\n",
       " <td class=\"number\">1.94%</td>\n",
       " </tr>\n",
       " <tr>\n",
       " <td>Candidate self-financing</td>\n",
       " <td class=\"number\">$0</td>\n",
       " <td class=\"number\">0.00%</td>\n",
       " </tr>\n",
       " <tr>\n",
       " <td>Other</td>\n",
       " <td class=\"number\">$0</td>\n",
       " <td class=\"number\">0.00%</td>\n",
       " </tr>\n",
       " </tbody>\n",
       " </table>\n",
       " <h3>Quality of Disclosure</h3>\n",
       " <table>\n",
       " <thead>\n",
       " <tr>\n",
       " <th scope=\"col\">Type of Disclosure</th>\n",
       " <th class=\"number\" scope=\"col\">Amount</th>\n",
       " <th class=\"number\" scope=\"col\">Percentage</th>\n",
       " </tr>\n",
       " </thead>\n",
       " <tbody>\n",
       " <tr>\n",
       " <td nowrap=\"\">Full Disclosure</td>\n",
       " <td class=\"number\">$148,383</td>\n",
       " <td class=\"number\">95.46%</td>\n",
       " </tr>\n",
       " <tr>\n",
       " <td nowrap=\"\">Incomplete Disclosure</td>\n",
       " <td class=\"number\">$10</td>\n",
       " <td class=\"number\">0.01%</td>\n",
       " </tr>\n",
       " <tr>\n",
       " <td nowrap=\"\">No Disclosure</td>\n",
       " <td class=\"number\">$7,051</td>\n",
       " <td class=\"number\">4.54%</td>\n",
       " </tr>\n",
       " </tbody>\n",
       " </table>\n",
       " </div>\n",
       " </div>,\n",
       " <div class=\"Members--list-item\">\n",
       " <div class=\"Members--bio u-richtext\">\n",
       " <h2><strong>\n",
       " \t\t\t\t\t\t\t\t\t\tRonald Brown (I)\n",
       " \t\t\t\t\t\t\t\t\t\t<br/>\n",
       " <span class=\"Members--vote-pct\">(2.2% of vote)</span>\n",
       " </strong></h2>\n",
       " </div>\n",
       " <table border=\"0\" cellpadding=\"1\" cellspacing=\"0\" class=\"Members--table\">\n",
       " <tr>\n",
       " <td>Raised:</td>\n",
       " <td class=\"Members--number\">$1,750</td>\n",
       " <td width=\"33%\">\n",
       " <div class=\"Members--bar-wrapper\">\n",
       " <div class=\"Members--bar Members--bar-indivs\" style=\"width:0.14644835908253936%;\"></div>\n",
       " </div>\n",
       " </td>\n",
       " </tr>\n",
       " <tr>\n",
       " <td>Spent:</td>\n",
       " <td class=\"Members--number\">$0</td>\n",
       " <td width=\"33%\">\n",
       " <div class=\"Members--bar-wrapper\">\n",
       " <div class=\"Members--bar Members--bar-indivs\" style=\"width:0.0%;\"></div>\n",
       " </div>\n",
       " </td>\n",
       " </tr>\n",
       " <tr>\n",
       " <td>Cash on Hand:</td>\n",
       " <td class=\"Members--number\">$9,006</td>\n",
       " <td width=\"33%\">\n",
       " <div class=\"Members--bar-wrapper\">\n",
       " <div class=\"Members--bar Members--bar-indivs\" style=\"width:0.7536650982270569%;\"></div>\n",
       " </div>\n",
       " </td>\n",
       " </tr>\n",
       " </table>\n",
       " <div class=\"u-richtext\">\n",
       " <h3>Source of Funds</h3>\n",
       " <table>\n",
       " <thead>\n",
       " <tr>\n",
       " <th scope=\"col\">Type of Contribution</th>\n",
       " <th class=\"number\" scope=\"col\">Amount</th>\n",
       " <th class=\"number\" scope=\"col\">Percentage</th>\n",
       " </tr>\n",
       " </thead>\n",
       " <tbody>\n",
       " <tr>\n",
       " <td>Small Individual Contributions (≤ $200)</td>\n",
       " <td class=\"number\">$1,450</td>\n",
       " <td class=\"number\">82.86%</td>\n",
       " </tr>\n",
       " <tr>\n",
       " <td>Large Individual Contributions</td>\n",
       " <td class=\"number\">$300</td>\n",
       " <td class=\"number\">17.14%</td>\n",
       " </tr>\n",
       " <tr>\n",
       " <td>PAC Contributions*</td>\n",
       " <td class=\"number\">$0</td>\n",
       " <td class=\"number\">0.00%</td>\n",
       " </tr>\n",
       " <tr>\n",
       " <td>Candidate self-financing</td>\n",
       " <td class=\"number\">$0</td>\n",
       " <td class=\"number\">0.00%</td>\n",
       " </tr>\n",
       " <tr>\n",
       " <td>Other</td>\n",
       " <td class=\"number\">$0</td>\n",
       " <td class=\"number\">0.00%</td>\n",
       " </tr>\n",
       " </tbody>\n",
       " </table>\n",
       " <h3>Quality of Disclosure</h3>\n",
       " <table>\n",
       " <thead>\n",
       " <tr>\n",
       " <th scope=\"col\">Type of Disclosure</th>\n",
       " <th class=\"number\" scope=\"col\">Amount</th>\n",
       " <th class=\"number\" scope=\"col\">Percentage</th>\n",
       " </tr>\n",
       " </thead>\n",
       " <tbody>\n",
       " <tr>\n",
       " <td nowrap=\"\">Full Disclosure</td>\n",
       " <td class=\"number\">$300</td>\n",
       " <td class=\"number\">100.00%</td>\n",
       " </tr>\n",
       " <tr>\n",
       " <td nowrap=\"\">Incomplete Disclosure</td>\n",
       " <td class=\"number\">$0</td>\n",
       " <td class=\"number\">0.00%</td>\n",
       " </tr>\n",
       " <tr>\n",
       " <td nowrap=\"\">No Disclosure</td>\n",
       " <td class=\"number\">$0</td>\n",
       " <td class=\"number\">0.00%</td>\n",
       " </tr>\n",
       " </tbody>\n",
       " </table>\n",
       " </div>\n",
       " </div>,\n",
       " <div class=\"Members--list-item\">\n",
       " <div class=\"Members--bio u-richtext\">\n",
       " <h2><strong>\n",
       " \t\t\t\t\t\t\t\t\t\tScott Vieira Jr (I)\n",
       " \t\t\t\t\t\t\t\t\t\t<br/>\n",
       " <span class=\"Members--vote-pct\">(0.6% of vote)</span>\n",
       " </strong></h2>\n",
       " </div>\n",
       " <table border=\"0\" cellpadding=\"1\" cellspacing=\"0\" class=\"Members--table\">\n",
       " <tr>\n",
       " <td>Raised:</td>\n",
       " <td class=\"Members--number\">$655</td>\n",
       " <td width=\"33%\">\n",
       " <div class=\"Members--bar-wrapper\">\n",
       " <div class=\"Members--bar Members--bar-indivs\" style=\"width:0.05485286053018976%;\"></div>\n",
       " </div>\n",
       " </td>\n",
       " </tr>\n",
       " <tr>\n",
       " <td>Spent:</td>\n",
       " <td class=\"Members--number\">$1,049</td>\n",
       " <td width=\"33%\">\n",
       " <div class=\"Members--bar-wrapper\">\n",
       " <div class=\"Members--bar Members--bar-indivs\" style=\"width:0.08774432513236191%;\"></div>\n",
       " </div>\n",
       " </td>\n",
       " </tr>\n",
       " <tr>\n",
       " <td>Cash on Hand:</td>\n",
       " <td class=\"Members--number\">-$197</td>\n",
       " <td width=\"33%\">\n",
       " <div class=\"Members--bar-wrapper\">\n",
       " <div class=\"Members--bar Members--bar-indivs\" style=\"width:-0.016445732301086077%;\"></div>\n",
       " </div>\n",
       " </td>\n",
       " </tr>\n",
       " </table>\n",
       " <div class=\"u-richtext\">\n",
       " <h3>Source of Funds</h3>\n",
       " <table>\n",
       " <thead>\n",
       " <tr>\n",
       " <th scope=\"col\">Type of Contribution</th>\n",
       " <th class=\"number\" scope=\"col\">Amount</th>\n",
       " <th class=\"number\" scope=\"col\">Percentage</th>\n",
       " </tr>\n",
       " </thead>\n",
       " <tbody>\n",
       " <tr>\n",
       " <td>Small Individual Contributions (≤ $200)</td>\n",
       " <td class=\"number\">$45</td>\n",
       " <td class=\"number\">6.87%</td>\n",
       " </tr>\n",
       " <tr>\n",
       " <td>Large Individual Contributions</td>\n",
       " <td class=\"number\">$0</td>\n",
       " <td class=\"number\">0.00%</td>\n",
       " </tr>\n",
       " <tr>\n",
       " <td>PAC Contributions*</td>\n",
       " <td class=\"number\">$10</td>\n",
       " <td class=\"number\">1.53%</td>\n",
       " </tr>\n",
       " <tr>\n",
       " <td>Candidate self-financing</td>\n",
       " <td class=\"number\">$35</td>\n",
       " <td class=\"number\">5.34%</td>\n",
       " </tr>\n",
       " <tr>\n",
       " <td>Other</td>\n",
       " <td class=\"number\">$565</td>\n",
       " <td class=\"number\">86.27%</td>\n",
       " </tr>\n",
       " </tbody>\n",
       " </table>\n",
       " <h3>Quality of Disclosure</h3>\n",
       " <table>\n",
       " <thead>\n",
       " <tr>\n",
       " <th scope=\"col\">Type of Disclosure</th>\n",
       " <th class=\"number\" scope=\"col\">Amount</th>\n",
       " <th class=\"number\" scope=\"col\">Percentage</th>\n",
       " </tr>\n",
       " </thead>\n",
       " <tbody>\n",
       " <tr>\n",
       " <td nowrap=\"\">Full Disclosure</td>\n",
       " <td class=\"number\">$386</td>\n",
       " <td class=\"number\">100.00%</td>\n",
       " </tr>\n",
       " <tr>\n",
       " <td nowrap=\"\">Incomplete Disclosure</td>\n",
       " <td class=\"number\">$0</td>\n",
       " <td class=\"number\">0.00%</td>\n",
       " </tr>\n",
       " <tr>\n",
       " <td nowrap=\"\">No Disclosure</td>\n",
       " <td class=\"number\">$0</td>\n",
       " <td class=\"number\">0.00%</td>\n",
       " </tr>\n",
       " </tbody>\n",
       " </table>\n",
       " </div>\n",
       " </div>]"
      ]
     },
     "execution_count": 10,
     "metadata": {},
     "output_type": "execute_result"
    }
   ],
   "source": [
    "#Find member blocks for each candidate\n",
    "members = soup.find_all('div',attrs = {'class':'Members--list-item'})\n",
    "members"
   ]
  },
  {
   "cell_type": "code",
   "execution_count": 98,
   "id": "419f19ff",
   "metadata": {},
   "outputs": [
    {
     "name": "stdout",
     "output_type": "stream",
     "text": [
      "[<div class=\"Members--bio u-richtext\">\n",
      "<h2><strong>\n",
      "<a href=\"/members-of-congress/mark-green/summary?cid=N00041873\">Mark Green (R) • <i>Incumbent</i></a>\n",
      " • <span class=\"winner\"><i>Winner</i></span> <br/>\n",
      "<span class=\"Members--vote-pct\">(69.9% of vote)</span>\n",
      "</strong></h2>\n",
      "</div>]\n",
      "[<div class=\"Members--bio u-richtext\">\n",
      "<h2><strong>\n",
      "\t\t\t\t\t\t\t\t\t\tKiran Sreepada (D)\n",
      "\t\t\t\t\t\t\t\t\t\t<br/>\n",
      "<span class=\"Members--vote-pct\">(27.3% of vote)</span>\n",
      "</strong></h2>\n",
      "</div>]\n",
      "[<div class=\"Members--bio u-richtext\">\n",
      "<h2><strong>\n",
      "\t\t\t\t\t\t\t\t\t\tRonald Brown (I)\n",
      "\t\t\t\t\t\t\t\t\t\t<br/>\n",
      "<span class=\"Members--vote-pct\">(2.2% of vote)</span>\n",
      "</strong></h2>\n",
      "</div>]\n",
      "[<div class=\"Members--bio u-richtext\">\n",
      "<h2><strong>\n",
      "\t\t\t\t\t\t\t\t\t\tScott Vieira Jr (I)\n",
      "\t\t\t\t\t\t\t\t\t\t<br/>\n",
      "<span class=\"Members--vote-pct\">(0.6% of vote)</span>\n",
      "</strong></h2>\n",
      "</div>]\n"
     ]
    }
   ],
   "source": [
    "for cand in members:\n",
    "            print(cand.findAll('div', attrs = {'class' : 'Members--bio u-richtext'}))\n",
    "    \n",
    "#members.find_all('div', attrs = {'class' : 'Members--bio u-richtext'})"
   ]
  },
  {
   "cell_type": "code",
   "execution_count": 99,
   "id": "52fb63ce",
   "metadata": {},
   "outputs": [],
   "source": [
    "cand2 = []\n",
    "for cand in members:\n",
    "    cand2.append(cand.find('div', attrs = {'class' : 'Members--bio u-richtext'}))\n",
    "    "
   ]
  },
  {
   "cell_type": "code",
   "execution_count": 100,
   "id": "f790626e",
   "metadata": {},
   "outputs": [
    {
     "name": "stdout",
     "output_type": "stream",
     "text": [
      "[<div class=\"Members--bio u-richtext\">\n",
      "<h2><strong>\n",
      "<a href=\"/members-of-congress/mark-green/summary?cid=N00041873\">Mark Green (R) • <i>Incumbent</i></a>\n",
      " • <span class=\"winner\"><i>Winner</i></span> <br/>\n",
      "<span class=\"Members--vote-pct\">(69.9% of vote)</span>\n",
      "</strong></h2>\n",
      "</div>, <div class=\"Members--bio u-richtext\">\n",
      "<h2><strong>\n",
      "\t\t\t\t\t\t\t\t\t\tKiran Sreepada (D)\n",
      "\t\t\t\t\t\t\t\t\t\t<br/>\n",
      "<span class=\"Members--vote-pct\">(27.3% of vote)</span>\n",
      "</strong></h2>\n",
      "</div>, <div class=\"Members--bio u-richtext\">\n",
      "<h2><strong>\n",
      "\t\t\t\t\t\t\t\t\t\tRonald Brown (I)\n",
      "\t\t\t\t\t\t\t\t\t\t<br/>\n",
      "<span class=\"Members--vote-pct\">(2.2% of vote)</span>\n",
      "</strong></h2>\n",
      "</div>, <div class=\"Members--bio u-richtext\">\n",
      "<h2><strong>\n",
      "\t\t\t\t\t\t\t\t\t\tScott Vieira Jr (I)\n",
      "\t\t\t\t\t\t\t\t\t\t<br/>\n",
      "<span class=\"Members--vote-pct\">(0.6% of vote)</span>\n",
      "</strong></h2>\n",
      "</div>]\n"
     ]
    }
   ],
   "source": [
    "print(cand2)"
   ]
  },
  {
   "cell_type": "code",
   "execution_count": 115,
   "id": "69237739",
   "metadata": {},
   "outputs": [],
   "source": [
    "x = []\n",
    "for i in cand2:\n",
    "    x.append(i.get_text(strip=True))"
   ]
  },
  {
   "cell_type": "code",
   "execution_count": 116,
   "id": "024984f8",
   "metadata": {},
   "outputs": [
    {
     "data": {
      "text/plain": [
       "['Mark Green (R) •Incumbent•Winner(69.9% of vote)',\n",
       " 'Kiran Sreepada (D)(27.3% of vote)',\n",
       " 'Ronald Brown (I)(2.2% of vote)',\n",
       " 'Scott Vieira Jr (I)(0.6% of vote)']"
      ]
     },
     "execution_count": 116,
     "metadata": {},
     "output_type": "execute_result"
    }
   ],
   "source": [
    "x"
   ]
  },
  {
   "cell_type": "code",
   "execution_count": 61,
   "id": "031e06cb",
   "metadata": {},
   "outputs": [],
   "source": [
    "import re"
   ]
  },
  {
   "cell_type": "code",
   "execution_count": 96,
   "id": "83cc4ca8",
   "metadata": {},
   "outputs": [],
   "source": [
    "cand3 = []\n",
    "for cand in cand2:\n",
    "    cand3.append(cand.find('strong').text)"
   ]
  },
  {
   "cell_type": "code",
   "execution_count": 97,
   "id": "5d688849",
   "metadata": {},
   "outputs": [
    {
     "data": {
      "text/plain": [
       "['\\nMark Green (R) • Incumbent\\n • Winner \\n(69.9% of vote)\\n',\n",
       " '\\n\\t\\t\\t\\t\\t\\t\\t\\t\\t\\tKiran Sreepada (D)\\n\\t\\t\\t\\t\\t\\t\\t\\t\\t\\t\\n(27.3% of vote)\\n',\n",
       " '\\n\\t\\t\\t\\t\\t\\t\\t\\t\\t\\tRonald Brown (I)\\n\\t\\t\\t\\t\\t\\t\\t\\t\\t\\t\\n(2.2% of vote)\\n',\n",
       " '\\n\\t\\t\\t\\t\\t\\t\\t\\t\\t\\tScott Vieira Jr (I)\\n\\t\\t\\t\\t\\t\\t\\t\\t\\t\\t\\n(0.6% of vote)\\n']"
      ]
     },
     "execution_count": 97,
     "metadata": {},
     "output_type": "execute_result"
    }
   ],
   "source": [
    "cand3"
   ]
  },
  {
   "cell_type": "code",
   "execution_count": 94,
   "id": "4ca91be5",
   "metadata": {},
   "outputs": [],
   "source": [
    "cand4 = []\n",
    "for i in cand3:\n",
    "   res_str = re.split(r\"t{20}\", i)\n",
    "\n",
    "cand4.append(res_str)\n"
   ]
  },
  {
   "cell_type": "code",
   "execution_count": 95,
   "id": "499cf5d9",
   "metadata": {},
   "outputs": [
    {
     "data": {
      "text/plain": [
       "[['\\n\\t\\t\\t\\t\\t\\t\\t\\t\\t\\tScott Vieira Jr (I)\\n\\t\\t\\t\\t\\t\\t\\t\\t\\t\\t\\n(0.6% of vote)\\n']]"
      ]
     },
     "execution_count": 95,
     "metadata": {},
     "output_type": "execute_result"
    }
   ],
   "source": [
    "cand4"
   ]
  },
  {
   "cell_type": "code",
   "execution_count": 82,
   "id": "56f04455",
   "metadata": {},
   "outputs": [
    {
     "data": {
      "text/plain": [
       "['\\nMark Green (R) • Incumbent\\n • Winner \\n(69.9% of vote)\\n',\n",
       " '\\n\\t\\t\\t\\t\\t\\t\\t\\t\\t\\tKiran Sreepada (D)\\n\\t\\t\\t\\t\\t\\t\\t\\t\\t\\t\\n(27.3% of vote)\\n',\n",
       " '\\n\\t\\t\\t\\t\\t\\t\\t\\t\\t\\tRonald Brown (I)\\n\\t\\t\\t\\t\\t\\t\\t\\t\\t\\t\\n(2.2% of vote)\\n',\n",
       " '\\n\\t\\t\\t\\t\\t\\t\\t\\t\\t\\tScott Vieira Jr (I)\\n\\t\\t\\t\\t\\t\\t\\t\\t\\t\\t\\n(0.6% of vote)\\n']"
      ]
     },
     "execution_count": 82,
     "metadata": {},
     "output_type": "execute_result"
    }
   ],
   "source": [
    "cand3"
   ]
  },
  {
   "cell_type": "code",
   "execution_count": null,
   "id": "4c8f2f0d",
   "metadata": {},
   "outputs": [],
   "source": [
    "#a tag contained in wider tag"
   ]
  },
  {
   "cell_type": "code",
   "execution_count": 11,
   "id": "12ac48fd",
   "metadata": {},
   "outputs": [],
   "source": [
    "incu = soup.find('a', attrs= {'href' :'/members-of-congress/mark-green/summary?cid=N00041873'})"
   ]
  },
  {
   "cell_type": "code",
   "execution_count": 26,
   "id": "c4705792",
   "metadata": {},
   "outputs": [
    {
     "data": {
      "text/plain": [
       "'Mark Green (R) • Incumbent'"
      ]
     },
     "execution_count": 26,
     "metadata": {},
     "output_type": "execute_result"
    }
   ],
   "source": [
    "incu.text"
   ]
  },
  {
   "cell_type": "code",
   "execution_count": 28,
   "id": "78004fac",
   "metadata": {},
   "outputs": [
    {
     "data": {
      "text/plain": [
       "'Incumbent'"
      ]
     },
     "execution_count": 28,
     "metadata": {},
     "output_type": "execute_result"
    }
   ],
   "source": [
    "incu.find('i').text"
   ]
  },
  {
   "cell_type": "code",
   "execution_count": 13,
   "id": "e3bdfa2d",
   "metadata": {},
   "outputs": [
    {
     "name": "stdout",
     "output_type": "stream",
     "text": [
      "Incumbent\n"
     ]
    }
   ],
   "source": [
    "if 'Incumbent' in inc2:\n",
    "    print(\"Incumbent\")"
   ]
  },
  {
   "cell_type": "code",
   "execution_count": 14,
   "id": "c84f1bc8",
   "metadata": {},
   "outputs": [],
   "source": [
    "#Whether the candidate won the race\n",
    "winner = soup.find('span', attrs={'class': 'winner'})"
   ]
  },
  {
   "cell_type": "code",
   "execution_count": 25,
   "id": "fd2aeb4d",
   "metadata": {},
   "outputs": [
    {
     "data": {
      "text/plain": [
       "'Winner'"
      ]
     },
     "execution_count": 25,
     "metadata": {},
     "output_type": "execute_result"
    }
   ],
   "source": [
    "winner.text"
   ]
  },
  {
   "cell_type": "code",
   "execution_count": 16,
   "id": "984e50b9",
   "metadata": {},
   "outputs": [],
   "source": [
    "# grab the incumbent contestant \n",
    "incumbs = members[0]\n",
    "win = members[1]"
   ]
  },
  {
   "cell_type": "code",
   "execution_count": null,
   "id": "f26c1457",
   "metadata": {},
   "outputs": [],
   "source": []
  },
  {
   "cell_type": "code",
   "execution_count": 17,
   "id": "65f02ef4",
   "metadata": {},
   "outputs": [
    {
     "data": {
      "text/plain": [
       "<div class=\"Members--list-item\">\n",
       "<div class=\"Members--bio u-richtext\">\n",
       "<h2><strong>\n",
       "\t\t\t\t\t\t\t\t\t\tKiran Sreepada (D)\n",
       "\t\t\t\t\t\t\t\t\t\t<br/>\n",
       "<span class=\"Members--vote-pct\">(27.3% of vote)</span>\n",
       "</strong></h2>\n",
       "</div>\n",
       "<table border=\"0\" cellpadding=\"1\" cellspacing=\"0\" class=\"Members--table\">\n",
       "<tr>\n",
       "<td>Raised:</td>\n",
       "<td class=\"Members--number\">$206,644</td>\n",
       "<td width=\"33%\">\n",
       "<div class=\"Members--bar-wrapper\">\n",
       "<div class=\"Members--bar Members--bar-indivs\" style=\"width:17.292980411310175%;\"></div>\n",
       "</div>\n",
       "</td>\n",
       "</tr>\n",
       "<tr>\n",
       "<td>Spent:</td>\n",
       "<td class=\"Members--number\">$207,191</td>\n",
       "<td width=\"33%\">\n",
       "<div class=\"Members--bar-wrapper\">\n",
       "<div class=\"Members--bar Members--bar-indivs\" style=\"width:17.33873087868756%;\"></div>\n",
       "</div>\n",
       "</td>\n",
       "</tr>\n",
       "<tr>\n",
       "<td>Cash on Hand:</td>\n",
       "<td class=\"Members--number\">$0</td>\n",
       "<td width=\"33%\">\n",
       "<div class=\"Members--bar-wrapper\">\n",
       "<div class=\"Members--bar Members--bar-indivs\" style=\"width:0.0%;\"></div>\n",
       "</div>\n",
       "</td>\n",
       "</tr>\n",
       "</table>\n",
       "<div class=\"u-richtext\">\n",
       "<h3>Source of Funds</h3>\n",
       "<table>\n",
       "<thead>\n",
       "<tr>\n",
       "<th scope=\"col\">Type of Contribution</th>\n",
       "<th class=\"number\" scope=\"col\">Amount</th>\n",
       "<th class=\"number\" scope=\"col\">Percentage</th>\n",
       "</tr>\n",
       "</thead>\n",
       "<tbody>\n",
       "<tr>\n",
       "<td>Small Individual Contributions (≤ $200)</td>\n",
       "<td class=\"number\">$23,515</td>\n",
       "<td class=\"number\">11.38%</td>\n",
       "</tr>\n",
       "<tr>\n",
       "<td>Large Individual Contributions</td>\n",
       "<td class=\"number\">$179,130</td>\n",
       "<td class=\"number\">86.69%</td>\n",
       "</tr>\n",
       "<tr>\n",
       "<td>PAC Contributions*</td>\n",
       "<td class=\"number\">$4,000</td>\n",
       "<td class=\"number\">1.94%</td>\n",
       "</tr>\n",
       "<tr>\n",
       "<td>Candidate self-financing</td>\n",
       "<td class=\"number\">$0</td>\n",
       "<td class=\"number\">0.00%</td>\n",
       "</tr>\n",
       "<tr>\n",
       "<td>Other</td>\n",
       "<td class=\"number\">$0</td>\n",
       "<td class=\"number\">0.00%</td>\n",
       "</tr>\n",
       "</tbody>\n",
       "</table>\n",
       "<h3>Quality of Disclosure</h3>\n",
       "<table>\n",
       "<thead>\n",
       "<tr>\n",
       "<th scope=\"col\">Type of Disclosure</th>\n",
       "<th class=\"number\" scope=\"col\">Amount</th>\n",
       "<th class=\"number\" scope=\"col\">Percentage</th>\n",
       "</tr>\n",
       "</thead>\n",
       "<tbody>\n",
       "<tr>\n",
       "<td nowrap=\"\">Full Disclosure</td>\n",
       "<td class=\"number\">$148,383</td>\n",
       "<td class=\"number\">95.46%</td>\n",
       "</tr>\n",
       "<tr>\n",
       "<td nowrap=\"\">Incomplete Disclosure</td>\n",
       "<td class=\"number\">$10</td>\n",
       "<td class=\"number\">0.01%</td>\n",
       "</tr>\n",
       "<tr>\n",
       "<td nowrap=\"\">No Disclosure</td>\n",
       "<td class=\"number\">$7,051</td>\n",
       "<td class=\"number\">4.54%</td>\n",
       "</tr>\n",
       "</tbody>\n",
       "</table>\n",
       "</div>\n",
       "</div>"
      ]
     },
     "execution_count": 17,
     "metadata": {},
     "output_type": "execute_result"
    }
   ],
   "source": [
    "members[1]"
   ]
  },
  {
   "cell_type": "code",
   "execution_count": 18,
   "id": "c9e40b3d",
   "metadata": {},
   "outputs": [],
   "source": [
    "# grab the incumbent contestant \n",
    "incumbs = members[0]\n",
    "win = members[1]"
   ]
  },
  {
   "cell_type": "code",
   "execution_count": 19,
   "id": "1fafeb15",
   "metadata": {},
   "outputs": [
    {
     "data": {
      "text/plain": [
       "'no'"
      ]
     },
     "execution_count": 19,
     "metadata": {},
     "output_type": "execute_result"
    }
   ],
   "source": [
    "win.get('a', default= 'no')"
   ]
  },
  {
   "cell_type": "code",
   "execution_count": 20,
   "id": "87025ca3",
   "metadata": {},
   "outputs": [
    {
     "ename": "NameError",
     "evalue": "name 'w' is not defined",
     "output_type": "error",
     "traceback": [
      "\u001b[1;31m---------------------------------------------------------------------------\u001b[0m",
      "\u001b[1;31mNameError\u001b[0m                                 Traceback (most recent call last)",
      "\u001b[1;32m<ipython-input-20-3923b077e98b>\u001b[0m in \u001b[0;36m<module>\u001b[1;34m\u001b[0m\n\u001b[1;32m----> 1\u001b[1;33m \u001b[0mw\u001b[0m\u001b[1;33m.\u001b[0m\u001b[0mtext\u001b[0m\u001b[1;33m\u001b[0m\u001b[1;33m\u001b[0m\u001b[0m\n\u001b[0m",
      "\u001b[1;31mNameError\u001b[0m: name 'w' is not defined"
     ]
    }
   ],
   "source": [
    "#w.text"
   ]
  },
  {
   "cell_type": "code",
   "execution_count": null,
   "id": "5c65a414",
   "metadata": {},
   "outputs": [],
   "source": [
    "incumbs.get('a', default= 'no')"
   ]
  },
  {
   "cell_type": "code",
   "execution_count": null,
   "id": "623d2f3f",
   "metadata": {},
   "outputs": [],
   "source": [
    "incumbs"
   ]
  },
  {
   "cell_type": "code",
   "execution_count": null,
   "id": "0f86adf7",
   "metadata": {},
   "outputs": [],
   "source": [
    "district = soup.find('h1',attrs = {'class':'Hero-title'})\n",
    "count = 0\n",
    "\n",
    "mylist = []\n",
    "for i in members:\n",
    "    \n",
    "    # gets the incumbent \n",
    "    #incumbent = members[count].find('a').i.text\n",
    "    inc = members[count].find('a').text\n",
    "    \n",
    "    \n",
    "    if 'Incumbent' in inc:\n",
    "        incumbent = 'Incumbent'\n",
    "    else:\n",
    "        incumbent = 'not incumbent'\n",
    "        \n",
    "    # gets the winner \n",
    "    winner = members[count].find('span', attrs={'class': 'winner'})\n",
    "    \n",
    "   \n",
    "    mylist.append([incumbent,winner])\n",
    "    \n",
    "    count+=1\n",
    "\n",
    "\n",
    "    "
   ]
  },
  {
   "cell_type": "code",
   "execution_count": null,
   "id": "422c0031",
   "metadata": {},
   "outputs": [],
   "source": []
  },
  {
   "cell_type": "code",
   "execution_count": null,
   "id": "275418c5",
   "metadata": {
    "scrolled": false
   },
   "outputs": [],
   "source": [
    "#print(soup.prettify())"
   ]
  },
  {
   "cell_type": "code",
   "execution_count": null,
   "id": "109ddf01",
   "metadata": {},
   "outputs": [],
   "source": [
    "#soup.findAll('div')"
   ]
  },
  {
   "cell_type": "code",
   "execution_count": null,
   "id": "b472e22c",
   "metadata": {},
   "outputs": [],
   "source": [
    "#table2 = soup.find('div', attrs={'class': 'Header2'})"
   ]
  },
  {
   "cell_type": "code",
   "execution_count": null,
   "id": "052d2871",
   "metadata": {},
   "outputs": [],
   "source": [
    "#table2"
   ]
  },
  {
   "cell_type": "code",
   "execution_count": null,
   "id": "7020a17b",
   "metadata": {},
   "outputs": [],
   "source": [
    "#table_a = soup.find('div', attrs={'class': 'Hero-title'})"
   ]
  },
  {
   "cell_type": "code",
   "execution_count": null,
   "id": "3bba845a",
   "metadata": {},
   "outputs": [],
   "source": [
    "from IPython.core.display import HTML\n",
    "\n",
    "HTML(table_a)"
   ]
  },
  {
   "cell_type": "code",
   "execution_count": 31,
   "id": "1aaf38a1",
   "metadata": {},
   "outputs": [],
   "source": [
    "import pandas as pd"
   ]
  },
  {
   "cell_type": "code",
   "execution_count": null,
   "id": "c9c8801f",
   "metadata": {},
   "outputs": [],
   "source": [
    "pd.read_html(str(soup.find('div', attrs={'class': 'Header2'})))"
   ]
  },
  {
   "cell_type": "code",
   "execution_count": null,
   "id": "a8f66658",
   "metadata": {},
   "outputs": [],
   "source": []
  },
  {
   "cell_type": "code",
   "execution_count": null,
   "id": "ddc63daa",
   "metadata": {},
   "outputs": [],
   "source": []
  },
  {
   "cell_type": "code",
   "execution_count": null,
   "id": "c40e64ca",
   "metadata": {},
   "outputs": [],
   "source": []
  },
  {
   "cell_type": "code",
   "execution_count": 33,
   "id": "bab687ef",
   "metadata": {},
   "outputs": [],
   "source": [
    "di = {'a':[1,2,3], 'b':[4,5,6]}"
   ]
  },
  {
   "cell_type": "code",
   "execution_count": 34,
   "id": "fa10e8ca",
   "metadata": {},
   "outputs": [
    {
     "data": {
      "text/html": [
       "<div>\n",
       "<style scoped>\n",
       "    .dataframe tbody tr th:only-of-type {\n",
       "        vertical-align: middle;\n",
       "    }\n",
       "\n",
       "    .dataframe tbody tr th {\n",
       "        vertical-align: top;\n",
       "    }\n",
       "\n",
       "    .dataframe thead th {\n",
       "        text-align: right;\n",
       "    }\n",
       "</style>\n",
       "<table border=\"1\" class=\"dataframe\">\n",
       "  <thead>\n",
       "    <tr style=\"text-align: right;\">\n",
       "      <th></th>\n",
       "      <th>a</th>\n",
       "      <th>b</th>\n",
       "    </tr>\n",
       "  </thead>\n",
       "  <tbody>\n",
       "    <tr>\n",
       "      <th>0</th>\n",
       "      <td>1</td>\n",
       "      <td>4</td>\n",
       "    </tr>\n",
       "    <tr>\n",
       "      <th>1</th>\n",
       "      <td>2</td>\n",
       "      <td>5</td>\n",
       "    </tr>\n",
       "    <tr>\n",
       "      <th>2</th>\n",
       "      <td>3</td>\n",
       "      <td>6</td>\n",
       "    </tr>\n",
       "  </tbody>\n",
       "</table>\n",
       "</div>"
      ],
      "text/plain": [
       "   a  b\n",
       "0  1  4\n",
       "1  2  5\n",
       "2  3  6"
      ]
     },
     "execution_count": 34,
     "metadata": {},
     "output_type": "execute_result"
    }
   ],
   "source": [
    "pd.DataFrame(di)"
   ]
  },
  {
   "cell_type": "code",
   "execution_count": 35,
   "id": "b0f40356",
   "metadata": {},
   "outputs": [],
   "source": [
    "li = [(1,2,3), (4,5,6)]"
   ]
  },
  {
   "cell_type": "code",
   "execution_count": 36,
   "id": "79e66f44",
   "metadata": {},
   "outputs": [
    {
     "data": {
      "text/html": [
       "<div>\n",
       "<style scoped>\n",
       "    .dataframe tbody tr th:only-of-type {\n",
       "        vertical-align: middle;\n",
       "    }\n",
       "\n",
       "    .dataframe tbody tr th {\n",
       "        vertical-align: top;\n",
       "    }\n",
       "\n",
       "    .dataframe thead th {\n",
       "        text-align: right;\n",
       "    }\n",
       "</style>\n",
       "<table border=\"1\" class=\"dataframe\">\n",
       "  <thead>\n",
       "    <tr style=\"text-align: right;\">\n",
       "      <th></th>\n",
       "      <th>0</th>\n",
       "      <th>1</th>\n",
       "      <th>2</th>\n",
       "    </tr>\n",
       "  </thead>\n",
       "  <tbody>\n",
       "    <tr>\n",
       "      <th>0</th>\n",
       "      <td>1</td>\n",
       "      <td>2</td>\n",
       "      <td>3</td>\n",
       "    </tr>\n",
       "    <tr>\n",
       "      <th>1</th>\n",
       "      <td>4</td>\n",
       "      <td>5</td>\n",
       "      <td>6</td>\n",
       "    </tr>\n",
       "  </tbody>\n",
       "</table>\n",
       "</div>"
      ],
      "text/plain": [
       "   0  1  2\n",
       "0  1  2  3\n",
       "1  4  5  6"
      ]
     },
     "execution_count": 36,
     "metadata": {},
     "output_type": "execute_result"
    }
   ],
   "source": [
    "pd.DataFrame(li)"
   ]
  },
  {
   "cell_type": "code",
   "execution_count": null,
   "id": "71e6e9e1",
   "metadata": {},
   "outputs": [],
   "source": []
  }
 ],
 "metadata": {
  "kernelspec": {
   "display_name": "Python 3",
   "language": "python",
   "name": "python3"
  },
  "language_info": {
   "codemirror_mode": {
    "name": "ipython",
    "version": 3
   },
   "file_extension": ".py",
   "mimetype": "text/x-python",
   "name": "python",
   "nbconvert_exporter": "python",
   "pygments_lexer": "ipython3",
   "version": "3.8.8"
  }
 },
 "nbformat": 4,
 "nbformat_minor": 5
}
