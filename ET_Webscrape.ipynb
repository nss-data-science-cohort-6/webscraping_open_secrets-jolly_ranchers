{
 "cells": [
  {
   "cell_type": "code",
   "execution_count": 1,
   "id": "228d7d26",
   "metadata": {},
   "outputs": [],
   "source": [
    "import requests\n",
    "from bs4 import BeautifulSoup as BS\n",
    "import pandas as pd\n",
    "import re"
   ]
  },
  {
   "cell_type": "code",
   "execution_count": 2,
   "id": "94d0585c",
   "metadata": {},
   "outputs": [],
   "source": [
    "URL = 'https://www.opensecrets.org/races/candidates?cycle=2020&id=TN07&spec=N'\n",
    "response = requests.get(URL)"
   ]
  },
  {
   "cell_type": "code",
   "execution_count": 3,
   "id": "75cda872",
   "metadata": {},
   "outputs": [
    {
     "data": {
      "text/plain": [
       "requests.models.Response"
      ]
     },
     "execution_count": 3,
     "metadata": {},
     "output_type": "execute_result"
    }
   ],
   "source": [
    "type(response)"
   ]
  },
  {
   "cell_type": "code",
   "execution_count": 4,
   "id": "e5ec4cbf",
   "metadata": {},
   "outputs": [
    {
     "data": {
      "text/plain": [
       "200"
      ]
     },
     "execution_count": 4,
     "metadata": {},
     "output_type": "execute_result"
    }
   ],
   "source": [
    "response.status_code"
   ]
  },
  {
   "cell_type": "code",
   "execution_count": 5,
   "id": "775f4015",
   "metadata": {},
   "outputs": [],
   "source": [
    "soup = BS(response.text)"
   ]
  },
  {
   "cell_type": "markdown",
   "id": "c01d9c26",
   "metadata": {},
   "source": [
    "**Tennessee District 07**"
   ]
  },
  {
   "cell_type": "code",
   "execution_count": 6,
   "id": "fa006e17",
   "metadata": {},
   "outputs": [],
   "source": [
    "r = requests.get('https://www.opensecrets.org/races/candidates?cycle=2020&id=TN07&spec=N')\n",
    "soup = BS(r.text,'html.parser')"
   ]
  },
  {
   "cell_type": "code",
   "execution_count": 7,
   "id": "7ee298c7",
   "metadata": {},
   "outputs": [
    {
     "data": {
      "text/plain": [
       "'Tennessee District 07 2020 Race'"
      ]
     },
     "execution_count": 7,
     "metadata": {},
     "output_type": "execute_result"
    }
   ],
   "source": [
    "#Find the district (Ex. district 07)\n",
    "district = soup.find('h1',attrs = {'class':'Hero-title'})\n",
    "district.text"
   ]
  },
  {
   "cell_type": "code",
   "execution_count": 8,
   "id": "f7bfbc80",
   "metadata": {},
   "outputs": [
    {
     "data": {
      "text/plain": [
       "'07'"
      ]
     },
     "execution_count": 8,
     "metadata": {},
     "output_type": "execute_result"
    }
   ],
   "source": [
    "#Find the district number (Ex. district 07)\n",
    "district = soup.find('h1',attrs = {'class':'Hero-title'})\n",
    "dist_num = str(re.findall(r\"0\\d{1}\\W\", district.text)).replace(\" \", \"\").replace(\"[\", \"\").replace(\"]\", \"\").replace(\"'\", \"\")\n",
    "dist_num"
   ]
  },
  {
   "cell_type": "code",
   "execution_count": 9,
   "id": "f3e953bd",
   "metadata": {},
   "outputs": [],
   "source": [
    "#Find member blocks for each candidate\n",
    "members = soup.find_all('div',attrs = {'class':'Members--list-item'})"
   ]
  },
  {
   "cell_type": "code",
   "execution_count": 10,
   "id": "002a4aa9",
   "metadata": {},
   "outputs": [],
   "source": [
    "#Fake list Candidates, grabs each member column with members--bio u-richtext\n",
    "Candidates = []\n",
    "for cand in members:\n",
    "    Candidates.append(cand.find('div', attrs = {'class' : 'Members--bio u-richtext'}))"
   ]
  },
  {
   "cell_type": "code",
   "execution_count": 11,
   "id": "ccafaf60",
   "metadata": {},
   "outputs": [
    {
     "data": {
      "text/plain": [
       "['Mark Green (R) •Incumbent•Winner(69.9% of vote)',\n",
       " 'Kiran Sreepada (D)(27.3% of vote)',\n",
       " 'Ronald Brown (I)(2.2% of vote)',\n",
       " 'Scott Vieira Jr (I)(0.6% of vote)']"
      ]
     },
     "execution_count": 11,
     "metadata": {},
     "output_type": "execute_result"
    }
   ],
   "source": [
    "#From Candidates, extract just the text parts inclding the candidate name and header\n",
    "Cand_list_text = []\n",
    "for i in Candidates:\n",
    "    Cand_list_text.append(i.get_text(strip=True))\n",
    "Cand_list_text"
   ]
  },
  {
   "cell_type": "code",
   "execution_count": 12,
   "id": "ec624126",
   "metadata": {},
   "outputs": [],
   "source": [
    "CandNames = []              #Make empty lists\n",
    "district_num = []\n",
    "incumbent=[]\n",
    "winner=[] \n",
    "\n",
    "for i in Cand_list_text:    #add information about candidate to lists\n",
    "    winner.append(str(re.findall(r\"Winner\", i)).replace(\"[\", \"\").replace(\"]\", \"\").replace(\"'\", \"\"))\n",
    "    incumbent.append(str(re.findall(r\"Incumbent\", i)).replace(\"[\", \"\").replace(\"]\", \"\").replace(\"'\", \"\"))\n",
    "    CandNames.append(str(re.findall(r\".+\\([A-Z]\", i)).replace(\"'\", \"\").replace(\"[\", \"\").replace(\"]\", \"\").replace(\"(R\", \"\").replace(\"(D\", \"\").replace(\"(I\", \"\"))\n",
    "    district_num.append(str(re.findall(r\"0\\d{1}\\W\", district.text)).replace(\" \", \"\").replace(\"[\", \"\").replace(\"]\", \"\").replace(\"'\", \"\"))\n",
    "    "
   ]
  },
  {
   "cell_type": "code",
   "execution_count": 13,
   "id": "eb630add",
   "metadata": {},
   "outputs": [
    {
     "data": {
      "text/html": [
       "<div>\n",
       "<style scoped>\n",
       "    .dataframe tbody tr th:only-of-type {\n",
       "        vertical-align: middle;\n",
       "    }\n",
       "\n",
       "    .dataframe tbody tr th {\n",
       "        vertical-align: top;\n",
       "    }\n",
       "\n",
       "    .dataframe thead th {\n",
       "        text-align: right;\n",
       "    }\n",
       "</style>\n",
       "<table border=\"1\" class=\"dataframe\">\n",
       "  <thead>\n",
       "    <tr style=\"text-align: right;\">\n",
       "      <th></th>\n",
       "      <th>Candidate Name</th>\n",
       "      <th>District Number</th>\n",
       "      <th>Incumbent</th>\n",
       "      <th>Winner</th>\n",
       "    </tr>\n",
       "  </thead>\n",
       "  <tbody>\n",
       "    <tr>\n",
       "      <th>0</th>\n",
       "      <td>Mark Green</td>\n",
       "      <td>07</td>\n",
       "      <td>Incumbent</td>\n",
       "      <td>Winner</td>\n",
       "    </tr>\n",
       "    <tr>\n",
       "      <th>1</th>\n",
       "      <td>Kiran Sreepada</td>\n",
       "      <td>07</td>\n",
       "      <td></td>\n",
       "      <td></td>\n",
       "    </tr>\n",
       "    <tr>\n",
       "      <th>2</th>\n",
       "      <td>Ronald Brown</td>\n",
       "      <td>07</td>\n",
       "      <td></td>\n",
       "      <td></td>\n",
       "    </tr>\n",
       "    <tr>\n",
       "      <th>3</th>\n",
       "      <td>Scott Vieira Jr</td>\n",
       "      <td>07</td>\n",
       "      <td></td>\n",
       "      <td></td>\n",
       "    </tr>\n",
       "  </tbody>\n",
       "</table>\n",
       "</div>"
      ],
      "text/plain": [
       "     Candidate Name District Number  Incumbent  Winner\n",
       "0       Mark Green               07  Incumbent  Winner\n",
       "1   Kiran Sreepada               07                   \n",
       "2     Ronald Brown               07                   \n",
       "3  Scott Vieira Jr               07                   "
      ]
     },
     "execution_count": 13,
     "metadata": {},
     "output_type": "execute_result"
    }
   ],
   "source": [
    "#Make a dataframe using dictionary\n",
    "di = {'Candidate Name': CandNames,'District Number':district_num,  'Incumbent':incumbent, 'Winner':winner}\n",
    "pd.DataFrame(di)"
   ]
  },
  {
   "cell_type": "markdown",
   "id": "e486398c",
   "metadata": {},
   "source": [
    "# All TN Districts"
   ]
  },
  {
   "cell_type": "code",
   "execution_count": 14,
   "id": "14da01d2",
   "metadata": {},
   "outputs": [
    {
     "name": "stdout",
     "output_type": "stream",
     "text": [
      "https://www.opensecrets.org/races/candidates?cycle=2020&id=TN010&spec=N\n"
     ]
    }
   ],
   "source": [
    "#testing url\n",
    "d_num = 10\n",
    "baseurl = 'https://www.opensecrets.org/races/candidates?cycle=2020&id=TN0'  + str(d_num) + '&spec=N'\n",
    "r = requests.get('https://www.opensecrets.org/races/candidates?cycle=2020&id=TN07&spec=N')\n",
    "soup = BS(r.text,'html.parser')\n",
    "print(baseurl)"
   ]
  },
  {
   "cell_type": "code",
   "execution_count": 15,
   "id": "a0acd3ab",
   "metadata": {},
   "outputs": [],
   "source": [
    "d = soup.find('ol',attrs = {'class':'SubNav-items'})  #Navigation showing list of districts\n",
    "a_tags = d.find_all('a')"
   ]
  },
  {
   "cell_type": "code",
   "execution_count": 16,
   "id": "e764de72",
   "metadata": {},
   "outputs": [
    {
     "data": {
      "text/plain": [
       "[<a class=\"SubNav-link\" href=\"/races/summary?cycle=2020&amp;id=TNS2&amp;spec=N\">\n",
       "                         Tennessee Senate <i aria-hidden=\"true\" class=\"fa fa-angle-right\"></i>\n",
       " </a>,\n",
       " <a class=\"SubNav-link\" href=\"/races/summary?cycle=2020&amp;id=TN01&amp;spec=N\">\n",
       "                         Tennessee District 01 <i aria-hidden=\"true\" class=\"fa fa-angle-right\"></i>\n",
       " </a>,\n",
       " <a class=\"SubNav-link\" href=\"/races/summary?cycle=2020&amp;id=TN02&amp;spec=N\">\n",
       "                         Tennessee District 02 <i aria-hidden=\"true\" class=\"fa fa-angle-right\"></i>\n",
       " </a>,\n",
       " <a class=\"SubNav-link\" href=\"/races/summary?cycle=2020&amp;id=TN03&amp;spec=N\">\n",
       "                         Tennessee District 03 <i aria-hidden=\"true\" class=\"fa fa-angle-right\"></i>\n",
       " </a>,\n",
       " <a class=\"SubNav-link\" href=\"/races/summary?cycle=2020&amp;id=TN04&amp;spec=N\">\n",
       "                         Tennessee District 04 <i aria-hidden=\"true\" class=\"fa fa-angle-right\"></i>\n",
       " </a>,\n",
       " <a class=\"SubNav-link\" href=\"/races/summary?cycle=2020&amp;id=TN05&amp;spec=N\">\n",
       "                         Tennessee District 05 <i aria-hidden=\"true\" class=\"fa fa-angle-right\"></i>\n",
       " </a>,\n",
       " <a class=\"SubNav-link\" href=\"/races/summary?cycle=2020&amp;id=TN06&amp;spec=N\">\n",
       "                         Tennessee District 06 <i aria-hidden=\"true\" class=\"fa fa-angle-right\"></i>\n",
       " </a>,\n",
       " <a class=\"SubNav-link SubNav-link--active\" href=\"/races/summary?cycle=2020&amp;id=TN07&amp;spec=N\">\n",
       "                         Tennessee District 07 <i aria-hidden=\"true\" class=\"fa fa-angle-right\"></i>\n",
       " </a>,\n",
       " <a class=\"SubNav-link\" href=\"/races/summary?cycle=2020&amp;id=TN08&amp;spec=N\">\n",
       "                         Tennessee District 08 <i aria-hidden=\"true\" class=\"fa fa-angle-right\"></i>\n",
       " </a>,\n",
       " <a class=\"SubNav-link\" href=\"/races/summary?cycle=2020&amp;id=TN09&amp;spec=N\">\n",
       "                         Tennessee District 09 <i aria-hidden=\"true\" class=\"fa fa-angle-right\"></i>\n",
       " </a>]"
      ]
     },
     "execution_count": 16,
     "metadata": {},
     "output_type": "execute_result"
    }
   ],
   "source": [
    "a_tags = soup.find('ol',attrs = {'class':'SubNav-items'}).find_all('a')  #Navigation showing list of districts\n",
    "a_tags"
   ]
  },
  {
   "cell_type": "code",
   "execution_count": 17,
   "id": "44534651",
   "metadata": {},
   "outputs": [
    {
     "data": {
      "text/plain": [
       "9"
      ]
     },
     "execution_count": 17,
     "metadata": {},
     "output_type": "execute_result"
    }
   ],
   "source": [
    "d_count = 0                               #Start counting districts in state\n",
    "for i in a_tags:\n",
    "    if str.isdigit(i.text.strip()[-1]):   #if the last substring is a digit\n",
    "        d_count+=1                        #increase district count by 1\n",
    "    #print(i.text.strip()[-1])\n",
    "    \n",
    "d_count  "
   ]
  },
  {
   "cell_type": "code",
   "execution_count": 18,
   "id": "06598a08",
   "metadata": {},
   "outputs": [
    {
     "name": "stdout",
     "output_type": "stream",
     "text": [
      "https://www.opensecrets.org/races/candidates?cycle=2020&id=TN01&spec=N\n",
      "https://www.opensecrets.org/races/candidates?cycle=2020&id=TN02&spec=N\n",
      "https://www.opensecrets.org/races/candidates?cycle=2020&id=TN03&spec=N\n",
      "https://www.opensecrets.org/races/candidates?cycle=2020&id=TN04&spec=N\n",
      "https://www.opensecrets.org/races/candidates?cycle=2020&id=TN05&spec=N\n",
      "https://www.opensecrets.org/races/candidates?cycle=2020&id=TN06&spec=N\n",
      "https://www.opensecrets.org/races/candidates?cycle=2020&id=TN07&spec=N\n",
      "https://www.opensecrets.org/races/candidates?cycle=2020&id=TN08&spec=N\n",
      "https://www.opensecrets.org/races/candidates?cycle=2020&id=TN09&spec=N\n"
     ]
    }
   ],
   "source": [
    "count = 1\n",
    "\n",
    "district_num = []\n",
    "incumbent=[]\n",
    "winner=[]\n",
    "CandNames = []\n",
    "\n",
    "while count <= d_count:     #for each district number\n",
    "    url = 'https://www.opensecrets.org/races/candidates?cycle=2020&id=TN0'  + str(count) + '&spec=N'   #here's the url\n",
    "    r = requests.get(url)\n",
    "    soup = BS(r.text,'html.parser')\n",
    "    \n",
    "    print(url)\n",
    "\n",
    "    district = soup.find('h1',attrs = {'class':'Hero-title'})\n",
    "    dist_num = str(re.findall(r\"0\\d{1}\\W\", district.text)).replace(\" \", \"\").replace(\"[\", \"\").replace(\"]\", \"\").replace(\"'\", \"\")\n",
    "\n",
    "    #Find member blocks for each candidate\n",
    "    members = soup.find_all('div',attrs = {'class':'Members--list-item'})\n",
    "\n",
    "    #make list Candidates, grabs each member column with members--bio u-richtext\n",
    "    Candidates = []\n",
    "    for cand in members:\n",
    "        Candidates.append(cand.find('div', attrs = {'class' : 'Members--bio u-richtext'}))\n",
    "    \n",
    "    \n",
    "    #from Candidates, extract just the text parts inclding the candidate name and header\n",
    "    Cand_list_text = []\n",
    "    for i in Candidates:\n",
    "        Cand_list_text.append(i.get_text(strip=True))\n",
    "    \n",
    "    \n",
    "    for i in Cand_list_text:\n",
    "        winner.append(str(re.findall(r\"Winner\", i)).replace(\"[\", \"\").replace(\"]\", \"\").replace(\"'\", \"\"))\n",
    "        incumbent.append(str(re.findall(r\"Incumbent\", i)).replace(\"[\", \"\").replace(\"]\", \"\").replace(\"'\", \"\"))\n",
    "        CandNames.append(str(re.findall(r\".+\\([A-Z]\", i)).replace(\"'\", \"\").replace(\"[\", \"\").replace(\"]\", \"\").replace(\"(R\", \"\").replace(\"(D\", \"\").replace(\"(I\", \"\"))\n",
    "        district_num.append(str(re.findall(r\"0\\d{1}\\W\", district.text)).replace(\" \", \"\").replace(\"[\", \"\").replace(\"]\", \"\").replace(\"'\", \"\"))\n",
    "    \n",
    "    count+=1 # increment count"
   ]
  },
  {
   "cell_type": "code",
   "execution_count": 19,
   "id": "9b2b27a9",
   "metadata": {},
   "outputs": [],
   "source": [
    "#Make a dataframe using dictionary\n",
    "di = {'Candidate Name': CandNames,'District Number':district_num,  'Incumbent':incumbent, 'Winner':winner}\n",
    "z = pd.DataFrame(di)"
   ]
  },
  {
   "cell_type": "code",
   "execution_count": 20,
   "id": "63dd8af6",
   "metadata": {
    "scrolled": true
   },
   "outputs": [],
   "source": [
    "z.to_csv('test.csv')"
   ]
  }
 ],
 "metadata": {
  "kernelspec": {
   "display_name": "Python 3",
   "language": "python",
   "name": "python3"
  },
  "language_info": {
   "codemirror_mode": {
    "name": "ipython",
    "version": 3
   },
   "file_extension": ".py",
   "mimetype": "text/x-python",
   "name": "python",
   "nbconvert_exporter": "python",
   "pygments_lexer": "ipython3",
   "version": "3.8.8"
  }
 },
 "nbformat": 4,
 "nbformat_minor": 5
}
