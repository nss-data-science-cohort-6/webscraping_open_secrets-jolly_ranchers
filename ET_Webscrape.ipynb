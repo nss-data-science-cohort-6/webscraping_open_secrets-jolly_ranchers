{
 "cells": [
  {
   "cell_type": "code",
   "execution_count": 114,
   "id": "228d7d26",
   "metadata": {},
   "outputs": [],
   "source": [
    "import requests\n",
    "from bs4 import BeautifulSoup as BS\n",
    "import pandas as pd\n",
    "import re\n",
    "import time    # time.sleep(5) -- this will pause the program for 5 seconds"
   ]
  },
  {
   "cell_type": "code",
   "execution_count": 2,
   "id": "94d0585c",
   "metadata": {},
   "outputs": [],
   "source": [
    "URL = 'https://www.opensecrets.org/races/candidates?cycle=2020&id=TN07&spec=N'\n",
    "response = requests.get(URL)"
   ]
  },
  {
   "cell_type": "code",
   "execution_count": 3,
   "id": "75cda872",
   "metadata": {},
   "outputs": [
    {
     "data": {
      "text/plain": [
       "requests.models.Response"
      ]
     },
     "execution_count": 3,
     "metadata": {},
     "output_type": "execute_result"
    }
   ],
   "source": [
    "type(response)"
   ]
  },
  {
   "cell_type": "code",
   "execution_count": 4,
   "id": "e5ec4cbf",
   "metadata": {},
   "outputs": [
    {
     "data": {
      "text/plain": [
       "200"
      ]
     },
     "execution_count": 4,
     "metadata": {},
     "output_type": "execute_result"
    }
   ],
   "source": [
    "response.status_code"
   ]
  },
  {
   "cell_type": "code",
   "execution_count": 5,
   "id": "775f4015",
   "metadata": {},
   "outputs": [],
   "source": [
    "soup = BS(response.text)"
   ]
  },
  {
   "cell_type": "markdown",
   "id": "c01d9c26",
   "metadata": {},
   "source": [
    "**Tennessee District 07**"
   ]
  },
  {
   "cell_type": "code",
   "execution_count": 6,
   "id": "fa006e17",
   "metadata": {},
   "outputs": [],
   "source": [
    "r = requests.get('https://www.opensecrets.org/races/candidates?cycle=2020&id=TN07&spec=N')\n",
    "soup = BS(r.text,'html.parser')"
   ]
  },
  {
   "cell_type": "code",
   "execution_count": 7,
   "id": "7ee298c7",
   "metadata": {},
   "outputs": [
    {
     "data": {
      "text/plain": [
       "'Tennessee District 07 2020 Race'"
      ]
     },
     "execution_count": 7,
     "metadata": {},
     "output_type": "execute_result"
    }
   ],
   "source": [
    "#Find the district (Ex. district 07)\n",
    "district = soup.find('h1',attrs = {'class':'Hero-title'})\n",
    "district.text"
   ]
  },
  {
   "cell_type": "code",
   "execution_count": 8,
   "id": "7963c059",
   "metadata": {},
   "outputs": [
    {
     "data": {
      "text/plain": [
       "'07'"
      ]
     },
     "execution_count": 8,
     "metadata": {},
     "output_type": "execute_result"
    }
   ],
   "source": [
    "#Find the district number (Ex. district 07)\n",
    "district = soup.find('h1',attrs = {'class':'Hero-title'})\n",
    "dist_num = str(re.findall(r\"0\\d{1}\\W\", district.text)).replace(\" \", \"\").replace(\"[\", \"\").replace(\"]\", \"\").replace(\"'\", \"\")\n",
    "dist_num"
   ]
  },
  {
   "cell_type": "code",
   "execution_count": 9,
   "id": "fd676960",
   "metadata": {},
   "outputs": [],
   "source": [
    "#Find member blocks for each candidate\n",
    "members = soup.find_all('div',attrs = {'class':'Members--list-item'})"
   ]
  },
  {
   "cell_type": "code",
   "execution_count": 10,
   "id": "894ca797",
   "metadata": {},
   "outputs": [],
   "source": [
    "#Make list Candidates, grabs each member column with members--bio u-richtext\n",
    "Candidates = []\n",
    "for cand in members:\n",
    "    Candidates.append(cand.find('div', attrs = {'class' : 'Members--bio u-richtext'}))"
   ]
  },
  {
   "cell_type": "code",
   "execution_count": 11,
   "id": "eb51e8be",
   "metadata": {},
   "outputs": [
    {
     "data": {
      "text/plain": [
       "['Mark Green (R) •Incumbent•Winner(69.9% of vote)',\n",
       " 'Kiran Sreepada (D)(27.3% of vote)',\n",
       " 'Ronald Brown (I)(2.2% of vote)',\n",
       " 'Scott Vieira Jr (I)(0.6% of vote)']"
      ]
     },
     "execution_count": 11,
     "metadata": {},
     "output_type": "execute_result"
    }
   ],
   "source": [
    "#From Candidates, extract just the text parts inclding the candidate name and header\n",
    "Cand_list_text = []\n",
    "for i in Candidates:\n",
    "    Cand_list_text.append(i.get_text(strip=True))\n",
    "Cand_list_text"
   ]
  },
  {
   "cell_type": "code",
   "execution_count": 12,
   "id": "aa6f3f05",
   "metadata": {},
   "outputs": [
    {
     "data": {
      "text/plain": [
       "list"
      ]
     },
     "execution_count": 12,
     "metadata": {},
     "output_type": "execute_result"
    }
   ],
   "source": [
    "type(Cand_list_text)"
   ]
  },
  {
   "cell_type": "code",
   "execution_count": 13,
   "id": "10a0c2c4",
   "metadata": {},
   "outputs": [],
   "source": [
    "CandNames = []              #Make empty lists\n",
    "district_num = []\n",
    "incumbent=[]\n",
    "winner=[] \n",
    "\n",
    "for i in Cand_list_text:    #add information about candidate to lists\n",
    "    winner.append(str(re.findall(r\"Winner\", i)).replace(\"[\", \"\").replace(\"]\", \"\").replace(\"'\", \"\"))\n",
    "    incumbent.append(str(re.findall(r\"Incumbent\", i)).replace(\"[\", \"\").replace(\"]\", \"\").replace(\"'\", \"\"))\n",
    "    CandNames.append(str(re.findall(r\".+\\([A-Z]\", i)).replace(\"'\", \"\").replace(\"[\", \"\").replace(\"]\", \"\").replace(\"(R\", \"\").replace(\"(D\", \"\").replace(\"(I\", \"\"))\n",
    "    district_num.append(str(re.findall(r\"0\\d{1}\\W\", district.text)).replace(\" \", \"\").replace(\"[\", \"\").replace(\"]\", \"\").replace(\"'\", \"\"))\n",
    "    "
   ]
  },
  {
   "cell_type": "code",
   "execution_count": 14,
   "id": "0d0da802",
   "metadata": {},
   "outputs": [
    {
     "data": {
      "text/html": [
       "<div>\n",
       "<style scoped>\n",
       "    .dataframe tbody tr th:only-of-type {\n",
       "        vertical-align: middle;\n",
       "    }\n",
       "\n",
       "    .dataframe tbody tr th {\n",
       "        vertical-align: top;\n",
       "    }\n",
       "\n",
       "    .dataframe thead th {\n",
       "        text-align: right;\n",
       "    }\n",
       "</style>\n",
       "<table border=\"1\" class=\"dataframe\">\n",
       "  <thead>\n",
       "    <tr style=\"text-align: right;\">\n",
       "      <th></th>\n",
       "      <th>Candidate Name</th>\n",
       "      <th>District Number</th>\n",
       "      <th>Incumbent</th>\n",
       "      <th>Winner</th>\n",
       "    </tr>\n",
       "  </thead>\n",
       "  <tbody>\n",
       "    <tr>\n",
       "      <th>0</th>\n",
       "      <td>Mark Green</td>\n",
       "      <td>07</td>\n",
       "      <td>Incumbent</td>\n",
       "      <td>Winner</td>\n",
       "    </tr>\n",
       "    <tr>\n",
       "      <th>1</th>\n",
       "      <td>Kiran Sreepada</td>\n",
       "      <td>07</td>\n",
       "      <td></td>\n",
       "      <td></td>\n",
       "    </tr>\n",
       "    <tr>\n",
       "      <th>2</th>\n",
       "      <td>Ronald Brown</td>\n",
       "      <td>07</td>\n",
       "      <td></td>\n",
       "      <td></td>\n",
       "    </tr>\n",
       "    <tr>\n",
       "      <th>3</th>\n",
       "      <td>Scott Vieira Jr</td>\n",
       "      <td>07</td>\n",
       "      <td></td>\n",
       "      <td></td>\n",
       "    </tr>\n",
       "  </tbody>\n",
       "</table>\n",
       "</div>"
      ],
      "text/plain": [
       "     Candidate Name District Number  Incumbent  Winner\n",
       "0       Mark Green               07  Incumbent  Winner\n",
       "1   Kiran Sreepada               07                   \n",
       "2     Ronald Brown               07                   \n",
       "3  Scott Vieira Jr               07                   "
      ]
     },
     "execution_count": 14,
     "metadata": {},
     "output_type": "execute_result"
    }
   ],
   "source": [
    "#Make a dataframe using dictionary\n",
    "di = {'Candidate Name': CandNames,'District Number':district_num,  'Incumbent':incumbent, 'Winner':winner}\n",
    "pd.DataFrame(di)"
   ]
  },
  {
   "cell_type": "markdown",
   "id": "3bc2c20a",
   "metadata": {},
   "source": [
    "# All TN Districts"
   ]
  },
  {
   "cell_type": "code",
   "execution_count": 147,
   "id": "89f5cd6a",
   "metadata": {},
   "outputs": [
    {
     "name": "stdout",
     "output_type": "stream",
     "text": [
      "https://www.opensecrets.org/races/candidates?cycle=2020&id=TN010&spec=N\n"
     ]
    }
   ],
   "source": [
    "#testing url\n",
    "d_num = 10\n",
    "baseurl = 'https://www.opensecrets.org/races/candidates?cycle=2020&id=TN0'  + str(d_num) + '&spec=N'\n",
    "r = requests.get('https://www.opensecrets.org/races/candidates?cycle=2020&id=TN07&spec=N')\n",
    "soup = BS(r.text,'html.parser')\n",
    "print(baseurl)"
   ]
  },
  {
   "cell_type": "code",
   "execution_count": 149,
   "id": "4e909687",
   "metadata": {
    "scrolled": false
   },
   "outputs": [],
   "source": [
    "a_tags = soup.find('ol',attrs = {'class':'SubNav-items'}).find_all('a')  #Navigation showing list of districts"
   ]
  },
  {
   "cell_type": "code",
   "execution_count": 150,
   "id": "c59de1eb",
   "metadata": {},
   "outputs": [
    {
     "data": {
      "text/plain": [
       "9"
      ]
     },
     "execution_count": 150,
     "metadata": {},
     "output_type": "execute_result"
    }
   ],
   "source": [
    "d_count = 0                               #Start counting districts in state\n",
    "for i in a_tags:\n",
    "    if str.isdigit(i.text.strip()[-1]):   #if the last substring is a digit\n",
    "        d_count+=1                        #increase district count by 1\n",
    "    #print(i.text.strip()[-1])\n",
    "    \n",
    "d_count"
   ]
  },
  {
   "cell_type": "code",
   "execution_count": 151,
   "id": "4c332d75",
   "metadata": {},
   "outputs": [
    {
     "name": "stdout",
     "output_type": "stream",
     "text": [
      "https://www.opensecrets.org/races/candidates?cycle=2020&id=TN01&spec=N\n",
      "https://www.opensecrets.org/races/candidates?cycle=2020&id=TN02&spec=N\n",
      "https://www.opensecrets.org/races/candidates?cycle=2020&id=TN03&spec=N\n",
      "https://www.opensecrets.org/races/candidates?cycle=2020&id=TN04&spec=N\n",
      "https://www.opensecrets.org/races/candidates?cycle=2020&id=TN05&spec=N\n",
      "https://www.opensecrets.org/races/candidates?cycle=2020&id=TN06&spec=N\n",
      "https://www.opensecrets.org/races/candidates?cycle=2020&id=TN07&spec=N\n",
      "https://www.opensecrets.org/races/candidates?cycle=2020&id=TN08&spec=N\n",
      "https://www.opensecrets.org/races/candidates?cycle=2020&id=TN09&spec=N\n"
     ]
    }
   ],
   "source": [
    "count = 1\n",
    "\n",
    "district_num = []\n",
    "incumbent=[]\n",
    "winner=[]\n",
    "CandNames = []\n",
    "\n",
    "while count <= d_count:     #for each district number\n",
    "    url = 'https://www.opensecrets.org/races/candidates?cycle=2020&id=TN0'  + str(count) + '&spec=N'   #here's the url\n",
    "    r = requests.get(url)\n",
    "    soup = BS(r.text,'html.parser')\n",
    "    \n",
    "    print(url)\n",
    "\n",
    "    district = soup.find('h1',attrs = {'class':'Hero-title'})\n",
    "    dist_num = str(re.findall(r\"0\\d{1}\\W\", district.text)).replace(\" \", \"\").replace(\"[\", \"\").replace(\"]\", \"\").replace(\"'\", \"\")\n",
    "\n",
    "    #Find member blocks for each candidate\n",
    "    members = soup.find_all('div',attrs = {'class':'Members--list-item'})\n",
    "\n",
    "    #make list Candidates, grabs each member column with members--bio u-richtext\n",
    "    Candidates = []\n",
    "    for cand in members:\n",
    "        Candidates.append(cand.find('div', attrs = {'class' : 'Members--bio u-richtext'}))\n",
    "    \n",
    "    \n",
    "    #from Candidates, extract just the text parts inclding the candidate name and header\n",
    "    Cand_list_text = []\n",
    "    for i in Candidates:\n",
    "        Cand_list_text.append(i.get_text(strip=True))\n",
    "    \n",
    "    \n",
    "    for i in Cand_list_text:\n",
    "        winner.append(str(re.findall(r\"Winner\", i)).replace(\"[\", \"\").replace(\"]\", \"\").replace(\"'\", \"\"))\n",
    "        incumbent.append(str(re.findall(r\"Incumbent\", i)).replace(\"[\", \"\").replace(\"]\", \"\").replace(\"'\", \"\"))\n",
    "        CandNames.append(str(re.findall(r\".+\\([A-Z]\", i)).replace(\"'\", \"\").replace(\"[\", \"\").replace(\"]\", \"\").replace(\"(R\", \"\").replace(\"(D\", \"\").replace(\"(I\", \"\"))\n",
    "        district_num.append(str(re.findall(r\"0\\d{1}\\W\", district.text)).replace(\" \", \"\").replace(\"[\", \"\").replace(\"]\", \"\").replace(\"'\", \"\"))\n",
    "    \n",
    "    count+=1 # increment count\n",
    "    \n",
    "    time.sleep(3)  "
   ]
  },
  {
   "cell_type": "code",
   "execution_count": 152,
   "id": "cacb0069",
   "metadata": {},
   "outputs": [],
   "source": [
    "#Make a dataframe using dictionary\n",
    "di = {'Candidate Name': CandNames,'District Number':district_num,  'Incumbent':incumbent, 'Winner':winner}\n",
    "z = pd.DataFrame(di)"
   ]
  },
  {
   "cell_type": "code",
   "execution_count": 153,
   "id": "a24e86b4",
   "metadata": {},
   "outputs": [],
   "source": [
    "Incumbency_li = []\n",
    "for i in z['Incumbent']:\n",
    "        if i == 'Incumbent':\n",
    "            Incumbency_li.append('Incumbent')\n",
    "        else:\n",
    "            Incumbency_li.append('Not')\n",
    "\n",
    "z['Incumbency'] = Incumbency_li\n",
    "\n",
    "Winner_li = []\n",
    "for i in z['Winner']:\n",
    "        if i == 'Winner':\n",
    "            Winner_li.append('Winner')\n",
    "        else:\n",
    "            Winner_li.append('Not')\n",
    "z['Winner'] = Winner_li"
   ]
  },
  {
   "cell_type": "code",
   "execution_count": 154,
   "id": "bfee68b9",
   "metadata": {},
   "outputs": [],
   "source": [
    "z = z.drop(['Incumbent'], axis=1)"
   ]
  },
  {
   "cell_type": "code",
   "execution_count": 155,
   "id": "11bfa595",
   "metadata": {},
   "outputs": [
    {
     "data": {
      "text/html": [
       "<div>\n",
       "<style scoped>\n",
       "    .dataframe tbody tr th:only-of-type {\n",
       "        vertical-align: middle;\n",
       "    }\n",
       "\n",
       "    .dataframe tbody tr th {\n",
       "        vertical-align: top;\n",
       "    }\n",
       "\n",
       "    .dataframe thead th {\n",
       "        text-align: right;\n",
       "    }\n",
       "</style>\n",
       "<table border=\"1\" class=\"dataframe\">\n",
       "  <thead>\n",
       "    <tr style=\"text-align: right;\">\n",
       "      <th></th>\n",
       "      <th>Candidate Name</th>\n",
       "      <th>District Number</th>\n",
       "      <th>Winner</th>\n",
       "      <th>Incumbency</th>\n",
       "    </tr>\n",
       "  </thead>\n",
       "  <tbody>\n",
       "    <tr>\n",
       "      <th>0</th>\n",
       "      <td>Diana Harshbarger</td>\n",
       "      <td>01</td>\n",
       "      <td>Winner</td>\n",
       "      <td>Not</td>\n",
       "    </tr>\n",
       "    <tr>\n",
       "      <th>1</th>\n",
       "      <td>Blair Nicole Walsingham</td>\n",
       "      <td>01</td>\n",
       "      <td>Not</td>\n",
       "      <td>Not</td>\n",
       "    </tr>\n",
       "    <tr>\n",
       "      <th>2</th>\n",
       "      <td>Tim Burchett</td>\n",
       "      <td>02</td>\n",
       "      <td>Winner</td>\n",
       "      <td>Incumbent</td>\n",
       "    </tr>\n",
       "    <tr>\n",
       "      <th>3</th>\n",
       "      <td>Renee Hoyos</td>\n",
       "      <td>02</td>\n",
       "      <td>Not</td>\n",
       "      <td>Not</td>\n",
       "    </tr>\n",
       "    <tr>\n",
       "      <th>4</th>\n",
       "      <td>Chuck Fleischmann</td>\n",
       "      <td>03</td>\n",
       "      <td>Winner</td>\n",
       "      <td>Incumbent</td>\n",
       "    </tr>\n",
       "    <tr>\n",
       "      <th>5</th>\n",
       "      <td>Meg Gorman</td>\n",
       "      <td>03</td>\n",
       "      <td>Not</td>\n",
       "      <td>Not</td>\n",
       "    </tr>\n",
       "    <tr>\n",
       "      <th>6</th>\n",
       "      <td>Scott Desjarlais</td>\n",
       "      <td>04</td>\n",
       "      <td>Winner</td>\n",
       "      <td>Incumbent</td>\n",
       "    </tr>\n",
       "    <tr>\n",
       "      <th>7</th>\n",
       "      <td>Christopher Hale</td>\n",
       "      <td>04</td>\n",
       "      <td>Not</td>\n",
       "      <td>Not</td>\n",
       "    </tr>\n",
       "    <tr>\n",
       "      <th>8</th>\n",
       "      <td>Jim Cooper</td>\n",
       "      <td>05</td>\n",
       "      <td>Winner</td>\n",
       "      <td>Incumbent</td>\n",
       "    </tr>\n",
       "    <tr>\n",
       "      <th>9</th>\n",
       "      <td>John Rose</td>\n",
       "      <td>06</td>\n",
       "      <td>Winner</td>\n",
       "      <td>Incumbent</td>\n",
       "    </tr>\n",
       "    <tr>\n",
       "      <th>10</th>\n",
       "      <td>Mark Green</td>\n",
       "      <td>07</td>\n",
       "      <td>Winner</td>\n",
       "      <td>Incumbent</td>\n",
       "    </tr>\n",
       "    <tr>\n",
       "      <th>11</th>\n",
       "      <td>Kiran Sreepada</td>\n",
       "      <td>07</td>\n",
       "      <td>Not</td>\n",
       "      <td>Not</td>\n",
       "    </tr>\n",
       "    <tr>\n",
       "      <th>12</th>\n",
       "      <td>Ronald Brown</td>\n",
       "      <td>07</td>\n",
       "      <td>Not</td>\n",
       "      <td>Not</td>\n",
       "    </tr>\n",
       "    <tr>\n",
       "      <th>13</th>\n",
       "      <td>Scott Vieira Jr</td>\n",
       "      <td>07</td>\n",
       "      <td>Not</td>\n",
       "      <td>Not</td>\n",
       "    </tr>\n",
       "    <tr>\n",
       "      <th>14</th>\n",
       "      <td>David Kustoff</td>\n",
       "      <td>08</td>\n",
       "      <td>Winner</td>\n",
       "      <td>Incumbent</td>\n",
       "    </tr>\n",
       "    <tr>\n",
       "      <th>15</th>\n",
       "      <td>Erika Stotts Pearson</td>\n",
       "      <td>08</td>\n",
       "      <td>Not</td>\n",
       "      <td>Not</td>\n",
       "    </tr>\n",
       "    <tr>\n",
       "      <th>16</th>\n",
       "      <td>Steve Cohen</td>\n",
       "      <td>09</td>\n",
       "      <td>Winner</td>\n",
       "      <td>Incumbent</td>\n",
       "    </tr>\n",
       "    <tr>\n",
       "      <th>17</th>\n",
       "      <td>Charlotte Bergmann</td>\n",
       "      <td>09</td>\n",
       "      <td>Not</td>\n",
       "      <td>Not</td>\n",
       "    </tr>\n",
       "    <tr>\n",
       "      <th>18</th>\n",
       "      <td>Dennis Clark</td>\n",
       "      <td>09</td>\n",
       "      <td>Not</td>\n",
       "      <td>Not</td>\n",
       "    </tr>\n",
       "  </tbody>\n",
       "</table>\n",
       "</div>"
      ],
      "text/plain": [
       "              Candidate Name District Number  Winner Incumbency\n",
       "0         Diana Harshbarger               01  Winner        Not\n",
       "1   Blair Nicole Walsingham               01     Not        Not\n",
       "2              Tim Burchett               02  Winner  Incumbent\n",
       "3               Renee Hoyos               02     Not        Not\n",
       "4         Chuck Fleischmann               03  Winner  Incumbent\n",
       "5                Meg Gorman               03     Not        Not\n",
       "6          Scott Desjarlais               04  Winner  Incumbent\n",
       "7          Christopher Hale               04     Not        Not\n",
       "8                Jim Cooper               05  Winner  Incumbent\n",
       "9                 John Rose               06  Winner  Incumbent\n",
       "10               Mark Green               07  Winner  Incumbent\n",
       "11           Kiran Sreepada               07     Not        Not\n",
       "12             Ronald Brown               07     Not        Not\n",
       "13          Scott Vieira Jr               07     Not        Not\n",
       "14            David Kustoff               08  Winner  Incumbent\n",
       "15     Erika Stotts Pearson               08     Not        Not\n",
       "16              Steve Cohen               09  Winner  Incumbent\n",
       "17       Charlotte Bergmann               09     Not        Not\n",
       "18             Dennis Clark               09     Not        Not"
      ]
     },
     "execution_count": 155,
     "metadata": {},
     "output_type": "execute_result"
    }
   ],
   "source": [
    "z"
   ]
  },
  {
   "cell_type": "code",
   "execution_count": 22,
   "id": "1e508be5",
   "metadata": {
    "scrolled": true
   },
   "outputs": [],
   "source": [
    "z.to_csv('test.csv')"
   ]
  },
  {
   "cell_type": "markdown",
   "id": "5e599ff5",
   "metadata": {},
   "source": [
    "# ALL STATES"
   ]
  },
  {
   "cell_type": "code",
   "execution_count": 84,
   "id": "401fa245",
   "metadata": {},
   "outputs": [],
   "source": [
    "#List of states\n",
    "states = [ 'AK', 'AL', 'AR', 'AZ', 'CA', 'CO', 'CT', 'DE', 'FL', 'GA',\n",
    "           'HI', 'IA', 'ID', 'IL', 'IN', 'KS', 'KY', 'LA', 'MA', 'MD', 'ME',\n",
    "           'MI', 'MN', 'MO', 'MS', 'MT', 'NC', 'ND', 'NE', 'NH', 'NJ', 'NM',\n",
    "           'NV', 'NY', 'OH', 'OK', 'OR', 'PA', 'RI', 'SC', 'SD', 'TN', 'TX',\n",
    "           'UT', 'VA', 'VT', 'WA', 'WI', 'WV', 'WY']"
   ]
  },
  {
   "cell_type": "code",
   "execution_count": 135,
   "id": "51d93187",
   "metadata": {},
   "outputs": [
    {
     "name": "stdout",
     "output_type": "stream",
     "text": [
      "https://www.opensecrets.org/races/candidates?cycle=2020&id=MD01&spec=N\n"
     ]
    }
   ],
   "source": [
    "#testing url for a state\n",
    "state = 'MD'\n",
    "\n",
    "baseurl = 'https://www.opensecrets.org/races/candidates?cycle=2020&id='+ str(state) + '01&spec=N'\n",
    "r = requests.get(baseurl)\n",
    "soup = BS(r.text,'html.parser')\n",
    "print(baseurl)"
   ]
  },
  {
   "cell_type": "code",
   "execution_count": 136,
   "id": "8392c91d",
   "metadata": {
    "scrolled": false
   },
   "outputs": [
    {
     "data": {
      "text/plain": [
       "[<a class=\"SubNav-link SubNav-link--active\" href=\"/races/summary?cycle=2020&amp;id=MD01&amp;spec=N\">\n",
       "                         Maryland District 01 <i aria-hidden=\"true\" class=\"fa fa-angle-right\"></i>\n",
       " </a>,\n",
       " <a class=\"SubNav-link\" href=\"/races/summary?cycle=2020&amp;id=MD02&amp;spec=N\">\n",
       "                         Maryland District 02 <i aria-hidden=\"true\" class=\"fa fa-angle-right\"></i>\n",
       " </a>,\n",
       " <a class=\"SubNav-link\" href=\"/races/summary?cycle=2020&amp;id=MD03&amp;spec=N\">\n",
       "                         Maryland District 03 <i aria-hidden=\"true\" class=\"fa fa-angle-right\"></i>\n",
       " </a>,\n",
       " <a class=\"SubNav-link\" href=\"/races/summary?cycle=2020&amp;id=MD04&amp;spec=N\">\n",
       "                         Maryland District 04 <i aria-hidden=\"true\" class=\"fa fa-angle-right\"></i>\n",
       " </a>,\n",
       " <a class=\"SubNav-link\" href=\"/races/summary?cycle=2020&amp;id=MD05&amp;spec=N\">\n",
       "                         Maryland District 05 <i aria-hidden=\"true\" class=\"fa fa-angle-right\"></i>\n",
       " </a>,\n",
       " <a class=\"SubNav-link\" href=\"/races/summary?cycle=2020&amp;id=MD06&amp;spec=N\">\n",
       "                         Maryland District 06 <i aria-hidden=\"true\" class=\"fa fa-angle-right\"></i>\n",
       " </a>,\n",
       " <a class=\"SubNav-link\" href=\"/races/summary?cycle=2020&amp;id=MD07&amp;spec=Y\">\n",
       "                         Maryland District 07 <i aria-hidden=\"true\" class=\"fa fa-angle-right\"></i>\n",
       " </a>,\n",
       " <a class=\"SubNav-link\" href=\"/races/summary?cycle=2020&amp;id=MD07&amp;spec=N\">\n",
       "                         Maryland District 07 <i aria-hidden=\"true\" class=\"fa fa-angle-right\"></i>\n",
       " </a>,\n",
       " <a class=\"SubNav-link\" href=\"/races/summary?cycle=2020&amp;id=MD08&amp;spec=N\">\n",
       "                         Maryland District 08 <i aria-hidden=\"true\" class=\"fa fa-angle-right\"></i>\n",
       " </a>]"
      ]
     },
     "execution_count": 136,
     "metadata": {},
     "output_type": "execute_result"
    }
   ],
   "source": [
    "#extract navigation table that lists the districts\n",
    "a_tags = soup.find('ol',attrs = {'class':'SubNav-items'}).find_all('a')\n",
    "a_tags"
   ]
  },
  {
   "cell_type": "code",
   "execution_count": 138,
   "id": "ca3bfe4a",
   "metadata": {},
   "outputs": [
    {
     "data": {
      "text/plain": [
       "8"
      ]
     },
     "execution_count": 138,
     "metadata": {},
     "output_type": "execute_result"
    }
   ],
   "source": [
    "#Count the number of districts in a_tags\n",
    "for i in a_tags:\n",
    "    if str.isdigit(i.text.strip()[-1]):               #If the last string is a digit\n",
    "        d_count = int(a_tags[-1].text.strip()[-1])     #extract the digit (district number) from the last district in the list                 \n",
    "        \n",
    "    #print(i.text.strip()[-1])\n",
    "    \n",
    "    \n",
    "d_count"
   ]
  },
  {
   "cell_type": "code",
   "execution_count": 140,
   "id": "1c1e8c8f",
   "metadata": {
    "scrolled": true
   },
   "outputs": [
    {
     "name": "stdout",
     "output_type": "stream",
     "text": [
      "50 AK\n",
      "49 AL\n",
      "48 AR\n",
      "47 AZ\n",
      "46 CA\n",
      "45 CO\n",
      "44 CT\n",
      "43 DE\n",
      "42 FL\n",
      "41 GA\n",
      "40 HI\n",
      "39 IA\n",
      "38 ID\n",
      "37 IL\n",
      "36 IN\n",
      "35 KS\n",
      "34 KY\n",
      "33 LA\n",
      "32 MA\n",
      "31 MD\n",
      "30 ME\n",
      "29 MI\n",
      "28 MN\n",
      "27 MO\n",
      "26 MS\n",
      "25 MT\n",
      "24 NC\n",
      "23 ND\n",
      "22 NE\n",
      "21 NH\n",
      "20 NJ\n",
      "19 NM\n",
      "18 NV\n",
      "17 NY\n",
      "16 OH\n",
      "15 OK\n",
      "14 OR\n",
      "13 PA\n",
      "12 RI\n",
      "11 SC\n",
      "10 SD\n",
      "9 TN\n",
      "8 TX\n",
      "7 UT\n",
      "6 VA\n",
      "5 VT\n",
      "4 WA\n",
      "3 WI\n",
      "2 WV\n",
      "1 WY\n"
     ]
    }
   ],
   "source": [
    "district_num = []\n",
    "incumbent=[]\n",
    "winner=[]\n",
    "CandNames = []\n",
    "CandState = []\n",
    "t = len(states) + 1\n",
    "\n",
    "#for loop for each state: goes to each states webpage, and counts the district numbers: d_count\n",
    "for s in states:\n",
    "    \n",
    "    #print count down and what state the for loop is on\n",
    "    t-=1    \n",
    "    print(str(t) + \" \" + s)\n",
    "    \n",
    "    #base url with variable state s\n",
    "    baseurl = 'https://www.opensecrets.org/races/candidates?cycle=2020&id='+ str(s) + '01&spec=N'\n",
    "    r = requests.get(baseurl)\n",
    "    soup = BS(r.text,'html.parser')\n",
    "    \n",
    "    #a_tags is the list of districts\n",
    "    a_tags = soup.find('ol',attrs = {'class':'SubNav-items'}).find_all('a')\n",
    "                                 \n",
    "    #d_count (district count) is the last substring [-1] in the last distict (last item in a_tags)[-1]\n",
    "    for i in a_tags:\n",
    "        if str.isdigit(i.text.strip()[-1]):           \n",
    "            d_count = int(a_tags[-1].text.strip()[-1])\n",
    "            \n",
    "        \n",
    "    \n",
    "    time.sleep(1)  #pause 1 second between each state\n",
    "    \n",
    "    #start count at 1 to count number of districts in the state\n",
    "    #resets count to 1 for each state\n",
    "    count = 1\n",
    "    \n",
    "    #until you count upto the number of districts (d_counts)\n",
    "    while count <= d_count:\n",
    "        #go to each district's webpage in the state\n",
    "        url = 'https://www.opensecrets.org/races/candidates?cycle=2020&id='+ str(s) +  '0'  + str(count) + '&spec=N'  \n",
    "        r = requests.get(url)\n",
    "        soup = BS(r.text,'html.parser')\n",
    "    \n",
    "        #print(url)\n",
    "        \n",
    "        #find the district number\n",
    "        district = soup.find('h1',attrs = {'class':'Hero-title'})\n",
    "        dist_num = str(re.findall(r\"0\\d{1}\\W\", district.text)).replace(\" \", \"\").replace(\"[\", \"\").replace(\"]\", \"\").replace(\"'\", \"\")\n",
    "\n",
    "        #find the block for each candidate\n",
    "        members = soup.find_all('div',attrs = {'class':'Members--list-item'})\n",
    "\n",
    "        #extract information for each cand from member block and put it in the Candidates list\n",
    "        Candidates = []\n",
    "        for cand in members:\n",
    "            Candidates.append(cand.find('div', attrs = {'class' : 'Members--bio u-richtext'}))\n",
    "    \n",
    "    \n",
    "        #extract the text from Candiates and put it in the Cand_list_text list\n",
    "        Cand_list_text = []\n",
    "        for i in Candidates:\n",
    "            Cand_list_text.append(i.get_text(strip=True))\n",
    "    \n",
    "        #for each candidate, extract Name, Winner, Incumbent, District and append to lists\n",
    "        for i in Cand_list_text:\n",
    "            winner.append(str(re.findall(r\"Winner\", i)).replace(\"[\", \"\").replace(\"]\", \"\").replace(\"'\", \"\"))\n",
    "            incumbent.append(str(re.findall(r\"Incumbent\", i)).replace(\"[\", \"\").replace(\"]\", \"\").replace(\"'\", \"\"))\n",
    "            CandNames.append(str(re.findall(r\".+\\([A-Z]\", i)).replace(\"'\", \"\").replace(\"[\", \"\").replace(\"]\", \"\").replace(\"(R\", \"\").replace(\"(D\", \"\").replace(\"(I\", \"\"))\n",
    "            district_num.append(str(re.findall(r\"0\\d{1}\\W\", district.text)).replace(\" \", \"\").replace(\"[\", \"\").replace(\"]\", \"\").replace(\"'\", \"\"))\n",
    "            CandState.append(s)\n",
    "    \n",
    "        #at the end of the while-loop, add the count to go up to the next district\n",
    "        #exits out of the while-loop when count > d_count to go back to the for-loop for each state\n",
    "        count+=1 \n",
    "        \n",
    "        #at the end of while-loop, pause 1 second\n",
    "        time.sleep(1) "
   ]
  },
  {
   "cell_type": "code",
   "execution_count": 141,
   "id": "555747f7",
   "metadata": {},
   "outputs": [],
   "source": [
    "#Make a dataframe using dictionary\n",
    "di = {'Candidate Name': CandNames, 'State':CandState, 'District Number':district_num,  'Incumbent':incumbent, 'Winner':winner}\n",
    "z = pd.DataFrame(di)"
   ]
  },
  {
   "cell_type": "code",
   "execution_count": 143,
   "id": "b7990545",
   "metadata": {},
   "outputs": [],
   "source": [
    "#Fill in Incumbency and Winner Columns for blank values\n",
    "\n",
    "Incumbency_li = []\n",
    "for i in z['Incumbent']:\n",
    "        if i == 'Incumbent':\n",
    "            Incumbency_li.append('Incumbent')\n",
    "        else:\n",
    "            Incumbency_li.append('Not')\n",
    "\n",
    "z['Incumbency'] = Incumbency_li\n",
    "\n",
    "Winner_li = []\n",
    "for i in z['Winner']:\n",
    "        if i == 'Winner':\n",
    "            Winner_li.append('Winner')\n",
    "        else:\n",
    "            Winner_li.append('Not')\n",
    "z['Winner'] = Winner_li"
   ]
  },
  {
   "cell_type": "code",
   "execution_count": 145,
   "id": "d2a66ad1",
   "metadata": {},
   "outputs": [],
   "source": [
    "z = z.drop(['Incumbent'], axis=1)"
   ]
  },
  {
   "cell_type": "code",
   "execution_count": 146,
   "id": "279b483d",
   "metadata": {},
   "outputs": [
    {
     "data": {
      "text/html": [
       "<div>\n",
       "<style scoped>\n",
       "    .dataframe tbody tr th:only-of-type {\n",
       "        vertical-align: middle;\n",
       "    }\n",
       "\n",
       "    .dataframe tbody tr th {\n",
       "        vertical-align: top;\n",
       "    }\n",
       "\n",
       "    .dataframe thead th {\n",
       "        text-align: right;\n",
       "    }\n",
       "</style>\n",
       "<table border=\"1\" class=\"dataframe\">\n",
       "  <thead>\n",
       "    <tr style=\"text-align: right;\">\n",
       "      <th></th>\n",
       "      <th>Candidate Name</th>\n",
       "      <th>State</th>\n",
       "      <th>District Number</th>\n",
       "      <th>Winner</th>\n",
       "      <th>Incumbency</th>\n",
       "    </tr>\n",
       "  </thead>\n",
       "  <tbody>\n",
       "    <tr>\n",
       "      <th>0</th>\n",
       "      <td>Don Young</td>\n",
       "      <td>AK</td>\n",
       "      <td>01</td>\n",
       "      <td>Winner</td>\n",
       "      <td>Incumbent</td>\n",
       "    </tr>\n",
       "    <tr>\n",
       "      <th>1</th>\n",
       "      <td>Alyse Galvin</td>\n",
       "      <td>AK</td>\n",
       "      <td>01</td>\n",
       "      <td>Not</td>\n",
       "      <td>Not</td>\n",
       "    </tr>\n",
       "    <tr>\n",
       "      <th>2</th>\n",
       "      <td>Jerry Carl</td>\n",
       "      <td>AL</td>\n",
       "      <td>01</td>\n",
       "      <td>Winner</td>\n",
       "      <td>Not</td>\n",
       "    </tr>\n",
       "    <tr>\n",
       "      <th>3</th>\n",
       "      <td>James Averhart</td>\n",
       "      <td>AL</td>\n",
       "      <td>01</td>\n",
       "      <td>Not</td>\n",
       "      <td>Not</td>\n",
       "    </tr>\n",
       "    <tr>\n",
       "      <th>4</th>\n",
       "      <td>Barry Moore</td>\n",
       "      <td>AL</td>\n",
       "      <td>02</td>\n",
       "      <td>Winner</td>\n",
       "      <td>Not</td>\n",
       "    </tr>\n",
       "    <tr>\n",
       "      <th>...</th>\n",
       "      <td>...</td>\n",
       "      <td>...</td>\n",
       "      <td>...</td>\n",
       "      <td>...</td>\n",
       "      <td>...</td>\n",
       "    </tr>\n",
       "    <tr>\n",
       "      <th>454</th>\n",
       "      <td>Carol Miller</td>\n",
       "      <td>WV</td>\n",
       "      <td>03</td>\n",
       "      <td>Winner</td>\n",
       "      <td>Incumbent</td>\n",
       "    </tr>\n",
       "    <tr>\n",
       "      <th>455</th>\n",
       "      <td>Hilary Turner</td>\n",
       "      <td>WV</td>\n",
       "      <td>03</td>\n",
       "      <td>Not</td>\n",
       "      <td>Not</td>\n",
       "    </tr>\n",
       "    <tr>\n",
       "      <th>456</th>\n",
       "      <td>Belinda Fox-Spencer</td>\n",
       "      <td>WV</td>\n",
       "      <td>03</td>\n",
       "      <td>Not</td>\n",
       "      <td>Not</td>\n",
       "    </tr>\n",
       "    <tr>\n",
       "      <th>457</th>\n",
       "      <td>Liz Cheney</td>\n",
       "      <td>WY</td>\n",
       "      <td>01</td>\n",
       "      <td>Winner</td>\n",
       "      <td>Incumbent</td>\n",
       "    </tr>\n",
       "    <tr>\n",
       "      <th>458</th>\n",
       "      <td>Lynnette Grey Bull</td>\n",
       "      <td>WY</td>\n",
       "      <td>01</td>\n",
       "      <td>Not</td>\n",
       "      <td>Not</td>\n",
       "    </tr>\n",
       "  </tbody>\n",
       "</table>\n",
       "<p>459 rows × 5 columns</p>\n",
       "</div>"
      ],
      "text/plain": [
       "           Candidate Name State District Number  Winner Incumbency\n",
       "0              Don Young     AK              01  Winner  Incumbent\n",
       "1           Alyse Galvin     AK              01     Not        Not\n",
       "2             Jerry Carl     AL              01  Winner        Not\n",
       "3         James Averhart     AL              01     Not        Not\n",
       "4            Barry Moore     AL              02  Winner        Not\n",
       "..                    ...   ...             ...     ...        ...\n",
       "454         Carol Miller     WV              03  Winner  Incumbent\n",
       "455        Hilary Turner     WV              03     Not        Not\n",
       "456  Belinda Fox-Spencer     WV              03     Not        Not\n",
       "457           Liz Cheney     WY              01  Winner  Incumbent\n",
       "458   Lynnette Grey Bull     WY              01     Not        Not\n",
       "\n",
       "[459 rows x 5 columns]"
      ]
     },
     "execution_count": 146,
     "metadata": {},
     "output_type": "execute_result"
    }
   ],
   "source": [
    "z"
   ]
  }
 ],
 "metadata": {
  "kernelspec": {
   "display_name": "Python 3",
   "language": "python",
   "name": "python3"
  },
  "language_info": {
   "codemirror_mode": {
    "name": "ipython",
    "version": 3
   },
   "file_extension": ".py",
   "mimetype": "text/x-python",
   "name": "python",
   "nbconvert_exporter": "python",
   "pygments_lexer": "ipython3",
   "version": "3.8.8"
  }
 },
 "nbformat": 4,
 "nbformat_minor": 5
}
