{
 "cells": [
  {
   "cell_type": "code",
   "execution_count": 1,
   "id": "228d7d26",
   "metadata": {},
   "outputs": [],
   "source": [
    "import requests\n",
    "from bs4 import BeautifulSoup as BS\n",
    "import pandas as pd\n",
    "import re"
   ]
  },
  {
   "cell_type": "code",
   "execution_count": 2,
   "id": "94d0585c",
   "metadata": {},
   "outputs": [],
   "source": [
    "URL = 'https://www.opensecrets.org/races/candidates?cycle=2020&id=TN07&spec=N'\n",
    "response = requests.get(URL)"
   ]
  },
  {
   "cell_type": "code",
   "execution_count": 3,
   "id": "75cda872",
   "metadata": {},
   "outputs": [
    {
     "data": {
      "text/plain": [
       "requests.models.Response"
      ]
     },
     "execution_count": 3,
     "metadata": {},
     "output_type": "execute_result"
    }
   ],
   "source": [
    "type(response)"
   ]
  },
  {
   "cell_type": "code",
   "execution_count": 4,
   "id": "e5ec4cbf",
   "metadata": {},
   "outputs": [
    {
     "data": {
      "text/plain": [
       "200"
      ]
     },
     "execution_count": 4,
     "metadata": {},
     "output_type": "execute_result"
    }
   ],
   "source": [
    "response.status_code"
   ]
  },
  {
   "cell_type": "code",
   "execution_count": 5,
   "id": "775f4015",
   "metadata": {},
   "outputs": [],
   "source": [
    "soup = BS(response.text)"
   ]
  },
  {
   "cell_type": "markdown",
   "id": "c01d9c26",
   "metadata": {},
   "source": [
    "**Tennessee District 07**"
   ]
  },
  {
   "cell_type": "code",
   "execution_count": 6,
   "id": "fa006e17",
   "metadata": {},
   "outputs": [],
   "source": [
    "r = requests.get('https://www.opensecrets.org/races/candidates?cycle=2020&id=TN07&spec=N')\n",
    "soup = BS(r.text,'html.parser')"
   ]
  },
  {
   "cell_type": "code",
   "execution_count": 7,
   "id": "7ee298c7",
   "metadata": {},
   "outputs": [
    {
     "data": {
      "text/plain": [
       "'Tennessee District 07 2020 Race'"
      ]
     },
     "execution_count": 7,
     "metadata": {},
     "output_type": "execute_result"
    }
   ],
   "source": [
    "#Find the district (Ex. district 07)\n",
    "district = soup.find('h1',attrs = {'class':'Hero-title'})\n",
    "district.text"
   ]
  },
  {
   "cell_type": "code",
   "execution_count": 8,
   "id": "7963c059",
   "metadata": {},
   "outputs": [
    {
     "data": {
      "text/plain": [
       "'07'"
      ]
     },
     "execution_count": 8,
     "metadata": {},
     "output_type": "execute_result"
    }
   ],
   "source": [
    "#Find the district number (Ex. district 07)\n",
    "district = soup.find('h1',attrs = {'class':'Hero-title'})\n",
    "dist_num = str(re.findall(r\"0\\d{1}\\W\", district.text)).replace(\" \", \"\").replace(\"[\", \"\").replace(\"]\", \"\").replace(\"'\", \"\")\n",
    "dist_num"
   ]
  },
  {
   "cell_type": "code",
   "execution_count": 9,
   "id": "fd676960",
   "metadata": {},
   "outputs": [],
   "source": [
    "#Find member blocks for each candidate\n",
    "members = soup.find_all('div',attrs = {'class':'Members--list-item'})"
   ]
  },
  {
   "cell_type": "code",
   "execution_count": 10,
   "id": "894ca797",
   "metadata": {},
   "outputs": [],
   "source": [
    "#Make list Candidates, grabs each member column with members--bio u-richtext\n",
    "Candidates = []\n",
    "for cand in members:\n",
    "    Candidates.append(cand.find('div', attrs = {'class' : 'Members--bio u-richtext'}))"
   ]
  },
  {
   "cell_type": "code",
   "execution_count": 11,
   "id": "eb51e8be",
   "metadata": {},
   "outputs": [
    {
     "data": {
      "text/plain": [
       "['Mark Green (R) •Incumbent•Winner(69.9% of vote)',\n",
       " 'Kiran Sreepada (D)(27.3% of vote)',\n",
       " 'Ronald Brown (I)(2.2% of vote)',\n",
       " 'Scott Vieira Jr (I)(0.6% of vote)']"
      ]
     },
     "execution_count": 11,
     "metadata": {},
     "output_type": "execute_result"
    }
   ],
   "source": [
    "#From Candidates, extract just the text parts inclding the candidate name and header\n",
    "Cand_list_text = []\n",
    "for i in Candidates:\n",
    "    Cand_list_text.append(i.get_text(strip=True))\n",
    "Cand_list_text"
   ]
  },
  {
   "cell_type": "code",
   "execution_count": 12,
   "id": "576faa70",
   "metadata": {},
   "outputs": [
    {
     "data": {
      "text/plain": [
       "list"
      ]
     },
     "execution_count": 12,
     "metadata": {},
     "output_type": "execute_result"
    }
   ],
   "source": [
    "type(Cand_list_text)"
   ]
  },
  {
   "cell_type": "code",
   "execution_count": 13,
   "id": "10a0c2c4",
   "metadata": {},
   "outputs": [],
   "source": [
    "CandNames = []              #Make empty lists\n",
    "district_num = []\n",
    "incumbent=[]\n",
    "winner=[] \n",
    "\n",
    "for i in Cand_list_text:    #add information about candidate to lists\n",
    "    winner.append(str(re.findall(r\"Winner\", i)).replace(\"[\", \"\").replace(\"]\", \"\").replace(\"'\", \"\"))\n",
    "    incumbent.append(str(re.findall(r\"Incumbent\", i)).replace(\"[\", \"\").replace(\"]\", \"\").replace(\"'\", \"\"))\n",
    "    CandNames.append(str(re.findall(r\".+\\([A-Z]\", i)).replace(\"'\", \"\").replace(\"[\", \"\").replace(\"]\", \"\").replace(\"(R\", \"\").replace(\"(D\", \"\").replace(\"(I\", \"\"))\n",
    "    district_num.append(str(re.findall(r\"0\\d{1}\\W\", district.text)).replace(\" \", \"\").replace(\"[\", \"\").replace(\"]\", \"\").replace(\"'\", \"\"))\n",
    "    "
   ]
  },
  {
   "cell_type": "code",
   "execution_count": 14,
   "id": "0d0da802",
   "metadata": {},
   "outputs": [
    {
     "data": {
      "text/html": [
       "<div>\n",
       "<style scoped>\n",
       "    .dataframe tbody tr th:only-of-type {\n",
       "        vertical-align: middle;\n",
       "    }\n",
       "\n",
       "    .dataframe tbody tr th {\n",
       "        vertical-align: top;\n",
       "    }\n",
       "\n",
       "    .dataframe thead th {\n",
       "        text-align: right;\n",
       "    }\n",
       "</style>\n",
       "<table border=\"1\" class=\"dataframe\">\n",
       "  <thead>\n",
       "    <tr style=\"text-align: right;\">\n",
       "      <th></th>\n",
       "      <th>Candidate Name</th>\n",
       "      <th>District Number</th>\n",
       "      <th>Incumbent</th>\n",
       "      <th>Winner</th>\n",
       "    </tr>\n",
       "  </thead>\n",
       "  <tbody>\n",
       "    <tr>\n",
       "      <th>0</th>\n",
       "      <td>Mark Green</td>\n",
       "      <td>07</td>\n",
       "      <td>Incumbent</td>\n",
       "      <td>Winner</td>\n",
       "    </tr>\n",
       "    <tr>\n",
       "      <th>1</th>\n",
       "      <td>Kiran Sreepada</td>\n",
       "      <td>07</td>\n",
       "      <td></td>\n",
       "      <td></td>\n",
       "    </tr>\n",
       "    <tr>\n",
       "      <th>2</th>\n",
       "      <td>Ronald Brown</td>\n",
       "      <td>07</td>\n",
       "      <td></td>\n",
       "      <td></td>\n",
       "    </tr>\n",
       "    <tr>\n",
       "      <th>3</th>\n",
       "      <td>Scott Vieira Jr</td>\n",
       "      <td>07</td>\n",
       "      <td></td>\n",
       "      <td></td>\n",
       "    </tr>\n",
       "  </tbody>\n",
       "</table>\n",
       "</div>"
      ],
      "text/plain": [
       "     Candidate Name District Number  Incumbent  Winner\n",
       "0       Mark Green               07  Incumbent  Winner\n",
       "1   Kiran Sreepada               07                   \n",
       "2     Ronald Brown               07                   \n",
       "3  Scott Vieira Jr               07                   "
      ]
     },
     "execution_count": 14,
     "metadata": {},
     "output_type": "execute_result"
    }
   ],
   "source": [
    "#Make a dataframe using dictionary\n",
    "di = {'Candidate Name': CandNames,'District Number':district_num,  'Incumbent':incumbent, 'Winner':winner}\n",
    "pd.DataFrame(di)"
   ]
  },
  {
   "cell_type": "markdown",
   "id": "3bc2c20a",
   "metadata": {},
   "source": [
    "# All TN Districts"
   ]
  },
  {
   "cell_type": "code",
   "execution_count": 15,
   "id": "89f5cd6a",
   "metadata": {},
   "outputs": [
    {
     "name": "stdout",
     "output_type": "stream",
     "text": [
      "https://www.opensecrets.org/races/candidates?cycle=2020&id=TN010&spec=N\n"
     ]
    }
   ],
   "source": [
    "#testing url\n",
    "d_num = 10\n",
    "baseurl = 'https://www.opensecrets.org/races/candidates?cycle=2020&id=TN0'  + str(d_num) + '&spec=N'\n",
    "r = requests.get('https://www.opensecrets.org/races/candidates?cycle=2020&id=TN07&spec=N')\n",
    "soup = BS(r.text,'html.parser')\n",
    "print(baseurl)"
   ]
  },
  {
   "cell_type": "code",
   "execution_count": null,
   "id": "a84c88da",
   "metadata": {},
   "outputs": [],
   "source": []
  },
  {
   "cell_type": "code",
   "execution_count": null,
   "id": "c5d03776",
   "metadata": {},
   "outputs": [],
   "source": []
  },
  {
   "cell_type": "code",
   "execution_count": null,
   "id": "a541a124",
   "metadata": {},
   "outputs": [],
   "source": []
  },
  {
   "cell_type": "code",
   "execution_count": 68,
   "id": "7a586a46",
   "metadata": {},
   "outputs": [],
   "source": [
    "d = soup.find('ol',attrs = {'class':'SubNav-items'})  #Navigation showing list of districts\n",
    "a_tags = d.find_all('a')"
   ]
  },
  {
   "cell_type": "code",
   "execution_count": 69,
   "id": "40eb8bda",
   "metadata": {},
   "outputs": [
    {
     "data": {
      "text/plain": [
       "[<a class=\"SubNav-link\" href=\"/races/summary?cycle=2022&amp;id=CAS1&amp;spec=N\">\n",
       "                         California Senate <i aria-hidden=\"true\" class=\"fa fa-angle-right\"></i>\n",
       " </a>,\n",
       " <a class=\"SubNav-link SubNav-link--active\" href=\"/races/summary?cycle=2022&amp;id=CA01&amp;spec=N\">\n",
       "                         California District 01 <i aria-hidden=\"true\" class=\"fa fa-angle-right\"></i>\n",
       " </a>,\n",
       " <a class=\"SubNav-link\" href=\"/races/summary?cycle=2022&amp;id=CA02&amp;spec=N\">\n",
       "                         California District 02 <i aria-hidden=\"true\" class=\"fa fa-angle-right\"></i>\n",
       " </a>,\n",
       " <a class=\"SubNav-link\" href=\"/races/summary?cycle=2022&amp;id=CA03&amp;spec=N\">\n",
       "                         California District 03 <i aria-hidden=\"true\" class=\"fa fa-angle-right\"></i>\n",
       " </a>,\n",
       " <a class=\"SubNav-link\" href=\"/races/summary?cycle=2022&amp;id=CA04&amp;spec=N\">\n",
       "                         California District 04 <i aria-hidden=\"true\" class=\"fa fa-angle-right\"></i>\n",
       " </a>,\n",
       " <a class=\"SubNav-link\" href=\"/races/summary?cycle=2022&amp;id=CA05&amp;spec=N\">\n",
       "                         California District 05 <i aria-hidden=\"true\" class=\"fa fa-angle-right\"></i>\n",
       " </a>,\n",
       " <a class=\"SubNav-link\" href=\"/races/summary?cycle=2022&amp;id=CA06&amp;spec=N\">\n",
       "                         California District 06 <i aria-hidden=\"true\" class=\"fa fa-angle-right\"></i>\n",
       " </a>,\n",
       " <a class=\"SubNav-link\" href=\"/races/summary?cycle=2022&amp;id=CA07&amp;spec=N\">\n",
       "                         California District 07 <i aria-hidden=\"true\" class=\"fa fa-angle-right\"></i>\n",
       " </a>,\n",
       " <a class=\"SubNav-link\" href=\"/races/summary?cycle=2022&amp;id=CA08&amp;spec=N\">\n",
       "                         California District 08 <i aria-hidden=\"true\" class=\"fa fa-angle-right\"></i>\n",
       " </a>,\n",
       " <a class=\"SubNav-link\" href=\"/races/summary?cycle=2022&amp;id=CA09&amp;spec=N\">\n",
       "                         California District 09 <i aria-hidden=\"true\" class=\"fa fa-angle-right\"></i>\n",
       " </a>,\n",
       " <a class=\"SubNav-link\" href=\"/races/summary?cycle=2022&amp;id=CA10&amp;spec=N\">\n",
       "                         California District 10 <i aria-hidden=\"true\" class=\"fa fa-angle-right\"></i>\n",
       " </a>,\n",
       " <a class=\"SubNav-link\" href=\"/races/summary?cycle=2022&amp;id=CA11&amp;spec=N\">\n",
       "                         California District 11 <i aria-hidden=\"true\" class=\"fa fa-angle-right\"></i>\n",
       " </a>,\n",
       " <a class=\"SubNav-link\" href=\"/races/summary?cycle=2022&amp;id=CA12&amp;spec=N\">\n",
       "                         California District 12 <i aria-hidden=\"true\" class=\"fa fa-angle-right\"></i>\n",
       " </a>,\n",
       " <a class=\"SubNav-link\" href=\"/races/summary?cycle=2022&amp;id=CA13&amp;spec=N\">\n",
       "                         California District 13 <i aria-hidden=\"true\" class=\"fa fa-angle-right\"></i>\n",
       " </a>,\n",
       " <a class=\"SubNav-link\" href=\"/races/summary?cycle=2022&amp;id=CA14&amp;spec=N\">\n",
       "                         California District 14 <i aria-hidden=\"true\" class=\"fa fa-angle-right\"></i>\n",
       " </a>,\n",
       " <a class=\"SubNav-link\" href=\"/races/summary?cycle=2022&amp;id=CA15&amp;spec=N\">\n",
       "                         California District 15 <i aria-hidden=\"true\" class=\"fa fa-angle-right\"></i>\n",
       " </a>,\n",
       " <a class=\"SubNav-link\" href=\"/races/summary?cycle=2022&amp;id=CA16&amp;spec=N\">\n",
       "                         California District 16 <i aria-hidden=\"true\" class=\"fa fa-angle-right\"></i>\n",
       " </a>,\n",
       " <a class=\"SubNav-link\" href=\"/races/summary?cycle=2022&amp;id=CA17&amp;spec=N\">\n",
       "                         California District 17 <i aria-hidden=\"true\" class=\"fa fa-angle-right\"></i>\n",
       " </a>,\n",
       " <a class=\"SubNav-link\" href=\"/races/summary?cycle=2022&amp;id=CA18&amp;spec=N\">\n",
       "                         California District 18 <i aria-hidden=\"true\" class=\"fa fa-angle-right\"></i>\n",
       " </a>,\n",
       " <a class=\"SubNav-link\" href=\"/races/summary?cycle=2022&amp;id=CA19&amp;spec=N\">\n",
       "                         California District 19 <i aria-hidden=\"true\" class=\"fa fa-angle-right\"></i>\n",
       " </a>,\n",
       " <a class=\"SubNav-link\" href=\"/races/summary?cycle=2022&amp;id=CA20&amp;spec=N\">\n",
       "                         California District 20 <i aria-hidden=\"true\" class=\"fa fa-angle-right\"></i>\n",
       " </a>,\n",
       " <a class=\"SubNav-link\" href=\"/races/summary?cycle=2022&amp;id=CA21&amp;spec=N\">\n",
       "                         California District 21 <i aria-hidden=\"true\" class=\"fa fa-angle-right\"></i>\n",
       " </a>,\n",
       " <a class=\"SubNav-link\" href=\"/races/summary?cycle=2022&amp;id=CA22&amp;spec=Y\">\n",
       "                         California District 22 <i aria-hidden=\"true\" class=\"fa fa-angle-right\"></i>\n",
       " </a>,\n",
       " <a class=\"SubNav-link\" href=\"/races/summary?cycle=2022&amp;id=CA22&amp;spec=N\">\n",
       "                         California District 22 <i aria-hidden=\"true\" class=\"fa fa-angle-right\"></i>\n",
       " </a>,\n",
       " <a class=\"SubNav-link\" href=\"/races/summary?cycle=2022&amp;id=CA23&amp;spec=N\">\n",
       "                         California District 23 <i aria-hidden=\"true\" class=\"fa fa-angle-right\"></i>\n",
       " </a>,\n",
       " <a class=\"SubNav-link\" href=\"/races/summary?cycle=2022&amp;id=CA24&amp;spec=N\">\n",
       "                         California District 24 <i aria-hidden=\"true\" class=\"fa fa-angle-right\"></i>\n",
       " </a>,\n",
       " <a class=\"SubNav-link\" href=\"/races/summary?cycle=2022&amp;id=CA25&amp;spec=N\">\n",
       "                         California District 25 <i aria-hidden=\"true\" class=\"fa fa-angle-right\"></i>\n",
       " </a>,\n",
       " <a class=\"SubNav-link\" href=\"/races/summary?cycle=2022&amp;id=CA26&amp;spec=N\">\n",
       "                         California District 26 <i aria-hidden=\"true\" class=\"fa fa-angle-right\"></i>\n",
       " </a>,\n",
       " <a class=\"SubNav-link\" href=\"/races/summary?cycle=2022&amp;id=CA27&amp;spec=N\">\n",
       "                         California District 27 <i aria-hidden=\"true\" class=\"fa fa-angle-right\"></i>\n",
       " </a>,\n",
       " <a class=\"SubNav-link\" href=\"/races/summary?cycle=2022&amp;id=CA28&amp;spec=N\">\n",
       "                         California District 28 <i aria-hidden=\"true\" class=\"fa fa-angle-right\"></i>\n",
       " </a>,\n",
       " <a class=\"SubNav-link\" href=\"/races/summary?cycle=2022&amp;id=CA29&amp;spec=N\">\n",
       "                         California District 29 <i aria-hidden=\"true\" class=\"fa fa-angle-right\"></i>\n",
       " </a>,\n",
       " <a class=\"SubNav-link\" href=\"/races/summary?cycle=2022&amp;id=CA30&amp;spec=N\">\n",
       "                         California District 30 <i aria-hidden=\"true\" class=\"fa fa-angle-right\"></i>\n",
       " </a>,\n",
       " <a class=\"SubNav-link\" href=\"/races/summary?cycle=2022&amp;id=CA31&amp;spec=N\">\n",
       "                         California District 31 <i aria-hidden=\"true\" class=\"fa fa-angle-right\"></i>\n",
       " </a>,\n",
       " <a class=\"SubNav-link\" href=\"/races/summary?cycle=2022&amp;id=CA32&amp;spec=N\">\n",
       "                         California District 32 <i aria-hidden=\"true\" class=\"fa fa-angle-right\"></i>\n",
       " </a>,\n",
       " <a class=\"SubNav-link\" href=\"/races/summary?cycle=2022&amp;id=CA33&amp;spec=N\">\n",
       "                         California District 33 <i aria-hidden=\"true\" class=\"fa fa-angle-right\"></i>\n",
       " </a>,\n",
       " <a class=\"SubNav-link\" href=\"/races/summary?cycle=2022&amp;id=CA34&amp;spec=N\">\n",
       "                         California District 34 <i aria-hidden=\"true\" class=\"fa fa-angle-right\"></i>\n",
       " </a>,\n",
       " <a class=\"SubNav-link\" href=\"/races/summary?cycle=2022&amp;id=CA35&amp;spec=N\">\n",
       "                         California District 35 <i aria-hidden=\"true\" class=\"fa fa-angle-right\"></i>\n",
       " </a>,\n",
       " <a class=\"SubNav-link\" href=\"/races/summary?cycle=2022&amp;id=CA36&amp;spec=N\">\n",
       "                         California District 36 <i aria-hidden=\"true\" class=\"fa fa-angle-right\"></i>\n",
       " </a>,\n",
       " <a class=\"SubNav-link\" href=\"/races/summary?cycle=2022&amp;id=CA37&amp;spec=N\">\n",
       "                         California District 37 <i aria-hidden=\"true\" class=\"fa fa-angle-right\"></i>\n",
       " </a>,\n",
       " <a class=\"SubNav-link\" href=\"/races/summary?cycle=2022&amp;id=CA38&amp;spec=N\">\n",
       "                         California District 38 <i aria-hidden=\"true\" class=\"fa fa-angle-right\"></i>\n",
       " </a>,\n",
       " <a class=\"SubNav-link\" href=\"/races/summary?cycle=2022&amp;id=CA39&amp;spec=N\">\n",
       "                         California District 39 <i aria-hidden=\"true\" class=\"fa fa-angle-right\"></i>\n",
       " </a>,\n",
       " <a class=\"SubNav-link\" href=\"/races/summary?cycle=2022&amp;id=CA40&amp;spec=N\">\n",
       "                         California District 40 <i aria-hidden=\"true\" class=\"fa fa-angle-right\"></i>\n",
       " </a>,\n",
       " <a class=\"SubNav-link\" href=\"/races/summary?cycle=2022&amp;id=CA41&amp;spec=N\">\n",
       "                         California District 41 <i aria-hidden=\"true\" class=\"fa fa-angle-right\"></i>\n",
       " </a>,\n",
       " <a class=\"SubNav-link\" href=\"/races/summary?cycle=2022&amp;id=CA42&amp;spec=N\">\n",
       "                         California District 42 <i aria-hidden=\"true\" class=\"fa fa-angle-right\"></i>\n",
       " </a>,\n",
       " <a class=\"SubNav-link\" href=\"/races/summary?cycle=2022&amp;id=CA43&amp;spec=N\">\n",
       "                         California District 43 <i aria-hidden=\"true\" class=\"fa fa-angle-right\"></i>\n",
       " </a>,\n",
       " <a class=\"SubNav-link\" href=\"/races/summary?cycle=2022&amp;id=CA44&amp;spec=N\">\n",
       "                         California District 44 <i aria-hidden=\"true\" class=\"fa fa-angle-right\"></i>\n",
       " </a>,\n",
       " <a class=\"SubNav-link\" href=\"/races/summary?cycle=2022&amp;id=CA45&amp;spec=N\">\n",
       "                         California District 45 <i aria-hidden=\"true\" class=\"fa fa-angle-right\"></i>\n",
       " </a>,\n",
       " <a class=\"SubNav-link\" href=\"/races/summary?cycle=2022&amp;id=CA46&amp;spec=N\">\n",
       "                         California District 46 <i aria-hidden=\"true\" class=\"fa fa-angle-right\"></i>\n",
       " </a>,\n",
       " <a class=\"SubNav-link\" href=\"/races/summary?cycle=2022&amp;id=CA47&amp;spec=N\">\n",
       "                         California District 47 <i aria-hidden=\"true\" class=\"fa fa-angle-right\"></i>\n",
       " </a>,\n",
       " <a class=\"SubNav-link\" href=\"/races/summary?cycle=2022&amp;id=CA48&amp;spec=N\">\n",
       "                         California District 48 <i aria-hidden=\"true\" class=\"fa fa-angle-right\"></i>\n",
       " </a>,\n",
       " <a class=\"SubNav-link\" href=\"/races/summary?cycle=2022&amp;id=CA49&amp;spec=N\">\n",
       "                         California District 49 <i aria-hidden=\"true\" class=\"fa fa-angle-right\"></i>\n",
       " </a>,\n",
       " <a class=\"SubNav-link\" href=\"/races/summary?cycle=2022&amp;id=CA50&amp;spec=N\">\n",
       "                         California District 50 <i aria-hidden=\"true\" class=\"fa fa-angle-right\"></i>\n",
       " </a>,\n",
       " <a class=\"SubNav-link\" href=\"/races/summary?cycle=2022&amp;id=CA51&amp;spec=N\">\n",
       "                         California District 51 <i aria-hidden=\"true\" class=\"fa fa-angle-right\"></i>\n",
       " </a>,\n",
       " <a class=\"SubNav-link\" href=\"/races/summary?cycle=2022&amp;id=CA52&amp;spec=N\">\n",
       "                         California District 52 <i aria-hidden=\"true\" class=\"fa fa-angle-right\"></i>\n",
       " </a>]"
      ]
     },
     "execution_count": 69,
     "metadata": {},
     "output_type": "execute_result"
    }
   ],
   "source": [
    "a_tags"
   ]
  },
  {
   "cell_type": "code",
   "execution_count": 70,
   "id": "4e909687",
   "metadata": {
    "scrolled": false
   },
   "outputs": [
    {
     "data": {
      "text/plain": [
       "[<a class=\"SubNav-link\" href=\"/races/summary?cycle=2022&amp;id=CAS1&amp;spec=N\">\n",
       "                         California Senate <i aria-hidden=\"true\" class=\"fa fa-angle-right\"></i>\n",
       " </a>,\n",
       " <a class=\"SubNav-link SubNav-link--active\" href=\"/races/summary?cycle=2022&amp;id=CA01&amp;spec=N\">\n",
       "                         California District 01 <i aria-hidden=\"true\" class=\"fa fa-angle-right\"></i>\n",
       " </a>,\n",
       " <a class=\"SubNav-link\" href=\"/races/summary?cycle=2022&amp;id=CA02&amp;spec=N\">\n",
       "                         California District 02 <i aria-hidden=\"true\" class=\"fa fa-angle-right\"></i>\n",
       " </a>,\n",
       " <a class=\"SubNav-link\" href=\"/races/summary?cycle=2022&amp;id=CA03&amp;spec=N\">\n",
       "                         California District 03 <i aria-hidden=\"true\" class=\"fa fa-angle-right\"></i>\n",
       " </a>,\n",
       " <a class=\"SubNav-link\" href=\"/races/summary?cycle=2022&amp;id=CA04&amp;spec=N\">\n",
       "                         California District 04 <i aria-hidden=\"true\" class=\"fa fa-angle-right\"></i>\n",
       " </a>,\n",
       " <a class=\"SubNav-link\" href=\"/races/summary?cycle=2022&amp;id=CA05&amp;spec=N\">\n",
       "                         California District 05 <i aria-hidden=\"true\" class=\"fa fa-angle-right\"></i>\n",
       " </a>,\n",
       " <a class=\"SubNav-link\" href=\"/races/summary?cycle=2022&amp;id=CA06&amp;spec=N\">\n",
       "                         California District 06 <i aria-hidden=\"true\" class=\"fa fa-angle-right\"></i>\n",
       " </a>,\n",
       " <a class=\"SubNav-link\" href=\"/races/summary?cycle=2022&amp;id=CA07&amp;spec=N\">\n",
       "                         California District 07 <i aria-hidden=\"true\" class=\"fa fa-angle-right\"></i>\n",
       " </a>,\n",
       " <a class=\"SubNav-link\" href=\"/races/summary?cycle=2022&amp;id=CA08&amp;spec=N\">\n",
       "                         California District 08 <i aria-hidden=\"true\" class=\"fa fa-angle-right\"></i>\n",
       " </a>,\n",
       " <a class=\"SubNav-link\" href=\"/races/summary?cycle=2022&amp;id=CA09&amp;spec=N\">\n",
       "                         California District 09 <i aria-hidden=\"true\" class=\"fa fa-angle-right\"></i>\n",
       " </a>,\n",
       " <a class=\"SubNav-link\" href=\"/races/summary?cycle=2022&amp;id=CA10&amp;spec=N\">\n",
       "                         California District 10 <i aria-hidden=\"true\" class=\"fa fa-angle-right\"></i>\n",
       " </a>,\n",
       " <a class=\"SubNav-link\" href=\"/races/summary?cycle=2022&amp;id=CA11&amp;spec=N\">\n",
       "                         California District 11 <i aria-hidden=\"true\" class=\"fa fa-angle-right\"></i>\n",
       " </a>,\n",
       " <a class=\"SubNav-link\" href=\"/races/summary?cycle=2022&amp;id=CA12&amp;spec=N\">\n",
       "                         California District 12 <i aria-hidden=\"true\" class=\"fa fa-angle-right\"></i>\n",
       " </a>,\n",
       " <a class=\"SubNav-link\" href=\"/races/summary?cycle=2022&amp;id=CA13&amp;spec=N\">\n",
       "                         California District 13 <i aria-hidden=\"true\" class=\"fa fa-angle-right\"></i>\n",
       " </a>,\n",
       " <a class=\"SubNav-link\" href=\"/races/summary?cycle=2022&amp;id=CA14&amp;spec=N\">\n",
       "                         California District 14 <i aria-hidden=\"true\" class=\"fa fa-angle-right\"></i>\n",
       " </a>,\n",
       " <a class=\"SubNav-link\" href=\"/races/summary?cycle=2022&amp;id=CA15&amp;spec=N\">\n",
       "                         California District 15 <i aria-hidden=\"true\" class=\"fa fa-angle-right\"></i>\n",
       " </a>,\n",
       " <a class=\"SubNav-link\" href=\"/races/summary?cycle=2022&amp;id=CA16&amp;spec=N\">\n",
       "                         California District 16 <i aria-hidden=\"true\" class=\"fa fa-angle-right\"></i>\n",
       " </a>,\n",
       " <a class=\"SubNav-link\" href=\"/races/summary?cycle=2022&amp;id=CA17&amp;spec=N\">\n",
       "                         California District 17 <i aria-hidden=\"true\" class=\"fa fa-angle-right\"></i>\n",
       " </a>,\n",
       " <a class=\"SubNav-link\" href=\"/races/summary?cycle=2022&amp;id=CA18&amp;spec=N\">\n",
       "                         California District 18 <i aria-hidden=\"true\" class=\"fa fa-angle-right\"></i>\n",
       " </a>,\n",
       " <a class=\"SubNav-link\" href=\"/races/summary?cycle=2022&amp;id=CA19&amp;spec=N\">\n",
       "                         California District 19 <i aria-hidden=\"true\" class=\"fa fa-angle-right\"></i>\n",
       " </a>,\n",
       " <a class=\"SubNav-link\" href=\"/races/summary?cycle=2022&amp;id=CA20&amp;spec=N\">\n",
       "                         California District 20 <i aria-hidden=\"true\" class=\"fa fa-angle-right\"></i>\n",
       " </a>,\n",
       " <a class=\"SubNav-link\" href=\"/races/summary?cycle=2022&amp;id=CA21&amp;spec=N\">\n",
       "                         California District 21 <i aria-hidden=\"true\" class=\"fa fa-angle-right\"></i>\n",
       " </a>,\n",
       " <a class=\"SubNav-link\" href=\"/races/summary?cycle=2022&amp;id=CA22&amp;spec=Y\">\n",
       "                         California District 22 <i aria-hidden=\"true\" class=\"fa fa-angle-right\"></i>\n",
       " </a>,\n",
       " <a class=\"SubNav-link\" href=\"/races/summary?cycle=2022&amp;id=CA22&amp;spec=N\">\n",
       "                         California District 22 <i aria-hidden=\"true\" class=\"fa fa-angle-right\"></i>\n",
       " </a>,\n",
       " <a class=\"SubNav-link\" href=\"/races/summary?cycle=2022&amp;id=CA23&amp;spec=N\">\n",
       "                         California District 23 <i aria-hidden=\"true\" class=\"fa fa-angle-right\"></i>\n",
       " </a>,\n",
       " <a class=\"SubNav-link\" href=\"/races/summary?cycle=2022&amp;id=CA24&amp;spec=N\">\n",
       "                         California District 24 <i aria-hidden=\"true\" class=\"fa fa-angle-right\"></i>\n",
       " </a>,\n",
       " <a class=\"SubNav-link\" href=\"/races/summary?cycle=2022&amp;id=CA25&amp;spec=N\">\n",
       "                         California District 25 <i aria-hidden=\"true\" class=\"fa fa-angle-right\"></i>\n",
       " </a>,\n",
       " <a class=\"SubNav-link\" href=\"/races/summary?cycle=2022&amp;id=CA26&amp;spec=N\">\n",
       "                         California District 26 <i aria-hidden=\"true\" class=\"fa fa-angle-right\"></i>\n",
       " </a>,\n",
       " <a class=\"SubNav-link\" href=\"/races/summary?cycle=2022&amp;id=CA27&amp;spec=N\">\n",
       "                         California District 27 <i aria-hidden=\"true\" class=\"fa fa-angle-right\"></i>\n",
       " </a>,\n",
       " <a class=\"SubNav-link\" href=\"/races/summary?cycle=2022&amp;id=CA28&amp;spec=N\">\n",
       "                         California District 28 <i aria-hidden=\"true\" class=\"fa fa-angle-right\"></i>\n",
       " </a>,\n",
       " <a class=\"SubNav-link\" href=\"/races/summary?cycle=2022&amp;id=CA29&amp;spec=N\">\n",
       "                         California District 29 <i aria-hidden=\"true\" class=\"fa fa-angle-right\"></i>\n",
       " </a>,\n",
       " <a class=\"SubNav-link\" href=\"/races/summary?cycle=2022&amp;id=CA30&amp;spec=N\">\n",
       "                         California District 30 <i aria-hidden=\"true\" class=\"fa fa-angle-right\"></i>\n",
       " </a>,\n",
       " <a class=\"SubNav-link\" href=\"/races/summary?cycle=2022&amp;id=CA31&amp;spec=N\">\n",
       "                         California District 31 <i aria-hidden=\"true\" class=\"fa fa-angle-right\"></i>\n",
       " </a>,\n",
       " <a class=\"SubNav-link\" href=\"/races/summary?cycle=2022&amp;id=CA32&amp;spec=N\">\n",
       "                         California District 32 <i aria-hidden=\"true\" class=\"fa fa-angle-right\"></i>\n",
       " </a>,\n",
       " <a class=\"SubNav-link\" href=\"/races/summary?cycle=2022&amp;id=CA33&amp;spec=N\">\n",
       "                         California District 33 <i aria-hidden=\"true\" class=\"fa fa-angle-right\"></i>\n",
       " </a>,\n",
       " <a class=\"SubNav-link\" href=\"/races/summary?cycle=2022&amp;id=CA34&amp;spec=N\">\n",
       "                         California District 34 <i aria-hidden=\"true\" class=\"fa fa-angle-right\"></i>\n",
       " </a>,\n",
       " <a class=\"SubNav-link\" href=\"/races/summary?cycle=2022&amp;id=CA35&amp;spec=N\">\n",
       "                         California District 35 <i aria-hidden=\"true\" class=\"fa fa-angle-right\"></i>\n",
       " </a>,\n",
       " <a class=\"SubNav-link\" href=\"/races/summary?cycle=2022&amp;id=CA36&amp;spec=N\">\n",
       "                         California District 36 <i aria-hidden=\"true\" class=\"fa fa-angle-right\"></i>\n",
       " </a>,\n",
       " <a class=\"SubNav-link\" href=\"/races/summary?cycle=2022&amp;id=CA37&amp;spec=N\">\n",
       "                         California District 37 <i aria-hidden=\"true\" class=\"fa fa-angle-right\"></i>\n",
       " </a>,\n",
       " <a class=\"SubNav-link\" href=\"/races/summary?cycle=2022&amp;id=CA38&amp;spec=N\">\n",
       "                         California District 38 <i aria-hidden=\"true\" class=\"fa fa-angle-right\"></i>\n",
       " </a>,\n",
       " <a class=\"SubNav-link\" href=\"/races/summary?cycle=2022&amp;id=CA39&amp;spec=N\">\n",
       "                         California District 39 <i aria-hidden=\"true\" class=\"fa fa-angle-right\"></i>\n",
       " </a>,\n",
       " <a class=\"SubNav-link\" href=\"/races/summary?cycle=2022&amp;id=CA40&amp;spec=N\">\n",
       "                         California District 40 <i aria-hidden=\"true\" class=\"fa fa-angle-right\"></i>\n",
       " </a>,\n",
       " <a class=\"SubNav-link\" href=\"/races/summary?cycle=2022&amp;id=CA41&amp;spec=N\">\n",
       "                         California District 41 <i aria-hidden=\"true\" class=\"fa fa-angle-right\"></i>\n",
       " </a>,\n",
       " <a class=\"SubNav-link\" href=\"/races/summary?cycle=2022&amp;id=CA42&amp;spec=N\">\n",
       "                         California District 42 <i aria-hidden=\"true\" class=\"fa fa-angle-right\"></i>\n",
       " </a>,\n",
       " <a class=\"SubNav-link\" href=\"/races/summary?cycle=2022&amp;id=CA43&amp;spec=N\">\n",
       "                         California District 43 <i aria-hidden=\"true\" class=\"fa fa-angle-right\"></i>\n",
       " </a>,\n",
       " <a class=\"SubNav-link\" href=\"/races/summary?cycle=2022&amp;id=CA44&amp;spec=N\">\n",
       "                         California District 44 <i aria-hidden=\"true\" class=\"fa fa-angle-right\"></i>\n",
       " </a>,\n",
       " <a class=\"SubNav-link\" href=\"/races/summary?cycle=2022&amp;id=CA45&amp;spec=N\">\n",
       "                         California District 45 <i aria-hidden=\"true\" class=\"fa fa-angle-right\"></i>\n",
       " </a>,\n",
       " <a class=\"SubNav-link\" href=\"/races/summary?cycle=2022&amp;id=CA46&amp;spec=N\">\n",
       "                         California District 46 <i aria-hidden=\"true\" class=\"fa fa-angle-right\"></i>\n",
       " </a>,\n",
       " <a class=\"SubNav-link\" href=\"/races/summary?cycle=2022&amp;id=CA47&amp;spec=N\">\n",
       "                         California District 47 <i aria-hidden=\"true\" class=\"fa fa-angle-right\"></i>\n",
       " </a>,\n",
       " <a class=\"SubNav-link\" href=\"/races/summary?cycle=2022&amp;id=CA48&amp;spec=N\">\n",
       "                         California District 48 <i aria-hidden=\"true\" class=\"fa fa-angle-right\"></i>\n",
       " </a>,\n",
       " <a class=\"SubNav-link\" href=\"/races/summary?cycle=2022&amp;id=CA49&amp;spec=N\">\n",
       "                         California District 49 <i aria-hidden=\"true\" class=\"fa fa-angle-right\"></i>\n",
       " </a>,\n",
       " <a class=\"SubNav-link\" href=\"/races/summary?cycle=2022&amp;id=CA50&amp;spec=N\">\n",
       "                         California District 50 <i aria-hidden=\"true\" class=\"fa fa-angle-right\"></i>\n",
       " </a>,\n",
       " <a class=\"SubNav-link\" href=\"/races/summary?cycle=2022&amp;id=CA51&amp;spec=N\">\n",
       "                         California District 51 <i aria-hidden=\"true\" class=\"fa fa-angle-right\"></i>\n",
       " </a>,\n",
       " <a class=\"SubNav-link\" href=\"/races/summary?cycle=2022&amp;id=CA52&amp;spec=N\">\n",
       "                         California District 52 <i aria-hidden=\"true\" class=\"fa fa-angle-right\"></i>\n",
       " </a>]"
      ]
     },
     "execution_count": 70,
     "metadata": {},
     "output_type": "execute_result"
    }
   ],
   "source": [
    "a_tags = soup.find('ol',attrs = {'class':'SubNav-items'}).find_all('a')  #Navigation showing list of districts\n",
    "a_tags"
   ]
  },
  {
   "cell_type": "code",
   "execution_count": 54,
   "id": "8927272c",
   "metadata": {},
   "outputs": [
    {
     "ename": "AttributeError",
     "evalue": "'str' object has no attribute 'text'",
     "output_type": "error",
     "traceback": [
      "\u001b[1;31m---------------------------------------------------------------------------\u001b[0m",
      "\u001b[1;31mAttributeError\u001b[0m                            Traceback (most recent call last)",
      "\u001b[1;32m<ipython-input-54-b97eb217b0e6>\u001b[0m in \u001b[0;36m<module>\u001b[1;34m\u001b[0m\n\u001b[1;32m----> 1\u001b[1;33m \u001b[0mstr\u001b[0m\u001b[1;33m.\u001b[0m\u001b[0misdigit\u001b[0m\u001b[1;33m(\u001b[0m\u001b[0mi\u001b[0m\u001b[1;33m.\u001b[0m\u001b[0mtext\u001b[0m\u001b[1;33m.\u001b[0m\u001b[0mstrip\u001b[0m\u001b[1;33m(\u001b[0m\u001b[1;33m)\u001b[0m\u001b[1;33m[\u001b[0m\u001b[1;33m-\u001b[0m\u001b[1;36m1\u001b[0m\u001b[1;33m]\u001b[0m\u001b[1;33m)\u001b[0m\u001b[1;33m\u001b[0m\u001b[1;33m\u001b[0m\u001b[0m\n\u001b[0m",
      "\u001b[1;31mAttributeError\u001b[0m: 'str' object has no attribute 'text'"
     ]
    }
   ],
   "source": [
    "str.isdigit(.text.strip()[-1])"
   ]
  },
  {
   "cell_type": "code",
   "execution_count": 18,
   "id": "c59de1eb",
   "metadata": {},
   "outputs": [
    {
     "data": {
      "text/plain": [
       "9"
      ]
     },
     "execution_count": 18,
     "metadata": {},
     "output_type": "execute_result"
    }
   ],
   "source": [
    "d_count = 0                               #Start counting districts in state\n",
    "for i in a_tags:\n",
    "    if str.isdigit(i.text.strip()[-1]):   #if the last substring is a digit\n",
    "        d_count+=1                        #increase district count by 1\n",
    "    #print(i.text.strip()[-1])\n",
    "    \n",
    "d_count  "
   ]
  },
  {
   "cell_type": "code",
   "execution_count": null,
   "id": "a0a32826",
   "metadata": {},
   "outputs": [],
   "source": []
  },
  {
   "cell_type": "code",
   "execution_count": 19,
   "id": "4c332d75",
   "metadata": {},
   "outputs": [
    {
     "name": "stdout",
     "output_type": "stream",
     "text": [
      "https://www.opensecrets.org/races/candidates?cycle=2020&id=TN01&spec=N\n",
      "https://www.opensecrets.org/races/candidates?cycle=2020&id=TN02&spec=N\n",
      "https://www.opensecrets.org/races/candidates?cycle=2020&id=TN03&spec=N\n",
      "https://www.opensecrets.org/races/candidates?cycle=2020&id=TN04&spec=N\n",
      "https://www.opensecrets.org/races/candidates?cycle=2020&id=TN05&spec=N\n",
      "https://www.opensecrets.org/races/candidates?cycle=2020&id=TN06&spec=N\n",
      "https://www.opensecrets.org/races/candidates?cycle=2020&id=TN07&spec=N\n",
      "https://www.opensecrets.org/races/candidates?cycle=2020&id=TN08&spec=N\n",
      "https://www.opensecrets.org/races/candidates?cycle=2020&id=TN09&spec=N\n"
     ]
    }
   ],
   "source": [
    "count = 1\n",
    "\n",
    "district_num = []\n",
    "incumbent=[]\n",
    "winner=[]\n",
    "CandNames = []\n",
    "\n",
    "while count <= d_count:     #for each district number\n",
    "    url = 'https://www.opensecrets.org/races/candidates?cycle=2020&id=TN0'  + str(count) + '&spec=N'   #here's the url\n",
    "    r = requests.get(url)\n",
    "    soup = BS(r.text,'html.parser')\n",
    "    \n",
    "    print(url)\n",
    "\n",
    "    district = soup.find('h1',attrs = {'class':'Hero-title'})\n",
    "    dist_num = str(re.findall(r\"0\\d{1}\\W\", district.text)).replace(\" \", \"\").replace(\"[\", \"\").replace(\"]\", \"\").replace(\"'\", \"\")\n",
    "\n",
    "    #Find member blocks for each candidate\n",
    "    members = soup.find_all('div',attrs = {'class':'Members--list-item'})\n",
    "\n",
    "    #make list Candidates, grabs each member column with members--bio u-richtext\n",
    "    Candidates = []\n",
    "    for cand in members:\n",
    "        Candidates.append(cand.find('div', attrs = {'class' : 'Members--bio u-richtext'}))\n",
    "    \n",
    "    \n",
    "    #from Candidates, extract just the text parts inclding the candidate name and header\n",
    "    Cand_list_text = []\n",
    "    for i in Candidates:\n",
    "        Cand_list_text.append(i.get_text(strip=True))\n",
    "    \n",
    "    \n",
    "    for i in Cand_list_text:\n",
    "        winner.append(str(re.findall(r\"Winner\", i)).replace(\"[\", \"\").replace(\"]\", \"\").replace(\"'\", \"\"))\n",
    "        incumbent.append(str(re.findall(r\"Incumbent\", i)).replace(\"[\", \"\").replace(\"]\", \"\").replace(\"'\", \"\"))\n",
    "        CandNames.append(str(re.findall(r\".+\\([A-Z]\", i)).replace(\"'\", \"\").replace(\"[\", \"\").replace(\"]\", \"\").replace(\"(R\", \"\").replace(\"(D\", \"\").replace(\"(I\", \"\"))\n",
    "        district_num.append(str(re.findall(r\"0\\d{1}\\W\", district.text)).replace(\" \", \"\").replace(\"[\", \"\").replace(\"]\", \"\").replace(\"'\", \"\"))\n",
    "    \n",
    "    count+=1 # increment count"
   ]
  },
  {
   "cell_type": "code",
   "execution_count": 20,
   "id": "cacb0069",
   "metadata": {},
   "outputs": [],
   "source": [
    "#Make a dataframe using dictionary\n",
    "di = {'Candidate Name': CandNames,'District Number':district_num,  'Incumbent':incumbent, 'Winner':winner}\n",
    "z = pd.DataFrame(di)"
   ]
  },
  {
   "cell_type": "code",
   "execution_count": 43,
   "id": "02cfeab4",
   "metadata": {},
   "outputs": [],
   "source": [
    "Inc_Y_N = []\n",
    "for i in z['Incumbent']:\n",
    "        if i == 'Incumbent':\n",
    "            Inc_Y_N.append('Incumbent')\n",
    "        else:\n",
    "            Inc_Y_N.append('Not Incumbent')\n",
    "\n",
    "z['Incumbency'] = Inc_Y_N"
   ]
  },
  {
   "cell_type": "code",
   "execution_count": 44,
   "id": "86949a4b",
   "metadata": {},
   "outputs": [],
   "source": [
    "Won= []\n",
    "for i in z['Winner']:\n",
    "        if i == 'Winner':\n",
    "            Won.append('Winner')\n",
    "        else:\n",
    "            Won.append('Not Winner')\n",
    "z['Won'] = Won"
   ]
  },
  {
   "cell_type": "code",
   "execution_count": 45,
   "id": "bfee68b9",
   "metadata": {},
   "outputs": [
    {
     "data": {
      "text/html": [
       "<div>\n",
       "<style scoped>\n",
       "    .dataframe tbody tr th:only-of-type {\n",
       "        vertical-align: middle;\n",
       "    }\n",
       "\n",
       "    .dataframe tbody tr th {\n",
       "        vertical-align: top;\n",
       "    }\n",
       "\n",
       "    .dataframe thead th {\n",
       "        text-align: right;\n",
       "    }\n",
       "</style>\n",
       "<table border=\"1\" class=\"dataframe\">\n",
       "  <thead>\n",
       "    <tr style=\"text-align: right;\">\n",
       "      <th></th>\n",
       "      <th>Candidate Name</th>\n",
       "      <th>District Number</th>\n",
       "      <th>Incumbent</th>\n",
       "      <th>Winner</th>\n",
       "      <th>Incumbency</th>\n",
       "      <th>Won</th>\n",
       "    </tr>\n",
       "  </thead>\n",
       "  <tbody>\n",
       "    <tr>\n",
       "      <th>0</th>\n",
       "      <td>Diana Harshbarger</td>\n",
       "      <td>01</td>\n",
       "      <td></td>\n",
       "      <td>Winner</td>\n",
       "      <td>Not Incumbent</td>\n",
       "      <td>Winner</td>\n",
       "    </tr>\n",
       "    <tr>\n",
       "      <th>1</th>\n",
       "      <td>Blair Nicole Walsingham</td>\n",
       "      <td>01</td>\n",
       "      <td></td>\n",
       "      <td></td>\n",
       "      <td>Not Incumbent</td>\n",
       "      <td>Not Winner</td>\n",
       "    </tr>\n",
       "    <tr>\n",
       "      <th>2</th>\n",
       "      <td>Tim Burchett</td>\n",
       "      <td>02</td>\n",
       "      <td>Incumbent</td>\n",
       "      <td>Winner</td>\n",
       "      <td>Incumbent</td>\n",
       "      <td>Winner</td>\n",
       "    </tr>\n",
       "    <tr>\n",
       "      <th>3</th>\n",
       "      <td>Renee Hoyos</td>\n",
       "      <td>02</td>\n",
       "      <td></td>\n",
       "      <td></td>\n",
       "      <td>Not Incumbent</td>\n",
       "      <td>Not Winner</td>\n",
       "    </tr>\n",
       "    <tr>\n",
       "      <th>4</th>\n",
       "      <td>Chuck Fleischmann</td>\n",
       "      <td>03</td>\n",
       "      <td>Incumbent</td>\n",
       "      <td>Winner</td>\n",
       "      <td>Incumbent</td>\n",
       "      <td>Winner</td>\n",
       "    </tr>\n",
       "    <tr>\n",
       "      <th>5</th>\n",
       "      <td>Meg Gorman</td>\n",
       "      <td>03</td>\n",
       "      <td></td>\n",
       "      <td></td>\n",
       "      <td>Not Incumbent</td>\n",
       "      <td>Not Winner</td>\n",
       "    </tr>\n",
       "    <tr>\n",
       "      <th>6</th>\n",
       "      <td>Scott Desjarlais</td>\n",
       "      <td>04</td>\n",
       "      <td>Incumbent</td>\n",
       "      <td>Winner</td>\n",
       "      <td>Incumbent</td>\n",
       "      <td>Winner</td>\n",
       "    </tr>\n",
       "    <tr>\n",
       "      <th>7</th>\n",
       "      <td>Christopher Hale</td>\n",
       "      <td>04</td>\n",
       "      <td></td>\n",
       "      <td></td>\n",
       "      <td>Not Incumbent</td>\n",
       "      <td>Not Winner</td>\n",
       "    </tr>\n",
       "    <tr>\n",
       "      <th>8</th>\n",
       "      <td>Jim Cooper</td>\n",
       "      <td>05</td>\n",
       "      <td>Incumbent</td>\n",
       "      <td>Winner</td>\n",
       "      <td>Incumbent</td>\n",
       "      <td>Winner</td>\n",
       "    </tr>\n",
       "    <tr>\n",
       "      <th>9</th>\n",
       "      <td>John Rose</td>\n",
       "      <td>06</td>\n",
       "      <td>Incumbent</td>\n",
       "      <td>Winner</td>\n",
       "      <td>Incumbent</td>\n",
       "      <td>Winner</td>\n",
       "    </tr>\n",
       "    <tr>\n",
       "      <th>10</th>\n",
       "      <td>Mark Green</td>\n",
       "      <td>07</td>\n",
       "      <td>Incumbent</td>\n",
       "      <td>Winner</td>\n",
       "      <td>Incumbent</td>\n",
       "      <td>Winner</td>\n",
       "    </tr>\n",
       "    <tr>\n",
       "      <th>11</th>\n",
       "      <td>Kiran Sreepada</td>\n",
       "      <td>07</td>\n",
       "      <td></td>\n",
       "      <td></td>\n",
       "      <td>Not Incumbent</td>\n",
       "      <td>Not Winner</td>\n",
       "    </tr>\n",
       "    <tr>\n",
       "      <th>12</th>\n",
       "      <td>Ronald Brown</td>\n",
       "      <td>07</td>\n",
       "      <td></td>\n",
       "      <td></td>\n",
       "      <td>Not Incumbent</td>\n",
       "      <td>Not Winner</td>\n",
       "    </tr>\n",
       "    <tr>\n",
       "      <th>13</th>\n",
       "      <td>Scott Vieira Jr</td>\n",
       "      <td>07</td>\n",
       "      <td></td>\n",
       "      <td></td>\n",
       "      <td>Not Incumbent</td>\n",
       "      <td>Not Winner</td>\n",
       "    </tr>\n",
       "    <tr>\n",
       "      <th>14</th>\n",
       "      <td>David Kustoff</td>\n",
       "      <td>08</td>\n",
       "      <td>Incumbent</td>\n",
       "      <td>Winner</td>\n",
       "      <td>Incumbent</td>\n",
       "      <td>Winner</td>\n",
       "    </tr>\n",
       "    <tr>\n",
       "      <th>15</th>\n",
       "      <td>Erika Stotts Pearson</td>\n",
       "      <td>08</td>\n",
       "      <td></td>\n",
       "      <td></td>\n",
       "      <td>Not Incumbent</td>\n",
       "      <td>Not Winner</td>\n",
       "    </tr>\n",
       "    <tr>\n",
       "      <th>16</th>\n",
       "      <td>Steve Cohen</td>\n",
       "      <td>09</td>\n",
       "      <td>Incumbent</td>\n",
       "      <td>Winner</td>\n",
       "      <td>Incumbent</td>\n",
       "      <td>Winner</td>\n",
       "    </tr>\n",
       "    <tr>\n",
       "      <th>17</th>\n",
       "      <td>Charlotte Bergmann</td>\n",
       "      <td>09</td>\n",
       "      <td></td>\n",
       "      <td></td>\n",
       "      <td>Not Incumbent</td>\n",
       "      <td>Not Winner</td>\n",
       "    </tr>\n",
       "    <tr>\n",
       "      <th>18</th>\n",
       "      <td>Dennis Clark</td>\n",
       "      <td>09</td>\n",
       "      <td></td>\n",
       "      <td></td>\n",
       "      <td>Not Incumbent</td>\n",
       "      <td>Not Winner</td>\n",
       "    </tr>\n",
       "  </tbody>\n",
       "</table>\n",
       "</div>"
      ],
      "text/plain": [
       "              Candidate Name District Number  Incumbent  Winner  \\\n",
       "0         Diana Harshbarger               01             Winner   \n",
       "1   Blair Nicole Walsingham               01                      \n",
       "2              Tim Burchett               02  Incumbent  Winner   \n",
       "3               Renee Hoyos               02                      \n",
       "4         Chuck Fleischmann               03  Incumbent  Winner   \n",
       "5                Meg Gorman               03                      \n",
       "6          Scott Desjarlais               04  Incumbent  Winner   \n",
       "7          Christopher Hale               04                      \n",
       "8                Jim Cooper               05  Incumbent  Winner   \n",
       "9                 John Rose               06  Incumbent  Winner   \n",
       "10               Mark Green               07  Incumbent  Winner   \n",
       "11           Kiran Sreepada               07                      \n",
       "12             Ronald Brown               07                      \n",
       "13          Scott Vieira Jr               07                      \n",
       "14            David Kustoff               08  Incumbent  Winner   \n",
       "15     Erika Stotts Pearson               08                      \n",
       "16              Steve Cohen               09  Incumbent  Winner   \n",
       "17       Charlotte Bergmann               09                      \n",
       "18             Dennis Clark               09                      \n",
       "\n",
       "       Incumbency         Won  \n",
       "0   Not Incumbent      Winner  \n",
       "1   Not Incumbent  Not Winner  \n",
       "2       Incumbent      Winner  \n",
       "3   Not Incumbent  Not Winner  \n",
       "4       Incumbent      Winner  \n",
       "5   Not Incumbent  Not Winner  \n",
       "6       Incumbent      Winner  \n",
       "7   Not Incumbent  Not Winner  \n",
       "8       Incumbent      Winner  \n",
       "9       Incumbent      Winner  \n",
       "10      Incumbent      Winner  \n",
       "11  Not Incumbent  Not Winner  \n",
       "12  Not Incumbent  Not Winner  \n",
       "13  Not Incumbent  Not Winner  \n",
       "14      Incumbent      Winner  \n",
       "15  Not Incumbent  Not Winner  \n",
       "16      Incumbent      Winner  \n",
       "17  Not Incumbent  Not Winner  \n",
       "18  Not Incumbent  Not Winner  "
      ]
     },
     "execution_count": 45,
     "metadata": {},
     "output_type": "execute_result"
    }
   ],
   "source": [
    "z"
   ]
  },
  {
   "cell_type": "code",
   "execution_count": 22,
   "id": "1e508be5",
   "metadata": {
    "scrolled": true
   },
   "outputs": [],
   "source": [
    "z.to_csv('test.csv')"
   ]
  },
  {
   "cell_type": "markdown",
   "id": "a7dc7f8c",
   "metadata": {},
   "source": [
    "# ALL STATES"
   ]
  },
  {
   "cell_type": "code",
   "execution_count": 66,
   "id": "9066d4a5",
   "metadata": {},
   "outputs": [
    {
     "name": "stdout",
     "output_type": "stream",
     "text": [
      "https://www.opensecrets.org/races/summary?cycle=2022&id=CA01&spec=N\n"
     ]
    }
   ],
   "source": [
    "#testing url\n",
    "state = 'CA'\n",
    "d_num = 1\n",
    "baseurl = 'https://www.opensecrets.org/races/summary?cycle=2022&id='+str(state)+'0'+str(d_num)+'&spec=N'\n",
    "r = requests.get(baseurl)\n",
    "soup = BS(r.text,'html.parser')\n",
    "print(baseurl)"
   ]
  },
  {
   "cell_type": "code",
   "execution_count": 67,
   "id": "b7f6bed3",
   "metadata": {
    "scrolled": false
   },
   "outputs": [
    {
     "ename": "NameError",
     "evalue": "name 'd_a_tags' is not defined",
     "output_type": "error",
     "traceback": [
      "\u001b[1;31m---------------------------------------------------------------------------\u001b[0m",
      "\u001b[1;31mNameError\u001b[0m                                 Traceback (most recent call last)",
      "\u001b[1;32m<ipython-input-67-ca64b4d0693b>\u001b[0m in \u001b[0;36m<module>\u001b[1;34m\u001b[0m\n\u001b[0;32m      1\u001b[0m \u001b[0ma_tags\u001b[0m \u001b[1;33m=\u001b[0m \u001b[0msoup\u001b[0m\u001b[1;33m.\u001b[0m\u001b[0mfind\u001b[0m\u001b[1;33m(\u001b[0m\u001b[1;34m'ol'\u001b[0m\u001b[1;33m,\u001b[0m\u001b[0mattrs\u001b[0m \u001b[1;33m=\u001b[0m \u001b[1;33m{\u001b[0m\u001b[1;34m'class'\u001b[0m\u001b[1;33m:\u001b[0m\u001b[1;34m'SubNav-items'\u001b[0m\u001b[1;33m}\u001b[0m\u001b[1;33m)\u001b[0m\u001b[1;33m.\u001b[0m\u001b[0mfind_all\u001b[0m\u001b[1;33m(\u001b[0m\u001b[1;34m'a'\u001b[0m\u001b[1;33m)\u001b[0m  \u001b[1;31m#Navigation showing list of districts\u001b[0m\u001b[1;33m\u001b[0m\u001b[1;33m\u001b[0m\u001b[0m\n\u001b[1;32m----> 2\u001b[1;33m \u001b[0md_a_tags\u001b[0m\u001b[1;33m\u001b[0m\u001b[1;33m\u001b[0m\u001b[0m\n\u001b[0m",
      "\u001b[1;31mNameError\u001b[0m: name 'd_a_tags' is not defined"
     ]
    }
   ],
   "source": [
    "a_tags = soup.find('ol',attrs = {'class':'SubNav-items'}).find_all('a')  #Navigation showing list of districts\n",
    "d_a_tags"
   ]
  },
  {
   "cell_type": "code",
   "execution_count": 65,
   "id": "b7a75990",
   "metadata": {},
   "outputs": [
    {
     "data": {
      "text/plain": [
       "53"
      ]
     },
     "execution_count": 65,
     "metadata": {},
     "output_type": "execute_result"
    }
   ],
   "source": [
    "d_count = 0                               #Start counting districts in state\n",
    "for i in d_a_tags:\n",
    "    if str.isdigit(i.text.strip()[-1]):   #if the last substring is a digit\n",
    "        d_count+=1                        #increase district count by 1\n",
    "    #print(i.text.strip()[-1])\n",
    "    \n",
    "d_count  "
   ]
  },
  {
   "cell_type": "code",
   "execution_count": 19,
   "id": "e7e83c97",
   "metadata": {},
   "outputs": [
    {
     "name": "stdout",
     "output_type": "stream",
     "text": [
      "https://www.opensecrets.org/races/candidates?cycle=2020&id=TN01&spec=N\n",
      "https://www.opensecrets.org/races/candidates?cycle=2020&id=TN02&spec=N\n",
      "https://www.opensecrets.org/races/candidates?cycle=2020&id=TN03&spec=N\n",
      "https://www.opensecrets.org/races/candidates?cycle=2020&id=TN04&spec=N\n",
      "https://www.opensecrets.org/races/candidates?cycle=2020&id=TN05&spec=N\n",
      "https://www.opensecrets.org/races/candidates?cycle=2020&id=TN06&spec=N\n",
      "https://www.opensecrets.org/races/candidates?cycle=2020&id=TN07&spec=N\n",
      "https://www.opensecrets.org/races/candidates?cycle=2020&id=TN08&spec=N\n",
      "https://www.opensecrets.org/races/candidates?cycle=2020&id=TN09&spec=N\n"
     ]
    }
   ],
   "source": [
    "count = 1\n",
    "\n",
    "district_num = []\n",
    "incumbent=[]\n",
    "winner=[]\n",
    "CandNames = []\n",
    "\n",
    "while count <= d_count:     #for each district number\n",
    "    url = 'https://www.opensecrets.org/races/candidates?cycle=2020&id=TN0'  + str(count) + '&spec=N'   #here's the url\n",
    "    r = requests.get(url)\n",
    "    soup = BS(r.text,'html.parser')\n",
    "    \n",
    "    print(url)\n",
    "\n",
    "    district = soup.find('h1',attrs = {'class':'Hero-title'})\n",
    "    dist_num = str(re.findall(r\"0\\d{1}\\W\", district.text)).replace(\" \", \"\").replace(\"[\", \"\").replace(\"]\", \"\").replace(\"'\", \"\")\n",
    "\n",
    "    #Find member blocks for each candidate\n",
    "    members = soup.find_all('div',attrs = {'class':'Members--list-item'})\n",
    "\n",
    "    #make list Candidates, grabs each member column with members--bio u-richtext\n",
    "    Candidates = []\n",
    "    for cand in members:\n",
    "        Candidates.append(cand.find('div', attrs = {'class' : 'Members--bio u-richtext'}))\n",
    "    \n",
    "    \n",
    "    #from Candidates, extract just the text parts inclding the candidate name and header\n",
    "    Cand_list_text = []\n",
    "    for i in Candidates:\n",
    "        Cand_list_text.append(i.get_text(strip=True))\n",
    "    \n",
    "    \n",
    "    for i in Cand_list_text:\n",
    "        winner.append(str(re.findall(r\"Winner\", i)).replace(\"[\", \"\").replace(\"]\", \"\").replace(\"'\", \"\"))\n",
    "        incumbent.append(str(re.findall(r\"Incumbent\", i)).replace(\"[\", \"\").replace(\"]\", \"\").replace(\"'\", \"\"))\n",
    "        CandNames.append(str(re.findall(r\".+\\([A-Z]\", i)).replace(\"'\", \"\").replace(\"[\", \"\").replace(\"]\", \"\").replace(\"(R\", \"\").replace(\"(D\", \"\").replace(\"(I\", \"\"))\n",
    "        district_num.append(str(re.findall(r\"0\\d{1}\\W\", district.text)).replace(\" \", \"\").replace(\"[\", \"\").replace(\"]\", \"\").replace(\"'\", \"\"))\n",
    "    \n",
    "    count+=1 # increment count"
   ]
  },
  {
   "cell_type": "code",
   "execution_count": null,
   "id": "dba49c2b",
   "metadata": {},
   "outputs": [],
   "source": []
  }
 ],
 "metadata": {
  "kernelspec": {
   "display_name": "Python 3",
   "language": "python",
   "name": "python3"
  },
  "language_info": {
   "codemirror_mode": {
    "name": "ipython",
    "version": 3
   },
   "file_extension": ".py",
   "mimetype": "text/x-python",
   "name": "python",
   "nbconvert_exporter": "python",
   "pygments_lexer": "ipython3",
   "version": "3.8.8"
  }
 },
 "nbformat": 4,
 "nbformat_minor": 5
}
