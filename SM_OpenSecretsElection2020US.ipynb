{
 "cells": [
  {
   "cell_type": "markdown",
   "id": "652f8ddf",
   "metadata": {},
   "source": [
    "### Web scrapping the https://www.opensecrets.org/races/election starting from TN district 7"
   ]
  },
  {
   "cell_type": "code",
   "execution_count": 1,
   "id": "69087d7b",
   "metadata": {},
   "outputs": [],
   "source": [
    "#Import the packages and library\n",
    "import requests\n",
    "from bs4 import BeautifulSoup as BS\n",
    "import urllib.request\n",
    "import pandas as pd\n",
    "import numpy as np\n",
    "import matplotlib.pyplot as plt\n",
    "import matplotlib as mpl\n",
    "import re\n",
    "\n",
    "%matplotlib inline\n",
    "\n",
    "import seaborn as sns\n",
    "import datetime"
   ]
  },
  {
   "cell_type": "markdown",
   "id": "f9728567",
   "metadata": {},
   "source": [
    "## Reading TN District 07"
   ]
  },
  {
   "cell_type": "code",
   "execution_count": 2,
   "id": "ef5b7701",
   "metadata": {},
   "outputs": [
    {
     "data": {
      "text/plain": [
       "<title>Tennessee District 07 2020 Race • OpenSecrets</title>"
      ]
     },
     "execution_count": 2,
     "metadata": {},
     "output_type": "execute_result"
    }
   ],
   "source": [
    "URL = 'https://www.opensecrets.org/races/candidates?cycle=2020&id=TN07&spec=N'  #URL of the webpage\n",
    "\n",
    "response = requests.get(URL)  #creating a response object pulling the URL\n",
    "type(response)       # it is a requests.status.models.Response\n",
    "response.status_code  #200 not broke read properly\n",
    "response.text         # helps open the object to see it looks\n",
    "soup = BS(response.text) #converts the response object in Beautiful object\n",
    "#print(soup.prettify()) #to visualize how the conversion looks like and be able to read the class, tab etc where are the containers\n",
    "soup.find('title')"
   ]
  },
  {
   "cell_type": "markdown",
   "id": "80bfabec",
   "metadata": {},
   "source": [
    "### we are have the soup so we can start finding the info and found out that Class 'Member--list-item' has all the members from the district contained in it."
   ]
  },
  {
   "cell_type": "code",
   "execution_count": 3,
   "id": "7ba09c7b",
   "metadata": {
    "scrolled": true
   },
   "outputs": [
    {
     "data": {
      "text/plain": [
       "'\\n\\n\\nMark Green (R) • Incumbent\\n • Winner \\n(69.9% of vote)\\n\\n\\n\\n\\nRaised:\\n$1,194,960\\n\\n\\n\\n\\n\\n\\n\\nSpent:\\n$935,487\\n\\n\\n\\n\\n\\n\\n\\nCash on Hand:\\n$287,889\\n\\n\\n\\n\\n\\n\\n\\n\\nSource of Funds\\n\\n\\n\\nType of Contribution\\nAmount\\nPercentage\\n\\n\\n\\n\\nSmall Individual Contributions (≤ $200)\\n$0\\n0.00%\\n\\n\\nLarge Individual Contributions\\n$819,151\\n68.55%\\n\\n\\nPAC Contributions*\\n$171,900\\n14.39%\\n\\n\\nCandidate self-financing\\n$0\\n0.00%\\n\\n\\nOther\\n$203,909\\n17.06%\\n\\n\\n\\nQuality of Disclosure\\n\\n\\n\\nType of Disclosure\\nAmount\\nPercentage\\n\\n\\n\\n\\nFull Disclosure\\n$1,061,024\\n98.64%\\n\\n\\nIncomplete Disclosure\\n$2,676\\n0.25%\\n\\n\\nNo Disclosure\\n$11,928\\n1.11%\\n\\n\\n\\n\\n'"
      ]
     },
     "execution_count": 3,
     "metadata": {},
     "output_type": "execute_result"
    }
   ],
   "source": [
    "#Finding all the members in the list item and \n",
    "list_item1 = soup.find('div', attrs={'class' : 'Members--list-item'}).text\n",
    "list_item1"
   ]
  },
  {
   "cell_type": "markdown",
   "id": "5dc455be",
   "metadata": {},
   "source": [
    "#### List_item1 has many \\n, , and dot that needes to be replaced so that we can run reggular expression on it so using the .replace function and assingn back to list_item1"
   ]
  },
  {
   "cell_type": "code",
   "execution_count": 4,
   "id": "427470dd",
   "metadata": {},
   "outputs": [
    {
     "data": {
      "text/plain": [
       "'   Mark Green (R)  Incumbent   Winner  (69.9% of vote)     Raised: $1194960        Spent: $935487        Cash on Hand: $287889         Source of Funds    Type of Contribution Amount Percentage     Small Individual Contributions (≤ $200) $0 0.00%   Large Individual Contributions $819151 68.55%   PAC Contributions* $171900 14.39%   Candidate self-financing $0 0.00%   Other $203909 17.06%    Quality of Disclosure    Type of Disclosure Amount Percentage     Full Disclosure $1061024 98.64%   Incomplete Disclosure $2676 0.25%   No Disclosure $11928 1.11%     '"
      ]
     },
     "execution_count": 4,
     "metadata": {},
     "output_type": "execute_result"
    }
   ],
   "source": [
    "list_item1 = list_item1.replace(\"\\n\", \" \").replace(\",\", \"\").replace(\"\\t\", \" \").replace(\"•\", \"\")\n",
    "list_item1"
   ]
  },
  {
   "cell_type": "markdown",
   "id": "eadbe463",
   "metadata": {},
   "source": [
    "#### Using regular expression and pulling out the candidate name, Party, %Votes they had, Dollars raised and Dollars Spent and figuring out if they are Winner or incumbent and putting 'Yes' if the expression is a MAtch  or 'No' if there is no match. We are creating empty list and appending the list when it moves from member to member."
   ]
  },
  {
   "cell_type": "code",
   "execution_count": 5,
   "id": "fa3da125",
   "metadata": {},
   "outputs": [
    {
     "name": "stdout",
     "output_type": "stream",
     "text": [
      "['   Mark Green ', '             Kiran Sreepada ', '             Ronald Brown ', '             Scott Vieira Jr '] ['R', 'D', 'I', 'I'] ['69.9%', '27.3%', '2.2%', '0.6%'] ['1194960', '206644', '1750', '655'] ['935487', '207191', '0', '1049'] ['Yes', 'No', 'No', 'No'] ['Yes', 'No', 'No', 'No']\n"
     ]
    }
   ],
   "source": [
    "Name = []\n",
    "Party = []\n",
    "pct_votes = []\n",
    "Raised = []\n",
    "Spent = []\n",
    "Winner = []\n",
    "Incumbent = []\n",
    "\n",
    "\n",
    "for list_item1 in soup.findAll('div', attrs={'class' : 'Members--list-item'}):\n",
    "    \n",
    "    list_item1 = list_item1.text\n",
    "\n",
    "    list_item1 = list_item1.replace(\"\\n\", \" \").replace(\",\", \"\").replace(\"\\t\", \" \").replace(\"•\", \"\")\n",
    "    \n",
    "    \n",
    "    Name.append(re.search(r\"(.+)\\(([A-Z])\\)\", list_item1)[1])\n",
    "   \n",
    "    Party.append(re.search(r\"(.+)\\(([A-Z])\\)\", list_item1)[2])\n",
    "    \n",
    "    pct_votes.append(re.search(\"\\d+\\.\\d+\\%\", list_item1)[0])\n",
    "    \n",
    "    Raised.append(re.search(r\"\\bRaised\\b\\:\\W\\$(\\d*)\", list_item1)[1])\n",
    "    \n",
    "    Spent.append(re.search(r\"\\bSpent\\b\\:\\W\\$(\\d*)\", list_item1)[1])\n",
    "    \n",
    "    x = re.search(r\"\\bWinner\", list_item1)  \n",
    "    #the search makes the word match so it stops if no match so that is why weused the append YEs or No\n",
    "    if x:\n",
    "        Winner.append(\"Yes\")\n",
    "    else:\n",
    "        Winner.append(\"No\")\n",
    "        \n",
    "    y = re.search(r\"\\bIncumbent\", list_item1)\n",
    "\n",
    "    if y:\n",
    "      Incumbent.append(\"Yes\")\n",
    "    else:\n",
    "       Incumbent.append(\"No\") \n",
    "print(Name, Party, pct_votes, Raised, Spent, Winner, Incumbent)"
   ]
  },
  {
   "cell_type": "markdown",
   "id": "14117799",
   "metadata": {},
   "source": [
    "#### Now converting these list into a Dictionary object and using that to creat the Data Frame"
   ]
  },
  {
   "cell_type": "code",
   "execution_count": 14,
   "id": "c9381662",
   "metadata": {},
   "outputs": [
    {
     "data": {
      "text/html": [
       "<div>\n",
       "<style scoped>\n",
       "    .dataframe tbody tr th:only-of-type {\n",
       "        vertical-align: middle;\n",
       "    }\n",
       "\n",
       "    .dataframe tbody tr th {\n",
       "        vertical-align: top;\n",
       "    }\n",
       "\n",
       "    .dataframe thead th {\n",
       "        text-align: right;\n",
       "    }\n",
       "</style>\n",
       "<table border=\"1\" class=\"dataframe\">\n",
       "  <thead>\n",
       "    <tr style=\"text-align: right;\">\n",
       "      <th></th>\n",
       "      <th>CandidateName</th>\n",
       "      <th>Party</th>\n",
       "      <th>PercentVotes</th>\n",
       "      <th>FundsRaised</th>\n",
       "      <th>MoneySpent</th>\n",
       "      <th>Winner</th>\n",
       "      <th>Incumbent</th>\n",
       "    </tr>\n",
       "  </thead>\n",
       "  <tbody>\n",
       "    <tr>\n",
       "      <th>0</th>\n",
       "      <td>Steve Cohen</td>\n",
       "      <td>D</td>\n",
       "      <td>77.4%</td>\n",
       "      <td>607570</td>\n",
       "      <td>457311</td>\n",
       "      <td>Yes</td>\n",
       "      <td>Yes</td>\n",
       "    </tr>\n",
       "    <tr>\n",
       "      <th>1</th>\n",
       "      <td>Charlotte Bergmann</td>\n",
       "      <td>R</td>\n",
       "      <td>20.1%</td>\n",
       "      <td>99147</td>\n",
       "      <td>100532</td>\n",
       "      <td>No</td>\n",
       "      <td>No</td>\n",
       "    </tr>\n",
       "    <tr>\n",
       "      <th>2</th>\n",
       "      <td>Dennis Clark</td>\n",
       "      <td>I</td>\n",
       "      <td>1.6%</td>\n",
       "      <td>9991</td>\n",
       "      <td>9919</td>\n",
       "      <td>No</td>\n",
       "      <td>No</td>\n",
       "    </tr>\n",
       "  </tbody>\n",
       "</table>\n",
       "</div>"
      ],
      "text/plain": [
       "                      CandidateName Party PercentVotes FundsRaised MoneySpent  \\\n",
       "0                      Steve Cohen      D        77.4%      607570     457311   \n",
       "1               Charlotte Bergmann      R        20.1%       99147     100532   \n",
       "2                     Dennis Clark      I         1.6%        9991       9919   \n",
       "\n",
       "  Winner Incumbent  \n",
       "0    Yes       Yes  \n",
       "1     No        No  \n",
       "2     No        No  "
      ]
     },
     "execution_count": 14,
     "metadata": {},
     "output_type": "execute_result"
    }
   ],
   "source": [
    "df_TN7 = {'CandidateName': Name,'Party': Party,  'PercentVotes' : pct_votes, 'FundsRaised': Raised, 'MoneySpent':Spent, \n",
    "          'Winner': Winner, 'Incumbent': Incumbent}\n",
    "pd.DataFrame(df_TN7)"
   ]
  },
  {
   "cell_type": "markdown",
   "id": "1b6854e9",
   "metadata": {},
   "source": [
    "### Trying to tanslate the above code for other districts in TN"
   ]
  },
  {
   "cell_type": "markdown",
   "id": "f1cc5b45",
   "metadata": {},
   "source": [
    "#### There is pattern in website were 'https://www.opensecrets.org/races/candidates?cycle=2020&id=TN07&spec=N' where the id=TN is the stae and 07 is the district so we are going to follow the logic and creat a variabe called state feed the state code to it and a d_num variable which will change adding 1 from the previos district number and starts with 01"
   ]
  },
  {
   "cell_type": "code",
   "execution_count": 7,
   "id": "8300a8ef",
   "metadata": {},
   "outputs": [
    {
     "name": "stdout",
     "output_type": "stream",
     "text": [
      "https://www.opensecrets.org/races/candidates?cycle=2020&id=TN01&spec=N\n"
     ]
    },
    {
     "data": {
      "text/plain": [
       "'\\n\\n\\n\\t\\t\\t\\t\\t\\t\\t\\t\\t\\tDiana Harshbarger (R)\\n • Winner \\n(74.8% of vote)\\n\\n\\n\\n\\nRaised:\\n$2,126,946\\n\\n\\n\\n\\n\\n\\n\\nSpent:\\n$1,869,100\\n\\n\\n\\n\\n\\n\\n\\nCash on Hand:\\n$257,846\\n\\n\\n\\n\\n\\n\\n\\n\\nSource of Funds\\n\\n\\n\\nType of Contribution\\nAmount\\nPercentage\\n\\n\\n\\n\\nSmall Individual Contributions (≤ $200)\\n$44,239\\n2.08%\\n\\n\\nLarge Individual Contributions\\n$315,489\\n14.83%\\n\\n\\nPAC Contributions*\\n$222,800\\n10.48%\\n\\n\\nCandidate self-financing\\n$1,461,293\\n68.70%\\n\\n\\nOther\\n$83,124\\n3.91%\\n\\n\\n\\nQuality of Disclosure\\n\\n\\n\\nType of Disclosure\\nAmount\\nPercentage\\n\\n\\n\\n\\nFull Disclosure\\n$185,473\\n94.33%\\n\\n\\nIncomplete Disclosure\\n$2,800\\n1.42%\\n\\n\\nNo Disclosure\\n$8,350\\n4.25%\\n\\n\\n\\n\\n'"
      ]
     },
     "execution_count": 7,
     "metadata": {},
     "output_type": "execute_result"
    }
   ],
   "source": [
    "state = 'TN'\n",
    "d_num = 1\n",
    "\n",
    "#this URL is different for races/summary we need the races/candidates instead for picking the candidates\n",
    "#URLX = 'https://www.opensecrets.org/races/summary?cycle=2022&id='+str(state)+'0'+str(d_num)+'&spec=N'  #URL of the webpage\n",
    "#URLX = 'https://www.opensecrets.org/races/summary?cycle=2022&id=TN02&spec=N'\n",
    "\n",
    "#URLOX = 'https://www.opensecrets.org/races/candidates?cycle=2020&id=TN01&spec=N'\n",
    "URLOX1 = 'https://www.opensecrets.org/races/candidates?cycle=2020&id=TN06&spec=N'\n",
    "\n",
    "URLOX = 'https://www.opensecrets.org/races/candidates?cycle=2020&id='+str(state)+'0'+str(d_num)+'&spec=N'\n",
    "print(URLOX)\n",
    "\n",
    "responseX = requests.get(URLOX)  #creating a response object pulling the URL\n",
    "type(responseX)       # it is a requests.status.models.Response\n",
    "\n",
    "responseX.status_code  #200 not broke read properly\n",
    "responseX.text         # helps open the object to see it looks\n",
    "soupX = BS(responseX.text, 'html.parser') #converts the response object in Beautiful object\n",
    "#print(soup.prettify())\n",
    "soupX.find('title')\n",
    "\n",
    "list_itemX = soupX.find('div', attrs={'class' : 'Members--list-item'}).text\n",
    "#list_itemX = list_itemX.replace(\"\\n\", \" \").replace(\",\", \"\").replace(\"\\t\", \" \").replace(\"•\", \"\")\n",
    "\n",
    "list_itemX\n",
    "\n"
   ]
  },
  {
   "cell_type": "code",
   "execution_count": 17,
   "id": "b4bf60c1",
   "metadata": {},
   "outputs": [
    {
     "name": "stdout",
     "output_type": "stream",
     "text": [
      "['   Steve Cohen ', '             Charlotte Bergmann ', '             Dennis Clark '] ['D', 'R', 'I'] ['77.4%', '20.1%', '1.6%'] ['607570', '99147', '9991'] ['457311', '100532', '9919'] ['Yes', 'No', 'No'] ['Yes', 'No', 'No']\n"
     ]
    },
    {
     "data": {
      "text/html": [
       "<div>\n",
       "<style scoped>\n",
       "    .dataframe tbody tr th:only-of-type {\n",
       "        vertical-align: middle;\n",
       "    }\n",
       "\n",
       "    .dataframe tbody tr th {\n",
       "        vertical-align: top;\n",
       "    }\n",
       "\n",
       "    .dataframe thead th {\n",
       "        text-align: right;\n",
       "    }\n",
       "</style>\n",
       "<table border=\"1\" class=\"dataframe\">\n",
       "  <thead>\n",
       "    <tr style=\"text-align: right;\">\n",
       "      <th></th>\n",
       "      <th>CandidateName</th>\n",
       "      <th>Party</th>\n",
       "      <th>PercentVotes</th>\n",
       "      <th>FundsRaised</th>\n",
       "      <th>MoneySpent</th>\n",
       "      <th>Winner</th>\n",
       "      <th>Incumbent</th>\n",
       "    </tr>\n",
       "  </thead>\n",
       "  <tbody>\n",
       "    <tr>\n",
       "      <th>0</th>\n",
       "      <td>Steve Cohen</td>\n",
       "      <td>D</td>\n",
       "      <td>77.4%</td>\n",
       "      <td>607570</td>\n",
       "      <td>457311</td>\n",
       "      <td>Yes</td>\n",
       "      <td>Yes</td>\n",
       "    </tr>\n",
       "    <tr>\n",
       "      <th>1</th>\n",
       "      <td>Charlotte Bergmann</td>\n",
       "      <td>R</td>\n",
       "      <td>20.1%</td>\n",
       "      <td>99147</td>\n",
       "      <td>100532</td>\n",
       "      <td>No</td>\n",
       "      <td>No</td>\n",
       "    </tr>\n",
       "    <tr>\n",
       "      <th>2</th>\n",
       "      <td>Dennis Clark</td>\n",
       "      <td>I</td>\n",
       "      <td>1.6%</td>\n",
       "      <td>9991</td>\n",
       "      <td>9919</td>\n",
       "      <td>No</td>\n",
       "      <td>No</td>\n",
       "    </tr>\n",
       "  </tbody>\n",
       "</table>\n",
       "</div>"
      ],
      "text/plain": [
       "                      CandidateName Party PercentVotes FundsRaised MoneySpent  \\\n",
       "0                      Steve Cohen      D        77.4%      607570     457311   \n",
       "1               Charlotte Bergmann      R        20.1%       99147     100532   \n",
       "2                     Dennis Clark      I         1.6%        9991       9919   \n",
       "\n",
       "  Winner Incumbent  \n",
       "0    Yes       Yes  \n",
       "1     No        No  \n",
       "2     No        No  "
      ]
     },
     "execution_count": 17,
     "metadata": {},
     "output_type": "execute_result"
    }
   ],
   "source": [
    "Name = []\n",
    "Party = []\n",
    "pct_votes = []\n",
    "Raised = []\n",
    "Spent = []\n",
    "Winner = []\n",
    "Incumbent = []\n",
    "\n",
    "\n",
    "for list_itemX in soupX.findAll('div', attrs={'class' : 'Members--list-item'}):\n",
    "    \n",
    "    list_itemX = list_itemX.text\n",
    "\n",
    "    list_itemX = list_itemX.replace(\"\\n\", \" \").replace(\",\", \"\").replace(\"\\t\", \" \").replace(\"•\", \"\")\n",
    "    \n",
    "    \n",
    "    Name.append(re.search(r\"(.+)\\(([A-Z])\\)\", list_itemX)[1])\n",
    "   \n",
    "    Party.append(re.search(r\"(.+)\\(([A-Z])\\)\", list_itemX)[2])\n",
    "    \n",
    "    pct_votes.append(re.search(\"\\d+\\.\\d+\\%\", list_itemX)[0])\n",
    "    \n",
    "    Raised.append(re.search(r\"\\bRaised\\b\\:\\W\\$(\\d*)\", list_itemX)[1])\n",
    "    \n",
    "    Spent.append(re.search(r\"\\bSpent\\b\\:\\W\\$(\\d*)\", list_itemX)[1])\n",
    "    \n",
    "    x = re.search(r\"\\bWinner\", list_itemX)  \n",
    "    #the search makes the word match so it stops if no match so that is why weused the append YEs or No\n",
    "    if x:\n",
    "        Winner.append(\"Yes\")\n",
    "    else:\n",
    "        Winner.append(\"No\")\n",
    "        \n",
    "    y = re.search(r\"\\bIncumbent\", list_itemX)\n",
    "\n",
    "    if y:\n",
    "      Incumbent.append(\"Yes\")\n",
    "    else:\n",
    "       Incumbent.append(\"No\") \n",
    "print(Name, Party, pct_votes, Raised, Spent, Winner, Incumbent)\n",
    "\n",
    "df_TN1 = {'CandidateName': Name,'Party': Party,  'PercentVotes' : pct_votes, 'FundsRaised': Raised, 'MoneySpent':Spent, \n",
    "          'Winner': Winner, 'Incumbent': Incumbent}\n",
    "TN_01 = pd.DataFrame(df_TN1)\n",
    "TN_01.head()\n",
    "\n"
   ]
  },
  {
   "cell_type": "markdown",
   "id": "d61a694b",
   "metadata": {},
   "source": [
    "## Automating the system for reading all the districts and creating the Soup"
   ]
  },
  {
   "cell_type": "code",
   "execution_count": 9,
   "id": "199d16b9",
   "metadata": {},
   "outputs": [
    {
     "data": {
      "text/plain": [
       "9"
      ]
     },
     "execution_count": 9,
     "metadata": {},
     "output_type": "execute_result"
    }
   ],
   "source": [
    "\n",
    "d = soupX.find('ol',attrs = {'class':'SubNav-items'}) \n",
    "a_tags = d.find_all('a')\n",
    "a_tags\n",
    "\n",
    "d_count = 0                               #Start counting districts in state\n",
    "for i in a_tags:\n",
    "    if str.isdigit(i.text.strip()[-1]):   #if the last substring is a digit\n",
    "        d_count+=1                        #increase district count by 1\n",
    "    #print(i.text.strip()[-1])\n",
    "    \n",
    "d_count"
   ]
  },
  {
   "cell_type": "code",
   "execution_count": 12,
   "id": "285190c2",
   "metadata": {},
   "outputs": [
    {
     "name": "stdout",
     "output_type": "stream",
     "text": [
      "https://www.opensecrets.org/races/candidates?cycle=2020&id=TN01&spec=N\n",
      "https://www.opensecrets.org/races/candidates?cycle=2020&id=TN02&spec=N\n",
      "https://www.opensecrets.org/races/candidates?cycle=2020&id=TN03&spec=N\n",
      "https://www.opensecrets.org/races/candidates?cycle=2020&id=TN04&spec=N\n",
      "https://www.opensecrets.org/races/candidates?cycle=2020&id=TN05&spec=N\n",
      "https://www.opensecrets.org/races/candidates?cycle=2020&id=TN06&spec=N\n",
      "https://www.opensecrets.org/races/candidates?cycle=2020&id=TN07&spec=N\n",
      "https://www.opensecrets.org/races/candidates?cycle=2020&id=TN08&spec=N\n",
      "https://www.opensecrets.org/races/candidates?cycle=2020&id=TN09&spec=N\n"
     ]
    }
   ],
   "source": [
    "state = 'TN'\n",
    "\n",
    "count = 1\n",
    "\n",
    "Name = []\n",
    "Party = []\n",
    "pct_votes = []\n",
    "Raised = []\n",
    "Spent = []\n",
    "Winner = []\n",
    "Incumbent = []\n",
    "\n",
    "\n",
    "\n",
    "while count <= d_count:     #for each district number\n",
    "    url = 'https://www.opensecrets.org/races/candidates?cycle=2020&id='+str(state)+'0'+str(count)+ '&spec=N'   #here's the url\n",
    "    r = requests.get(url)    \n",
    "    #soup = BS(r.text,'html.parser')\n",
    "    soupX = BS(r.text)\n",
    "    \n",
    "    print(url)\n",
    "    \n",
    "    Name = []\n",
    "    Party = []\n",
    "    pct_votes = []\n",
    "    Raised = []\n",
    "    Spent = []\n",
    "    Winner = []\n",
    "    Incumbent = []\n",
    "    \n",
    "    for list_itemY in soupX.find('div', attrs={'class' : 'Members--list-item'}):\n",
    "    \n",
    "        list_itemY = list_itemY.text\n",
    "\n",
    "        list_itemY = list_itemY.replace(\"\\n\", \" \").replace(\",\", \"\").replace(\"\\t\", \" \").replace(\"•\", \"\")    \n",
    "\n",
    "        type(list_itemY)\n",
    "        \n",
    "    count+=1 # increment count\n",
    "\n",
    "\n"
   ]
  },
  {
   "cell_type": "code",
   "execution_count": 11,
   "id": "a2433956",
   "metadata": {},
   "outputs": [
    {
     "data": {
      "text/plain": [
       "'   Steve Cohen '"
      ]
     },
     "execution_count": 11,
     "metadata": {},
     "output_type": "execute_result"
    }
   ],
   "source": [
    "xyz = soupX.find('div', attrs={'class' : 'Members--list-item'})\n",
    "xyz = (xyz.text).replace(\"\\n\", \" \").replace(\",\", \"\").replace(\"\\t\", \" \").replace(\"•\", \"\")\n",
    "Name = re.search(r\"(.+)\\(([A-Z])\\)\", xyz)[1]\n",
    "type(xyz)\n",
    "xyz\n",
    "Name"
   ]
  },
  {
   "cell_type": "code",
   "execution_count": null,
   "id": "4bf73571",
   "metadata": {},
   "outputs": [],
   "source": [
    "URL = 'https://www.opensecrets.org/races/candidates?cycle=2020&id=TN06&spec=N'\n",
    "\n",
    "URLOX = 'https://www.opensecrets.org/races/candidates?cycle=2020&id='+str(state)+str(d_num)+'&spec=N'\n",
    "print(URLOX)"
   ]
  },
  {
   "cell_type": "code",
   "execution_count": 18,
   "id": "e6409b0a",
   "metadata": {},
   "outputs": [
    {
     "name": "stdout",
     "output_type": "stream",
     "text": [
      "https://www.opensecrets.org/races/candidates?cycle=2020&id=TN02&spec=N\n"
     ]
    },
    {
     "data": {
      "text/plain": [
       "'\\n\\n\\nTim Burchett (R) • Incumbent\\n • Winner \\n(67.7% of vote)\\n\\n\\n\\n\\nRaised:\\n$1,336,276\\n\\n\\n\\n\\n\\n\\n\\nSpent:\\n$878,488\\n\\n\\n\\n\\n\\n\\n\\nCash on Hand:\\n$593,678\\n\\n\\n\\n\\n\\n\\n\\n\\nSource of Funds\\n\\n\\n\\nType of Contribution\\nAmount\\nPercentage\\n\\n\\n\\n\\nSmall Individual Contributions (≤ $200)\\n$343,014\\n25.67%\\n\\n\\nLarge Individual Contributions\\n$729,831\\n54.62%\\n\\n\\nPAC Contributions*\\n$269,535\\n20.17%\\n\\n\\nCandidate self-financing\\n$0\\n0.00%\\n\\n\\nOther\\n-$6,105\\n-0.46%\\n\\n\\n\\nQuality of Disclosure\\n\\n\\n\\nType of Disclosure\\nAmount\\nPercentage\\n\\n\\n\\n\\nFull Disclosure\\n$708,346\\n99.09%\\n\\n\\nIncomplete Disclosure\\n$5,250\\n0.73%\\n\\n\\nNo Disclosure\\n$1,250\\n0.17%\\n\\n\\n\\n\\n'"
      ]
     },
     "execution_count": 18,
     "metadata": {},
     "output_type": "execute_result"
    }
   ],
   "source": [
    "state = 'TN'\n",
    "d_num = 2\n",
    "\n",
    "#this URL is different for races/summary we need the races/candidates instead for picking the candidates\n",
    "#URLX = 'https://www.opensecrets.org/races/summary?cycle=2022&id='+str(state)+'0'+str(d_num)+'&spec=N'  #URL of the webpage\n",
    "#URLX = 'https://www.opensecrets.org/races/summary?cycle=2022&id=TN02&spec=N'\n",
    "\n",
    "#URLOX = 'https://www.opensecrets.org/races/candidates?cycle=2020&id=TN01&spec=N'\n",
    "URLOX1 = 'https://www.opensecrets.org/races/candidates?cycle=2020&id=TN06&spec=N'\n",
    "\n",
    "URLOX = 'https://www.opensecrets.org/races/candidates?cycle=2020&id='+str(state)+'0'+str(d_num)+'&spec=N'\n",
    "print(URLOX)\n",
    "\n",
    "responseX = requests.get(URLOX)  #creating a response object pulling the URL\n",
    "type(responseX)       # it is a requests.status.models.Response\n",
    "\n",
    "responseX.status_code  #200 not broke read properly\n",
    "responseX.text         # helps open the object to see it looks\n",
    "soupX = BS(responseX.text, 'html.parser') #converts the response object in Beautiful object\n",
    "#print(soup.prettify())\n",
    "soupX.find('title')\n",
    "\n",
    "list_itemX = soupX.find('div', attrs={'class' : 'Members--list-item'}).text\n",
    "#list_itemX = list_itemX.replace(\"\\n\", \" \").replace(\",\", \"\").replace(\"\\t\", \" \").replace(\"•\", \"\")\n",
    "\n",
    "list_itemX\n"
   ]
  },
  {
   "cell_type": "code",
   "execution_count": 19,
   "id": "567f6993",
   "metadata": {},
   "outputs": [
    {
     "name": "stdout",
     "output_type": "stream",
     "text": [
      "['   Tim Burchett ', '             Renee Hoyos '] ['R', 'D'] ['67.7%', '31.0%'] ['1336276', '812784'] ['878488', '816793'] ['Yes', 'No'] ['Yes', 'No']\n"
     ]
    },
    {
     "data": {
      "text/html": [
       "<div>\n",
       "<style scoped>\n",
       "    .dataframe tbody tr th:only-of-type {\n",
       "        vertical-align: middle;\n",
       "    }\n",
       "\n",
       "    .dataframe tbody tr th {\n",
       "        vertical-align: top;\n",
       "    }\n",
       "\n",
       "    .dataframe thead th {\n",
       "        text-align: right;\n",
       "    }\n",
       "</style>\n",
       "<table border=\"1\" class=\"dataframe\">\n",
       "  <thead>\n",
       "    <tr style=\"text-align: right;\">\n",
       "      <th></th>\n",
       "      <th>CandidateName</th>\n",
       "      <th>Party</th>\n",
       "      <th>PercentVotes</th>\n",
       "      <th>FundsRaised</th>\n",
       "      <th>MoneySpent</th>\n",
       "      <th>Winner</th>\n",
       "      <th>Incumbent</th>\n",
       "    </tr>\n",
       "  </thead>\n",
       "  <tbody>\n",
       "    <tr>\n",
       "      <th>0</th>\n",
       "      <td>Steve Cohen</td>\n",
       "      <td>D</td>\n",
       "      <td>77.4%</td>\n",
       "      <td>607570</td>\n",
       "      <td>457311</td>\n",
       "      <td>Yes</td>\n",
       "      <td>Yes</td>\n",
       "    </tr>\n",
       "    <tr>\n",
       "      <th>1</th>\n",
       "      <td>Charlotte Bergmann</td>\n",
       "      <td>R</td>\n",
       "      <td>20.1%</td>\n",
       "      <td>99147</td>\n",
       "      <td>100532</td>\n",
       "      <td>No</td>\n",
       "      <td>No</td>\n",
       "    </tr>\n",
       "    <tr>\n",
       "      <th>2</th>\n",
       "      <td>Dennis Clark</td>\n",
       "      <td>I</td>\n",
       "      <td>1.6%</td>\n",
       "      <td>9991</td>\n",
       "      <td>9919</td>\n",
       "      <td>No</td>\n",
       "      <td>No</td>\n",
       "    </tr>\n",
       "  </tbody>\n",
       "</table>\n",
       "</div>"
      ],
      "text/plain": [
       "                      CandidateName Party PercentVotes FundsRaised MoneySpent  \\\n",
       "0                      Steve Cohen      D        77.4%      607570     457311   \n",
       "1               Charlotte Bergmann      R        20.1%       99147     100532   \n",
       "2                     Dennis Clark      I         1.6%        9991       9919   \n",
       "\n",
       "  Winner Incumbent  \n",
       "0    Yes       Yes  \n",
       "1     No        No  \n",
       "2     No        No  "
      ]
     },
     "execution_count": 19,
     "metadata": {},
     "output_type": "execute_result"
    }
   ],
   "source": [
    "Name = []\n",
    "Party = []\n",
    "pct_votes = []\n",
    "Raised = []\n",
    "Spent = []\n",
    "Winner = []\n",
    "Incumbent = []\n",
    "\n",
    "\n",
    "for list_itemX in soupX.findAll('div', attrs={'class' : 'Members--list-item'}):\n",
    "    \n",
    "    list_itemX = list_itemX.text\n",
    "\n",
    "    list_itemX = list_itemX.replace(\"\\n\", \" \").replace(\",\", \"\").replace(\"\\t\", \" \").replace(\"•\", \"\")\n",
    "    \n",
    "    \n",
    "    Name.append(re.search(r\"(.+)\\(([A-Z])\\)\", list_itemX)[1])\n",
    "   \n",
    "    Party.append(re.search(r\"(.+)\\(([A-Z])\\)\", list_itemX)[2])\n",
    "    \n",
    "    pct_votes.append(re.search(\"\\d+\\.\\d+\\%\", list_itemX)[0])\n",
    "    \n",
    "    Raised.append(re.search(r\"\\bRaised\\b\\:\\W\\$(\\d*)\", list_itemX)[1])\n",
    "    \n",
    "    Spent.append(re.search(r\"\\bSpent\\b\\:\\W\\$(\\d*)\", list_itemX)[1])\n",
    "    \n",
    "    x = re.search(r\"\\bWinner\", list_itemX)  \n",
    "    #the search makes the word match so it stops if no match so that is why weused the append YEs or No\n",
    "    if x:\n",
    "        Winner.append(\"Yes\")\n",
    "    else:\n",
    "        Winner.append(\"No\")\n",
    "        \n",
    "    y = re.search(r\"\\bIncumbent\", list_itemX)\n",
    "\n",
    "    if y:\n",
    "      Incumbent.append(\"Yes\")\n",
    "    else:\n",
    "       Incumbent.append(\"No\") \n",
    "print(Name, Party, pct_votes, Raised, Spent, Winner, Incumbent)\n",
    "\n",
    "df_TN2 = {'CandidateName': Name,'Party': Party,  'PercentVotes' : pct_votes, 'FundsRaised': Raised, 'MoneySpent':Spent, \n",
    "          'Winner': Winner, 'Incumbent': Incumbent}\n",
    "TN_02 = pd.DataFrame(df_TN1)\n",
    "TN_02.head()\n"
   ]
  },
  {
   "cell_type": "code",
   "execution_count": 42,
   "id": "574b3eb7",
   "metadata": {},
   "outputs": [
    {
     "ename": "IndentationError",
     "evalue": "expected an indented block (4287901567.py, line 5)",
     "output_type": "error",
     "traceback": [
      "\u001b[1;36m  Input \u001b[1;32mIn [42]\u001b[1;36m\u001b[0m\n\u001b[1;33m    #print(str(key) + \" \" + str(i))\u001b[0m\n\u001b[1;37m                                   ^\u001b[0m\n\u001b[1;31mIndentationError\u001b[0m\u001b[1;31m:\u001b[0m expected an indented block\n"
     ]
    }
   ],
   "source": [
    "state = {'TN': 9, 'CAL':53}\n",
    "\n",
    "for key, value in state.items():\n",
    "    for i in range(1, value+1):\n",
    "        #print(str(key) + \" \" + str(i))"
   ]
  },
  {
   "cell_type": "code",
   "execution_count": 40,
   "id": "cc7dc396",
   "metadata": {},
   "outputs": [
    {
     "data": {
      "text/html": [
       "<div>\n",
       "<style scoped>\n",
       "    .dataframe tbody tr th:only-of-type {\n",
       "        vertical-align: middle;\n",
       "    }\n",
       "\n",
       "    .dataframe tbody tr th {\n",
       "        vertical-align: top;\n",
       "    }\n",
       "\n",
       "    .dataframe thead th {\n",
       "        text-align: right;\n",
       "    }\n",
       "</style>\n",
       "<table border=\"1\" class=\"dataframe\">\n",
       "  <thead>\n",
       "    <tr style=\"text-align: right;\">\n",
       "      <th></th>\n",
       "      <th>State</th>\n",
       "      <th>District</th>\n",
       "      <th>CandidateName</th>\n",
       "      <th>Party</th>\n",
       "      <th>PercentVotes</th>\n",
       "      <th>FundsRaised</th>\n",
       "      <th>MoneySpent</th>\n",
       "      <th>Winner</th>\n",
       "      <th>Incumbent</th>\n",
       "    </tr>\n",
       "  </thead>\n",
       "  <tbody>\n",
       "    <tr>\n",
       "      <th>0</th>\n",
       "      <td>TN</td>\n",
       "      <td>01</td>\n",
       "      <td>Diana Harshbarger</td>\n",
       "      <td>R</td>\n",
       "      <td>74.8%</td>\n",
       "      <td>2126946</td>\n",
       "      <td>1869100</td>\n",
       "      <td>Yes</td>\n",
       "      <td>No</td>\n",
       "    </tr>\n",
       "    <tr>\n",
       "      <th>1</th>\n",
       "      <td>TN</td>\n",
       "      <td>01</td>\n",
       "      <td>Blair Nicole Walsingham</td>\n",
       "      <td>D</td>\n",
       "      <td>22.4%</td>\n",
       "      <td>140209</td>\n",
       "      <td>134995</td>\n",
       "      <td>No</td>\n",
       "      <td>No</td>\n",
       "    </tr>\n",
       "    <tr>\n",
       "      <th>2</th>\n",
       "      <td>TN</td>\n",
       "      <td>02</td>\n",
       "      <td>Tim Burchett</td>\n",
       "      <td>R</td>\n",
       "      <td>67.7%</td>\n",
       "      <td>1336276</td>\n",
       "      <td>878488</td>\n",
       "      <td>Yes</td>\n",
       "      <td>Yes</td>\n",
       "    </tr>\n",
       "    <tr>\n",
       "      <th>3</th>\n",
       "      <td>TN</td>\n",
       "      <td>02</td>\n",
       "      <td>Renee Hoyos</td>\n",
       "      <td>D</td>\n",
       "      <td>31.0%</td>\n",
       "      <td>812784</td>\n",
       "      <td>816793</td>\n",
       "      <td>No</td>\n",
       "      <td>No</td>\n",
       "    </tr>\n",
       "    <tr>\n",
       "      <th>4</th>\n",
       "      <td>TN</td>\n",
       "      <td>03</td>\n",
       "      <td>Chuck Fleischmann</td>\n",
       "      <td>R</td>\n",
       "      <td>67.3%</td>\n",
       "      <td>1051653</td>\n",
       "      <td>381411</td>\n",
       "      <td>Yes</td>\n",
       "      <td>Yes</td>\n",
       "    </tr>\n",
       "  </tbody>\n",
       "</table>\n",
       "</div>"
      ],
      "text/plain": [
       "  State District                          CandidateName Party PercentVotes  \\\n",
       "0    TN       01                     Diana Harshbarger      R        74.8%   \n",
       "1    TN       01               Blair Nicole Walsingham      D        22.4%   \n",
       "2    TN       02                          Tim Burchett      R        67.7%   \n",
       "3    TN       02                           Renee Hoyos      D        31.0%   \n",
       "4    TN       03                     Chuck Fleischmann      R        67.3%   \n",
       "\n",
       "  FundsRaised MoneySpent Winner Incumbent  \n",
       "0     2126946    1869100    Yes        No  \n",
       "1      140209     134995     No        No  \n",
       "2     1336276     878488    Yes       Yes  \n",
       "3      812784     816793     No        No  \n",
       "4     1051653     381411    Yes       Yes  "
      ]
     },
     "execution_count": 40,
     "metadata": {},
     "output_type": "execute_result"
    }
   ],
   "source": [
    "Name = []\n",
    "Party = []\n",
    "pct_votes = []\n",
    "Raised = []\n",
    "Spent = []\n",
    "Winner = []\n",
    "Incumbent = []\n",
    "ST = []\n",
    "ST_DIT = []\n",
    "\n",
    "\n",
    "for key, value in state.items():\n",
    "    for i in range(1, value+1):\n",
    "        #print(str(key) + \" \" + str(i))\n",
    "        url = 'https://www.opensecrets.org/races/candidates?cycle=2020&id='+ key+ f\"{i:02}\"+'&spec=N'\n",
    "        #print(url)\n",
    "        \n",
    "        res1 = requests.get(url)  #creating a response object pulling the URL\n",
    "        type(res1)       # it is a requests.status.models.Response\n",
    "\n",
    "        res1.status_code  #200 not broke read properly\n",
    "        res1.text         # helps open the object to see it looks\n",
    "        soupX = BS(res1.text, 'html.parser') #converts the response object in Beautiful object\n",
    "        #print(soup.prettify())\n",
    "        soupX.find('title')\n",
    "\n",
    "        #list_itemX = soupX.find('div', attrs={'class' : 'Members--list-item'}).text\n",
    "        #list_itemX = list_itemX.replace(\"\\n\", \" \").replace(\",\", \"\").replace(\"\\t\", \" \").replace(\"•\", \"\")\n",
    "\n",
    "        #print(list_itemX)\n",
    "        for list_itemX in soupX.findAll('div', attrs={'class' : 'Members--list-item'}):\n",
    "    \n",
    "            list_itemX = list_itemX.text\n",
    "\n",
    "            list_itemX = list_itemX.replace(\"\\n\", \" \").replace(\",\", \"\").replace(\"\\t\", \" \").replace(\"•\", \"\")\n",
    "            \n",
    "            ST.append(key)\n",
    "            ST_DIT.append(f\"{i:02}\")\n",
    "    \n",
    "    \n",
    "            Name.append(re.search(r\"(.+)\\(([A-Z])\\)\", list_itemX)[1])\n",
    "   \n",
    "            Party.append(re.search(r\"(.+)\\(([A-Z])\\)\", list_itemX)[2])\n",
    "\n",
    "            pct_votes.append(re.search(\"\\d+\\.\\d+\\%\", list_itemX)[0])\n",
    "\n",
    "            Raised.append(re.search(r\"\\bRaised\\b\\:\\W\\$(\\d*)\", list_itemX)[1])\n",
    "\n",
    "            Spent.append(re.search(r\"\\bSpent\\b\\:\\W\\$(\\d*)\", list_itemX)[1])\n",
    "\n",
    "            x = re.search(r\"\\bWinner\", list_itemX)  \n",
    "            #the search makes the word match so it stops if no match so that is why weused the append YEs or No\n",
    "            if x:\n",
    "                Winner.append(\"Yes\")\n",
    "            else:\n",
    "                Winner.append(\"No\")\n",
    "\n",
    "            y = re.search(r\"\\bIncumbent\", list_itemX)\n",
    "\n",
    "            if y:\n",
    "              Incumbent.append(\"Yes\")\n",
    "            else:\n",
    "               Incumbent.append(\"No\") \n",
    "#print(Name, Party, pct_votes, Raised, Spent, Winner, Incumbent, ST, ST_DIT)\n",
    "\n",
    "dic_list = {'State':ST, 'District':ST_DIT, 'CandidateName': Name,'Party': Party,  'PercentVotes' : pct_votes, 'FundsRaised': Raised, 'MoneySpent':Spent, \n",
    "          'Winner': Winner, 'Incumbent': Incumbent}\n",
    "TN_CA = pd.DataFrame(dic_list)\n",
    "TN_CA.head()"
   ]
  },
  {
   "cell_type": "code",
   "execution_count": 41,
   "id": "afa99ff8",
   "metadata": {},
   "outputs": [
    {
     "data": {
      "text/plain": [
       "(125, 9)"
      ]
     },
     "execution_count": 41,
     "metadata": {},
     "output_type": "execute_result"
    }
   ],
   "source": [
    "TN_CA.shape"
   ]
  },
  {
   "cell_type": "code",
   "execution_count": null,
   "id": "289ce9bf",
   "metadata": {},
   "outputs": [],
   "source": [
    "You can achieve this using formatted string\n",
    "num = 1\n",
    "number = f\"{num:02}\"\n",
    "--------------\n",
    "output:\n",
    "\"01\""
   ]
  },
  {
   "cell_type": "code",
   "execution_count": null,
   "id": "1d4c3538",
   "metadata": {},
   "outputs": [],
   "source": []
  }
 ],
 "metadata": {
  "kernelspec": {
   "display_name": "Python 3 (ipykernel)",
   "language": "python",
   "name": "python3"
  },
  "language_info": {
   "codemirror_mode": {
    "name": "ipython",
    "version": 3
   },
   "file_extension": ".py",
   "mimetype": "text/x-python",
   "name": "python",
   "nbconvert_exporter": "python",
   "pygments_lexer": "ipython3",
   "version": "3.9.12"
  }
 },
 "nbformat": 4,
 "nbformat_minor": 5
}
