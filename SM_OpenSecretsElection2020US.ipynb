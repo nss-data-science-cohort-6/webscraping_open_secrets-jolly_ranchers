{
 "cells": [
  {
   "cell_type": "markdown",
   "id": "c9e266ec",
   "metadata": {},
   "source": [
    "### Web scrapping the https://www.opensecrets.org/races/election starting from TN district 7"
   ]
  },
  {
   "cell_type": "code",
   "execution_count": 1,
   "id": "2ae33816",
   "metadata": {},
   "outputs": [],
   "source": [
    "#Import the packages and library\n",
    "import requests\n",
    "from bs4 import BeautifulSoup as BS\n",
    "import urllib.request\n",
    "import pandas as pd\n",
    "import numpy as np\n",
    "import matplotlib.pyplot as plt\n",
    "import matplotlib as mpl\n",
    "import re\n",
    "\n",
    "%matplotlib inline\n",
    "\n",
    "import seaborn as sns\n",
    "import datetime"
   ]
  },
  {
   "cell_type": "markdown",
   "id": "42b03c3b",
   "metadata": {},
   "source": [
    "## Reading TN District 07"
   ]
  },
  {
   "cell_type": "code",
   "execution_count": 2,
   "id": "02d61af8",
   "metadata": {},
   "outputs": [
    {
     "data": {
      "text/plain": [
       "<title>Tennessee District 07 2020 Race • OpenSecrets</title>"
      ]
     },
     "execution_count": 2,
     "metadata": {},
     "output_type": "execute_result"
    }
   ],
   "source": [
    "URL = 'https://www.opensecrets.org/races/candidates?cycle=2020&id=TN07&spec=N'  #URL of the webpage\n",
    "\n",
    "response = requests.get(URL)  #creating a response object pulling the URL\n",
    "type(response)       # it is a requests.status.models.Response\n",
    "response.status_code  #200 not broke read properly\n",
    "response.text         # helps open the object to see it looks\n",
    "soup = BS(response.text) #converts the response object in Beautiful object\n",
    "#print(soup.prettify()) #to visualize how the conversion looks like and be able to read the class, tab etc where are the containers\n",
    "soup.find('title')"
   ]
  },
  {
   "cell_type": "markdown",
   "id": "546f14ec",
   "metadata": {},
   "source": [
    "### we are have the soup so we can start finding the info and found out that Class 'Member--list-item' has all the members from the district contained in it."
   ]
  },
  {
   "cell_type": "code",
   "execution_count": 3,
   "id": "1b431ea3",
   "metadata": {
    "scrolled": true
   },
   "outputs": [
    {
     "data": {
      "text/plain": [
       "'\\n\\n\\nMark Green (R) • Incumbent\\n • Winner \\n(69.9% of vote)\\n\\n\\n\\n\\nRaised:\\n$1,194,960\\n\\n\\n\\n\\n\\n\\n\\nSpent:\\n$935,487\\n\\n\\n\\n\\n\\n\\n\\nCash on Hand:\\n$287,889\\n\\n\\n\\n\\n\\n\\n\\n\\nSource of Funds\\n\\n\\n\\nType of Contribution\\nAmount\\nPercentage\\n\\n\\n\\n\\nSmall Individual Contributions (≤ $200)\\n$0\\n0.00%\\n\\n\\nLarge Individual Contributions\\n$819,151\\n68.55%\\n\\n\\nPAC Contributions*\\n$171,900\\n14.39%\\n\\n\\nCandidate self-financing\\n$0\\n0.00%\\n\\n\\nOther\\n$203,909\\n17.06%\\n\\n\\n\\nQuality of Disclosure\\n\\n\\n\\nType of Disclosure\\nAmount\\nPercentage\\n\\n\\n\\n\\nFull Disclosure\\n$1,061,024\\n98.64%\\n\\n\\nIncomplete Disclosure\\n$2,676\\n0.25%\\n\\n\\nNo Disclosure\\n$11,928\\n1.11%\\n\\n\\n\\n\\n'"
      ]
     },
     "execution_count": 3,
     "metadata": {},
     "output_type": "execute_result"
    }
   ],
   "source": [
    "#Finding all the members in the list item and \n",
    "list_item1 = soup.find('div', attrs={'class' : 'Members--list-item'}).text\n",
    "list_item1"
   ]
  },
  {
   "cell_type": "markdown",
   "id": "1bc866a6",
   "metadata": {},
   "source": [
    "#### List_item1 has many \\n, , and dot that needes to be replaced so that we can run reggular expression on it so using the .replace function and assingn back to list_item1"
   ]
  },
  {
   "cell_type": "code",
   "execution_count": 4,
   "id": "86217f65",
   "metadata": {},
   "outputs": [
    {
     "data": {
      "text/plain": [
       "'   Mark Green (R)  Incumbent   Winner  (69.9% of vote)     Raised: $1194960        Spent: $935487        Cash on Hand: $287889         Source of Funds    Type of Contribution Amount Percentage     Small Individual Contributions (≤ $200) $0 0.00%   Large Individual Contributions $819151 68.55%   PAC Contributions* $171900 14.39%   Candidate self-financing $0 0.00%   Other $203909 17.06%    Quality of Disclosure    Type of Disclosure Amount Percentage     Full Disclosure $1061024 98.64%   Incomplete Disclosure $2676 0.25%   No Disclosure $11928 1.11%     '"
      ]
     },
     "execution_count": 4,
     "metadata": {},
     "output_type": "execute_result"
    }
   ],
   "source": [
    "list_item1 = list_item1.replace(\"\\n\", \" \").replace(\",\", \"\").replace(\"\\t\", \" \").replace(\"•\", \"\")\n",
    "list_item1"
   ]
  },
  {
   "cell_type": "markdown",
   "id": "54ff0ad4",
   "metadata": {},
   "source": [
    "#### Using regular expression and pulling out the candidate name, Party, %Votes they had, Dollars raised and Dollars Spent and figuring out if they are Winner or incumbent and putting 'Yes' if the expression is a MAtch  or 'No' if there is no match. We are creating empty list and appending the list when it moves from member to member."
   ]
  },
  {
   "cell_type": "code",
   "execution_count": 5,
   "id": "f2d92740",
   "metadata": {},
   "outputs": [
    {
     "name": "stdout",
     "output_type": "stream",
     "text": [
      "['   Mark Green ', '             Kiran Sreepada ', '             Ronald Brown ', '             Scott Vieira Jr '] ['R', 'D', 'I', 'I'] ['69.9%', '27.3%', '2.2%', '0.6%'] ['1194960', '206644', '1750', '655'] ['935487', '207191', '0', '1049'] ['Yes', 'No', 'No', 'No'] ['Yes', 'No', 'No', 'No']\n"
     ]
    }
   ],
   "source": [
    "Name = []\n",
    "Party = []\n",
    "pct_votes = []\n",
    "Raised = []\n",
    "Spent = []\n",
    "Winner = []\n",
    "Incumbent = []\n",
    "\n",
    "\n",
    "for list_item1 in soup.findAll('div', attrs={'class' : 'Members--list-item'}):\n",
    "    \n",
    "    list_item1 = list_item1.text\n",
    "\n",
    "    list_item1 = list_item1.replace(\"\\n\", \" \").replace(\",\", \"\").replace(\"\\t\", \" \").replace(\"•\", \"\")\n",
    "    \n",
    "    \n",
    "    Name.append(re.search(r\"(.+)\\(([A-Z])\\)\", list_item1)[1])\n",
    "   \n",
    "    Party.append(re.search(r\"(.+)\\(([A-Z])\\)\", list_item1)[2])\n",
    "    \n",
    "    pct_votes.append(re.search(\"\\d+\\.\\d+\\%\", list_item1)[0])\n",
    "    \n",
    "    Raised.append(re.search(r\"\\bRaised\\b\\:\\W\\$(\\d*)\", list_item1)[1])\n",
    "    \n",
    "    Spent.append(re.search(r\"\\bSpent\\b\\:\\W\\$(\\d*)\", list_item1)[1])\n",
    "    \n",
    "    x = re.search(r\"\\bWinner\", list_item1)  \n",
    "    #the search makes the word match so it stops if no match so that is why weused the append YEs or No\n",
    "    if x:\n",
    "        Winner.append(\"Yes\")\n",
    "    else:\n",
    "        Winner.append(\"No\")\n",
    "        \n",
    "    y = re.search(r\"\\bIncumbent\", list_item1)\n",
    "\n",
    "    if y:\n",
    "      Incumbent.append(\"Yes\")\n",
    "    else:\n",
    "       Incumbent.append(\"No\") \n",
    "print(Name, Party, pct_votes, Raised, Spent, Winner, Incumbent)"
   ]
  },
  {
   "cell_type": "markdown",
   "id": "9e1120b4",
   "metadata": {},
   "source": [
    "#### Now converting these list into a Dictionary object and using that to creat the Data Frame"
   ]
  },
  {
   "cell_type": "code",
   "execution_count": 6,
   "id": "5faaaa3b",
   "metadata": {},
   "outputs": [
    {
     "data": {
      "text/html": [
       "<div>\n",
       "<style scoped>\n",
       "    .dataframe tbody tr th:only-of-type {\n",
       "        vertical-align: middle;\n",
       "    }\n",
       "\n",
       "    .dataframe tbody tr th {\n",
       "        vertical-align: top;\n",
       "    }\n",
       "\n",
       "    .dataframe thead th {\n",
       "        text-align: right;\n",
       "    }\n",
       "</style>\n",
       "<table border=\"1\" class=\"dataframe\">\n",
       "  <thead>\n",
       "    <tr style=\"text-align: right;\">\n",
       "      <th></th>\n",
       "      <th>CandidateName</th>\n",
       "      <th>Party</th>\n",
       "      <th>PercentVotes</th>\n",
       "      <th>FundsRaised</th>\n",
       "      <th>MoneySpent</th>\n",
       "      <th>Winner</th>\n",
       "      <th>Incumbent</th>\n",
       "    </tr>\n",
       "  </thead>\n",
       "  <tbody>\n",
       "    <tr>\n",
       "      <th>0</th>\n",
       "      <td>Mark Green</td>\n",
       "      <td>R</td>\n",
       "      <td>69.9%</td>\n",
       "      <td>1194960</td>\n",
       "      <td>935487</td>\n",
       "      <td>Yes</td>\n",
       "      <td>Yes</td>\n",
       "    </tr>\n",
       "    <tr>\n",
       "      <th>1</th>\n",
       "      <td>Kiran Sreepada</td>\n",
       "      <td>D</td>\n",
       "      <td>27.3%</td>\n",
       "      <td>206644</td>\n",
       "      <td>207191</td>\n",
       "      <td>No</td>\n",
       "      <td>No</td>\n",
       "    </tr>\n",
       "    <tr>\n",
       "      <th>2</th>\n",
       "      <td>Ronald Brown</td>\n",
       "      <td>I</td>\n",
       "      <td>2.2%</td>\n",
       "      <td>1750</td>\n",
       "      <td>0</td>\n",
       "      <td>No</td>\n",
       "      <td>No</td>\n",
       "    </tr>\n",
       "    <tr>\n",
       "      <th>3</th>\n",
       "      <td>Scott Vieira Jr</td>\n",
       "      <td>I</td>\n",
       "      <td>0.6%</td>\n",
       "      <td>655</td>\n",
       "      <td>1049</td>\n",
       "      <td>No</td>\n",
       "      <td>No</td>\n",
       "    </tr>\n",
       "  </tbody>\n",
       "</table>\n",
       "</div>"
      ],
      "text/plain": [
       "                   CandidateName Party PercentVotes FundsRaised MoneySpent  \\\n",
       "0                    Mark Green      R        69.9%     1194960     935487   \n",
       "1                Kiran Sreepada      D        27.3%      206644     207191   \n",
       "2                  Ronald Brown      I         2.2%        1750          0   \n",
       "3               Scott Vieira Jr      I         0.6%         655       1049   \n",
       "\n",
       "  Winner Incumbent  \n",
       "0    Yes       Yes  \n",
       "1     No        No  \n",
       "2     No        No  \n",
       "3     No        No  "
      ]
     },
     "execution_count": 6,
     "metadata": {},
     "output_type": "execute_result"
    }
   ],
   "source": [
    "df_TN7 = {'CandidateName': Name,'Party': Party,  'PercentVotes' : pct_votes, 'FundsRaised': Raised, 'MoneySpent':Spent, \n",
    "          'Winner': Winner, 'Incumbent': Incumbent}\n",
    "pd.DataFrame(df_TN7)"
   ]
  },
  {
   "cell_type": "markdown",
   "id": "7c9bc135",
   "metadata": {},
   "source": [
    "### Trying to tanslate the above code for other districts in TN"
   ]
  },
  {
   "cell_type": "markdown",
   "id": "b75dfc9d",
   "metadata": {},
   "source": [
    "#### There is pattern in website were 'https://www.opensecrets.org/races/candidates?cycle=2020&id=TN07&spec=N' where the id=TN is the stae and 07 is the district so we are going to follow the logic and creat a variabe called state feed the state code to it and a d_num variable which will change adding 1 from the previos district number and starts with 01"
   ]
  },
  {
   "cell_type": "code",
   "execution_count": 7,
   "id": "368eb587",
   "metadata": {},
   "outputs": [
    {
     "name": "stdout",
     "output_type": "stream",
     "text": [
      "https://www.opensecrets.org/races/candidates?cycle=2020&id=TN01&spec=N\n"
     ]
    },
    {
     "data": {
      "text/plain": [
       "'\\n\\n\\n\\t\\t\\t\\t\\t\\t\\t\\t\\t\\tDiana Harshbarger (R)\\n • Winner \\n(74.8% of vote)\\n\\n\\n\\n\\nRaised:\\n$2,126,946\\n\\n\\n\\n\\n\\n\\n\\nSpent:\\n$1,869,100\\n\\n\\n\\n\\n\\n\\n\\nCash on Hand:\\n$257,846\\n\\n\\n\\n\\n\\n\\n\\n\\nSource of Funds\\n\\n\\n\\nType of Contribution\\nAmount\\nPercentage\\n\\n\\n\\n\\nSmall Individual Contributions (≤ $200)\\n$44,239\\n2.08%\\n\\n\\nLarge Individual Contributions\\n$315,489\\n14.83%\\n\\n\\nPAC Contributions*\\n$222,800\\n10.48%\\n\\n\\nCandidate self-financing\\n$1,461,293\\n68.70%\\n\\n\\nOther\\n$83,124\\n3.91%\\n\\n\\n\\nQuality of Disclosure\\n\\n\\n\\nType of Disclosure\\nAmount\\nPercentage\\n\\n\\n\\n\\nFull Disclosure\\n$185,473\\n94.33%\\n\\n\\nIncomplete Disclosure\\n$2,800\\n1.42%\\n\\n\\nNo Disclosure\\n$8,350\\n4.25%\\n\\n\\n\\n\\n'"
      ]
     },
     "execution_count": 7,
     "metadata": {},
     "output_type": "execute_result"
    }
   ],
   "source": [
    "state = 'TN'\n",
    "d_num = 1\n",
    "\n",
    "#this URL is different for races/summary we need the races/candidates instead for picking the candidates\n",
    "#URLX = 'https://www.opensecrets.org/races/summary?cycle=2022&id='+str(state)+'0'+str(d_num)+'&spec=N'  #URL of the webpage\n",
    "#URLX = 'https://www.opensecrets.org/races/summary?cycle=2022&id=TN02&spec=N'\n",
    "\n",
    "#URLOX = 'https://www.opensecrets.org/races/candidates?cycle=2020&id=TN01&spec=N'\n",
    "URLOX1 = 'https://www.opensecrets.org/races/candidates?cycle=2020&id=TN06&spec=N'\n",
    "\n",
    "URLOX = 'https://www.opensecrets.org/races/candidates?cycle=2020&id='+str(state)+'0'+str(d_num)+'&spec=N'\n",
    "print(URLOX)\n",
    "\n",
    "responseX = requests.get(URLOX)  #creating a response object pulling the URL\n",
    "type(responseX)       # it is a requests.status.models.Response\n",
    "\n",
    "responseX.status_code  #200 not broke read properly\n",
    "responseX.text         # helps open the object to see it looks\n",
    "soupX = BS(responseX.text, 'html.parser') #converts the response object in Beautiful object\n",
    "#print(soup.prettify())\n",
    "soupX.find('title')\n",
    "\n",
    "list_itemX = soupX.find('div', attrs={'class' : 'Members--list-item'}).text\n",
    "#list_itemX = list_itemX.replace(\"\\n\", \" \").replace(\",\", \"\").replace(\"\\t\", \" \").replace(\"•\", \"\")\n",
    "\n",
    "list_itemX\n",
    "\n"
   ]
  },
  {
   "cell_type": "code",
   "execution_count": 10,
   "id": "39298da7",
   "metadata": {},
   "outputs": [
    {
     "name": "stdout",
     "output_type": "stream",
     "text": [
      "['             Diana Harshbarger ', '             Blair Nicole Walsingham '] ['R', 'D'] ['74.8%', '22.4%'] ['2126946', '140209'] ['1869100', '134995'] ['Yes', 'No'] ['No', 'No']\n"
     ]
    },
    {
     "data": {
      "text/html": [
       "<div>\n",
       "<style scoped>\n",
       "    .dataframe tbody tr th:only-of-type {\n",
       "        vertical-align: middle;\n",
       "    }\n",
       "\n",
       "    .dataframe tbody tr th {\n",
       "        vertical-align: top;\n",
       "    }\n",
       "\n",
       "    .dataframe thead th {\n",
       "        text-align: right;\n",
       "    }\n",
       "</style>\n",
       "<table border=\"1\" class=\"dataframe\">\n",
       "  <thead>\n",
       "    <tr style=\"text-align: right;\">\n",
       "      <th></th>\n",
       "      <th>CandidateName</th>\n",
       "      <th>Party</th>\n",
       "      <th>PercentVotes</th>\n",
       "      <th>FundsRaised</th>\n",
       "      <th>MoneySpent</th>\n",
       "      <th>Winner</th>\n",
       "      <th>Incumbent</th>\n",
       "    </tr>\n",
       "  </thead>\n",
       "  <tbody>\n",
       "    <tr>\n",
       "      <th>0</th>\n",
       "      <td>Diana Harshbarger</td>\n",
       "      <td>R</td>\n",
       "      <td>74.8%</td>\n",
       "      <td>2126946</td>\n",
       "      <td>1869100</td>\n",
       "      <td>Yes</td>\n",
       "      <td>No</td>\n",
       "    </tr>\n",
       "    <tr>\n",
       "      <th>1</th>\n",
       "      <td>Blair Nicole Walsingham</td>\n",
       "      <td>D</td>\n",
       "      <td>22.4%</td>\n",
       "      <td>140209</td>\n",
       "      <td>134995</td>\n",
       "      <td>No</td>\n",
       "      <td>No</td>\n",
       "    </tr>\n",
       "  </tbody>\n",
       "</table>\n",
       "</div>"
      ],
      "text/plain": [
       "                           CandidateName Party PercentVotes FundsRaised  \\\n",
       "0                     Diana Harshbarger      R        74.8%     2126946   \n",
       "1               Blair Nicole Walsingham      D        22.4%      140209   \n",
       "\n",
       "  MoneySpent Winner Incumbent  \n",
       "0    1869100    Yes        No  \n",
       "1     134995     No        No  "
      ]
     },
     "execution_count": 10,
     "metadata": {},
     "output_type": "execute_result"
    }
   ],
   "source": [
    "Name = []\n",
    "Party = []\n",
    "pct_votes = []\n",
    "Raised = []\n",
    "Spent = []\n",
    "Winner = []\n",
    "Incumbent = []\n",
    "\n",
    "\n",
    "for list_itemX in soupX.findAll('div', attrs={'class' : 'Members--list-item'}):\n",
    "    \n",
    "    list_itemX = list_itemX.text\n",
    "\n",
    "    list_itemX = list_itemX.replace(\"\\n\", \" \").replace(\",\", \"\").replace(\"\\t\", \" \").replace(\"•\", \"\")\n",
    "    \n",
    "    \n",
    "    Name.append(re.search(r\"(.+)\\(([A-Z])\\)\", list_itemX)[1])\n",
    "   \n",
    "    Party.append(re.search(r\"(.+)\\(([A-Z])\\)\", list_itemX)[2])\n",
    "    \n",
    "    pct_votes.append(re.search(\"\\d+\\.\\d+\\%\", list_itemX)[0])\n",
    "    \n",
    "    Raised.append(re.search(r\"\\bRaised\\b\\:\\W\\$(\\d*)\", list_itemX)[1])\n",
    "    \n",
    "    Spent.append(re.search(r\"\\bSpent\\b\\:\\W\\$(\\d*)\", list_itemX)[1])\n",
    "    \n",
    "    x = re.search(r\"\\bWinner\", list_itemX)  \n",
    "    #the search makes the word match so it stops if no match so that is why weused the append YEs or No\n",
    "    if x:\n",
    "        Winner.append(\"Yes\")\n",
    "    else:\n",
    "        Winner.append(\"No\")\n",
    "        \n",
    "    y = re.search(r\"\\bIncumbent\", list_itemX)\n",
    "\n",
    "    if y:\n",
    "      Incumbent.append(\"Yes\")\n",
    "    else:\n",
    "       Incumbent.append(\"No\") \n",
    "print(Name, Party, pct_votes, Raised, Spent, Winner, Incumbent)\n",
    "\n",
    "df_TN1 = {'CandidateName': Name,'Party': Party,  'PercentVotes' : pct_votes, 'FundsRaised': Raised, 'MoneySpent':Spent, \n",
    "          'Winner': Winner, 'Incumbent': Incumbent}\n",
    "pd.DataFrame(df_TN1)"
   ]
  },
  {
   "cell_type": "code",
   "execution_count": null,
   "id": "f9335635",
   "metadata": {},
   "outputs": [],
   "source": []
  }
 ],
 "metadata": {
  "kernelspec": {
   "display_name": "Python 3 (ipykernel)",
   "language": "python",
   "name": "python3"
  },
  "language_info": {
   "codemirror_mode": {
    "name": "ipython",
    "version": 3
   },
   "file_extension": ".py",
   "mimetype": "text/x-python",
   "name": "python",
   "nbconvert_exporter": "python",
   "pygments_lexer": "ipython3",
   "version": "3.9.12"
  }
 },
 "nbformat": 4,
 "nbformat_minor": 5
}
